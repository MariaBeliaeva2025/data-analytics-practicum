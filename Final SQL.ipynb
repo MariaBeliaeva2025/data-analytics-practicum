{
 "cells": [
  {
   "cell_type": "markdown",
   "metadata": {},
   "source": [
    "# Проект по SQL"
   ]
  },
  {
   "cell_type": "markdown",
   "metadata": {},
   "source": [
    "Коронавирус застал мир врасплох, изменив привычный порядок вещей. На какое-то время жители городов перестали выходить на улицу, посещать кафе и торговые центры. Зато стало больше времени для книг. Это заметили стартаперы — и бросились создавать приложения для тех, кто любит читать.\n",
    "\n",
    "\n",
    "Компания купила крупный сервис для чтения книг по подписке. \n",
    "\n",
    "**Задача проекта** — проанализировать базу данных сервиса для чтения книг по подписке для выбора стратегии развития бизнеса."
   ]
  },
  {
   "cell_type": "markdown",
   "metadata": {},
   "source": [
    "**Описание данных:**\n",
    "\n",
    "\n",
    "***Таблица books***\n",
    "\n",
    "Содержит данные о книгах:\n",
    "\n",
    "- book_id — идентификатор книги;\n",
    "- author_id — идентификатор автора;\n",
    "- title — название книги;\n",
    "- num_pages — количество страниц;\n",
    "- publication_date — дата публикации книги;\n",
    "- publisher_id — идентификатор издателя.\n",
    "\n",
    "\n",
    "***Таблица authors***\n",
    "\n",
    "Содержит данные об авторах:\n",
    "\n",
    "- author_id — идентификатор автора;\n",
    "- author — имя автора.\n",
    "\n",
    "\n",
    "***Таблица publishers***\n",
    "\n",
    "Содержит данные об издательствах:\n",
    "\n",
    "- publisher_id — идентификатор издательства;\n",
    "- publisher — название издательства;\n",
    "\n",
    "\n",
    "***Таблица ratings***\n",
    "\n",
    "Содержит данные о пользовательских оценках книг:\n",
    "\n",
    "- rating_id — идентификатор оценки;\n",
    "- book_id — идентификатор книги;\n",
    "- username — имя пользователя, оставившего оценку;\n",
    "- rating — оценка книги.\n",
    "\n",
    "\n",
    "***Таблица reviews***\n",
    "\n",
    "Содержит данные о пользовательских обзорах:\n",
    "\n",
    "- review_id — идентификатор обзора;\n",
    "- book_id — идентификатор книги;\n",
    "- username — имя автора обзора;\n",
    "- text — текст обзора."
   ]
  },
  {
   "cell_type": "markdown",
   "metadata": {},
   "source": [
    "**План проекта:**\n",
    "1. Исследовать таблицы, вывести первые строки.\n",
    "2. Посчитать, сколько книг вышло после 1 января 2000 года;\n",
    "3. Для каждой книги посчитать количество обзоров и среднюю оценку;\n",
    "4. Определить издательство, которое выпустило наибольшее число книг толще 50 страниц (исключить из анализа брошюры);\n",
    "5. Определить автора с самой высокой средней оценкой книг — учитывайте только книги с 50 и более оценками;\n",
    "6. Посчитать среднее количество обзоров от пользователей, которые поставили больше 48 оценок."
   ]
  },
  {
   "cell_type": "code",
   "execution_count": 1,
   "metadata": {},
   "outputs": [],
   "source": [
    "# импортируем библиотеки\n",
    "import pandas as pd\n",
    "import sqlalchemy as sa\n",
    "# устанавливаем параметры\n",
    "db_config = {\n",
    "'user': 'praktikum_student', # имя пользователя\n",
    "'pwd': 'Sdf4$2;d-d30pp', # пароль\n",
    "'host': 'rc1b-wcoijxj3yxfsf3fs.mdb.yandexcloud.net',\n",
    "'port': 6432, # порт подключения\n",
    "'db': 'data-analyst-final-project-db' # название базы данных\n",
    "}\n",
    "connection_string = 'postgresql://{user}:{pwd}@{host}:{port}/{db}'.format(**db_config)\n",
    "# сохраняем коннектор\n",
    "engine = sa.create_engine(connection_string, connect_args={'sslmode':'require'})\n",
    "# чтобы выполнить SQL-запрос, пишем функцию с использованием Pandas\n",
    "def get_sql_data(query:str, engine:sa.engine.base.Engine=engine) -> pd.DataFrame:\n",
    "   '''Открываем соединение, получаем данные из sql, закрываем соединение'''\n",
    "   with engine.connect() as con:\n",
    "    return pd.read_sql(sql=sa.text(query), con = con)# формируем запрос и выводим данные\n"
   ]
  },
  {
   "cell_type": "markdown",
   "metadata": {},
   "source": [
    "## Исследуем таблицы, выведем первые строки."
   ]
  },
  {
   "cell_type": "markdown",
   "metadata": {},
   "source": [
    "### Таблица books"
   ]
  },
  {
   "cell_type": "code",
   "execution_count": 2,
   "metadata": {},
   "outputs": [
    {
     "data": {
      "text/html": [
       "<div>\n",
       "<style scoped>\n",
       "    .dataframe tbody tr th:only-of-type {\n",
       "        vertical-align: middle;\n",
       "    }\n",
       "\n",
       "    .dataframe tbody tr th {\n",
       "        vertical-align: top;\n",
       "    }\n",
       "\n",
       "    .dataframe thead th {\n",
       "        text-align: right;\n",
       "    }\n",
       "</style>\n",
       "<table border=\"1\" class=\"dataframe\">\n",
       "  <thead>\n",
       "    <tr style=\"text-align: right;\">\n",
       "      <th></th>\n",
       "      <th>book_id</th>\n",
       "      <th>author_id</th>\n",
       "      <th>title</th>\n",
       "      <th>num_pages</th>\n",
       "      <th>publication_date</th>\n",
       "      <th>publisher_id</th>\n",
       "    </tr>\n",
       "  </thead>\n",
       "  <tbody>\n",
       "    <tr>\n",
       "      <th>0</th>\n",
       "      <td>1</td>\n",
       "      <td>546</td>\n",
       "      <td>'Salem's Lot</td>\n",
       "      <td>594</td>\n",
       "      <td>2005-11-01</td>\n",
       "      <td>93</td>\n",
       "    </tr>\n",
       "    <tr>\n",
       "      <th>1</th>\n",
       "      <td>2</td>\n",
       "      <td>465</td>\n",
       "      <td>1 000 Places to See Before You Die</td>\n",
       "      <td>992</td>\n",
       "      <td>2003-05-22</td>\n",
       "      <td>336</td>\n",
       "    </tr>\n",
       "    <tr>\n",
       "      <th>2</th>\n",
       "      <td>3</td>\n",
       "      <td>407</td>\n",
       "      <td>13 Little Blue Envelopes (Little Blue Envelope...</td>\n",
       "      <td>322</td>\n",
       "      <td>2010-12-21</td>\n",
       "      <td>135</td>\n",
       "    </tr>\n",
       "    <tr>\n",
       "      <th>3</th>\n",
       "      <td>4</td>\n",
       "      <td>82</td>\n",
       "      <td>1491: New Revelations of the Americas Before C...</td>\n",
       "      <td>541</td>\n",
       "      <td>2006-10-10</td>\n",
       "      <td>309</td>\n",
       "    </tr>\n",
       "    <tr>\n",
       "      <th>4</th>\n",
       "      <td>5</td>\n",
       "      <td>125</td>\n",
       "      <td>1776</td>\n",
       "      <td>386</td>\n",
       "      <td>2006-07-04</td>\n",
       "      <td>268</td>\n",
       "    </tr>\n",
       "  </tbody>\n",
       "</table>\n",
       "</div>"
      ],
      "text/plain": [
       "   book_id  author_id                                              title  \\\n",
       "0        1        546                                       'Salem's Lot   \n",
       "1        2        465                 1 000 Places to See Before You Die   \n",
       "2        3        407  13 Little Blue Envelopes (Little Blue Envelope...   \n",
       "3        4         82  1491: New Revelations of the Americas Before C...   \n",
       "4        5        125                                               1776   \n",
       "\n",
       "   num_pages publication_date  publisher_id  \n",
       "0        594       2005-11-01            93  \n",
       "1        992       2003-05-22           336  \n",
       "2        322       2010-12-21           135  \n",
       "3        541       2006-10-10           309  \n",
       "4        386       2006-07-04           268  "
      ]
     },
     "execution_count": 2,
     "metadata": {},
     "output_type": "execute_result"
    }
   ],
   "source": [
    "query = '''SELECT * \n",
    "           FROM books \n",
    "           LIMIT 5;'''\n",
    "get_sql_data(query)\n"
   ]
  },
  {
   "cell_type": "code",
   "execution_count": 3,
   "metadata": {},
   "outputs": [
    {
     "data": {
      "text/html": [
       "<div>\n",
       "<style scoped>\n",
       "    .dataframe tbody tr th:only-of-type {\n",
       "        vertical-align: middle;\n",
       "    }\n",
       "\n",
       "    .dataframe tbody tr th {\n",
       "        vertical-align: top;\n",
       "    }\n",
       "\n",
       "    .dataframe thead th {\n",
       "        text-align: right;\n",
       "    }\n",
       "</style>\n",
       "<table border=\"1\" class=\"dataframe\">\n",
       "  <thead>\n",
       "    <tr style=\"text-align: right;\">\n",
       "      <th></th>\n",
       "      <th>count</th>\n",
       "    </tr>\n",
       "  </thead>\n",
       "  <tbody>\n",
       "    <tr>\n",
       "      <th>0</th>\n",
       "      <td>1000</td>\n",
       "    </tr>\n",
       "  </tbody>\n",
       "</table>\n",
       "</div>"
      ],
      "text/plain": [
       "   count\n",
       "0   1000"
      ]
     },
     "execution_count": 3,
     "metadata": {},
     "output_type": "execute_result"
    }
   ],
   "source": [
    "query = '''SELECT COUNT(*) \n",
    "               FROM books;'''\n",
    "get_sql_data(query)"
   ]
  },
  {
   "cell_type": "markdown",
   "metadata": {},
   "source": [
    "В таблице books представлена информация о 1000 книг (название, количество страниц, дата публикации, идентификаторы книга, автора и издателя)"
   ]
  },
  {
   "cell_type": "markdown",
   "metadata": {},
   "source": [
    "### Таблица authors"
   ]
  },
  {
   "cell_type": "code",
   "execution_count": 4,
   "metadata": {},
   "outputs": [
    {
     "data": {
      "text/html": [
       "<div>\n",
       "<style scoped>\n",
       "    .dataframe tbody tr th:only-of-type {\n",
       "        vertical-align: middle;\n",
       "    }\n",
       "\n",
       "    .dataframe tbody tr th {\n",
       "        vertical-align: top;\n",
       "    }\n",
       "\n",
       "    .dataframe thead th {\n",
       "        text-align: right;\n",
       "    }\n",
       "</style>\n",
       "<table border=\"1\" class=\"dataframe\">\n",
       "  <thead>\n",
       "    <tr style=\"text-align: right;\">\n",
       "      <th></th>\n",
       "      <th>author_id</th>\n",
       "      <th>author</th>\n",
       "    </tr>\n",
       "  </thead>\n",
       "  <tbody>\n",
       "    <tr>\n",
       "      <th>0</th>\n",
       "      <td>1</td>\n",
       "      <td>A.S. Byatt</td>\n",
       "    </tr>\n",
       "    <tr>\n",
       "      <th>1</th>\n",
       "      <td>2</td>\n",
       "      <td>Aesop/Laura Harris/Laura Gibbs</td>\n",
       "    </tr>\n",
       "    <tr>\n",
       "      <th>2</th>\n",
       "      <td>3</td>\n",
       "      <td>Agatha Christie</td>\n",
       "    </tr>\n",
       "    <tr>\n",
       "      <th>3</th>\n",
       "      <td>4</td>\n",
       "      <td>Alan Brennert</td>\n",
       "    </tr>\n",
       "    <tr>\n",
       "      <th>4</th>\n",
       "      <td>5</td>\n",
       "      <td>Alan Moore/David   Lloyd</td>\n",
       "    </tr>\n",
       "  </tbody>\n",
       "</table>\n",
       "</div>"
      ],
      "text/plain": [
       "   author_id                          author\n",
       "0          1                      A.S. Byatt\n",
       "1          2  Aesop/Laura Harris/Laura Gibbs\n",
       "2          3                 Agatha Christie\n",
       "3          4                   Alan Brennert\n",
       "4          5        Alan Moore/David   Lloyd"
      ]
     },
     "execution_count": 4,
     "metadata": {},
     "output_type": "execute_result"
    }
   ],
   "source": [
    "query = '''SELECT * \n",
    "           FROM authors \n",
    "           LIMIT 5;'''\n",
    "get_sql_data(query)"
   ]
  },
  {
   "cell_type": "code",
   "execution_count": 5,
   "metadata": {},
   "outputs": [
    {
     "data": {
      "text/html": [
       "<div>\n",
       "<style scoped>\n",
       "    .dataframe tbody tr th:only-of-type {\n",
       "        vertical-align: middle;\n",
       "    }\n",
       "\n",
       "    .dataframe tbody tr th {\n",
       "        vertical-align: top;\n",
       "    }\n",
       "\n",
       "    .dataframe thead th {\n",
       "        text-align: right;\n",
       "    }\n",
       "</style>\n",
       "<table border=\"1\" class=\"dataframe\">\n",
       "  <thead>\n",
       "    <tr style=\"text-align: right;\">\n",
       "      <th></th>\n",
       "      <th>count</th>\n",
       "    </tr>\n",
       "  </thead>\n",
       "  <tbody>\n",
       "    <tr>\n",
       "      <th>0</th>\n",
       "      <td>636</td>\n",
       "    </tr>\n",
       "  </tbody>\n",
       "</table>\n",
       "</div>"
      ],
      "text/plain": [
       "   count\n",
       "0    636"
      ]
     },
     "execution_count": 5,
     "metadata": {},
     "output_type": "execute_result"
    }
   ],
   "source": [
    "query = '''SELECT COUNT(*) \n",
    "               FROM authors;''' \n",
    "get_sql_data(query)"
   ]
  },
  {
   "cell_type": "markdown",
   "metadata": {},
   "source": [
    "Представлено 636 авторов."
   ]
  },
  {
   "cell_type": "markdown",
   "metadata": {},
   "source": [
    "### Таблица publishers"
   ]
  },
  {
   "cell_type": "code",
   "execution_count": 6,
   "metadata": {},
   "outputs": [
    {
     "data": {
      "text/html": [
       "<div>\n",
       "<style scoped>\n",
       "    .dataframe tbody tr th:only-of-type {\n",
       "        vertical-align: middle;\n",
       "    }\n",
       "\n",
       "    .dataframe tbody tr th {\n",
       "        vertical-align: top;\n",
       "    }\n",
       "\n",
       "    .dataframe thead th {\n",
       "        text-align: right;\n",
       "    }\n",
       "</style>\n",
       "<table border=\"1\" class=\"dataframe\">\n",
       "  <thead>\n",
       "    <tr style=\"text-align: right;\">\n",
       "      <th></th>\n",
       "      <th>publisher_id</th>\n",
       "      <th>publisher</th>\n",
       "    </tr>\n",
       "  </thead>\n",
       "  <tbody>\n",
       "    <tr>\n",
       "      <th>0</th>\n",
       "      <td>1</td>\n",
       "      <td>Ace</td>\n",
       "    </tr>\n",
       "    <tr>\n",
       "      <th>1</th>\n",
       "      <td>2</td>\n",
       "      <td>Ace Book</td>\n",
       "    </tr>\n",
       "    <tr>\n",
       "      <th>2</th>\n",
       "      <td>3</td>\n",
       "      <td>Ace Books</td>\n",
       "    </tr>\n",
       "    <tr>\n",
       "      <th>3</th>\n",
       "      <td>4</td>\n",
       "      <td>Ace Hardcover</td>\n",
       "    </tr>\n",
       "    <tr>\n",
       "      <th>4</th>\n",
       "      <td>5</td>\n",
       "      <td>Addison Wesley Publishing Company</td>\n",
       "    </tr>\n",
       "  </tbody>\n",
       "</table>\n",
       "</div>"
      ],
      "text/plain": [
       "   publisher_id                          publisher\n",
       "0             1                                Ace\n",
       "1             2                           Ace Book\n",
       "2             3                          Ace Books\n",
       "3             4                      Ace Hardcover\n",
       "4             5  Addison Wesley Publishing Company"
      ]
     },
     "execution_count": 6,
     "metadata": {},
     "output_type": "execute_result"
    }
   ],
   "source": [
    "query = '''SELECT * \n",
    "           FROM publishers \n",
    "           LIMIT 5;'''\n",
    "get_sql_data(query)"
   ]
  },
  {
   "cell_type": "code",
   "execution_count": 7,
   "metadata": {},
   "outputs": [
    {
     "data": {
      "text/html": [
       "<div>\n",
       "<style scoped>\n",
       "    .dataframe tbody tr th:only-of-type {\n",
       "        vertical-align: middle;\n",
       "    }\n",
       "\n",
       "    .dataframe tbody tr th {\n",
       "        vertical-align: top;\n",
       "    }\n",
       "\n",
       "    .dataframe thead th {\n",
       "        text-align: right;\n",
       "    }\n",
       "</style>\n",
       "<table border=\"1\" class=\"dataframe\">\n",
       "  <thead>\n",
       "    <tr style=\"text-align: right;\">\n",
       "      <th></th>\n",
       "      <th>count</th>\n",
       "    </tr>\n",
       "  </thead>\n",
       "  <tbody>\n",
       "    <tr>\n",
       "      <th>0</th>\n",
       "      <td>340</td>\n",
       "    </tr>\n",
       "  </tbody>\n",
       "</table>\n",
       "</div>"
      ],
      "text/plain": [
       "   count\n",
       "0    340"
      ]
     },
     "execution_count": 7,
     "metadata": {},
     "output_type": "execute_result"
    }
   ],
   "source": [
    "query= '''SELECT COUNT(*) \n",
    "               FROM publishers;'''\n",
    "get_sql_data(query)"
   ]
  },
  {
   "cell_type": "markdown",
   "metadata": {},
   "source": [
    "В сервисе имеем книги 340 издательств."
   ]
  },
  {
   "cell_type": "markdown",
   "metadata": {},
   "source": [
    "### Таблица ratings"
   ]
  },
  {
   "cell_type": "code",
   "execution_count": 8,
   "metadata": {},
   "outputs": [
    {
     "data": {
      "text/html": [
       "<div>\n",
       "<style scoped>\n",
       "    .dataframe tbody tr th:only-of-type {\n",
       "        vertical-align: middle;\n",
       "    }\n",
       "\n",
       "    .dataframe tbody tr th {\n",
       "        vertical-align: top;\n",
       "    }\n",
       "\n",
       "    .dataframe thead th {\n",
       "        text-align: right;\n",
       "    }\n",
       "</style>\n",
       "<table border=\"1\" class=\"dataframe\">\n",
       "  <thead>\n",
       "    <tr style=\"text-align: right;\">\n",
       "      <th></th>\n",
       "      <th>rating_id</th>\n",
       "      <th>book_id</th>\n",
       "      <th>username</th>\n",
       "      <th>rating</th>\n",
       "    </tr>\n",
       "  </thead>\n",
       "  <tbody>\n",
       "    <tr>\n",
       "      <th>0</th>\n",
       "      <td>1</td>\n",
       "      <td>1</td>\n",
       "      <td>ryanfranco</td>\n",
       "      <td>4</td>\n",
       "    </tr>\n",
       "    <tr>\n",
       "      <th>1</th>\n",
       "      <td>2</td>\n",
       "      <td>1</td>\n",
       "      <td>grantpatricia</td>\n",
       "      <td>2</td>\n",
       "    </tr>\n",
       "    <tr>\n",
       "      <th>2</th>\n",
       "      <td>3</td>\n",
       "      <td>1</td>\n",
       "      <td>brandtandrea</td>\n",
       "      <td>5</td>\n",
       "    </tr>\n",
       "    <tr>\n",
       "      <th>3</th>\n",
       "      <td>4</td>\n",
       "      <td>2</td>\n",
       "      <td>lorichen</td>\n",
       "      <td>3</td>\n",
       "    </tr>\n",
       "    <tr>\n",
       "      <th>4</th>\n",
       "      <td>5</td>\n",
       "      <td>2</td>\n",
       "      <td>mariokeller</td>\n",
       "      <td>2</td>\n",
       "    </tr>\n",
       "  </tbody>\n",
       "</table>\n",
       "</div>"
      ],
      "text/plain": [
       "   rating_id  book_id       username  rating\n",
       "0          1        1     ryanfranco       4\n",
       "1          2        1  grantpatricia       2\n",
       "2          3        1   brandtandrea       5\n",
       "3          4        2       lorichen       3\n",
       "4          5        2    mariokeller       2"
      ]
     },
     "execution_count": 8,
     "metadata": {},
     "output_type": "execute_result"
    }
   ],
   "source": [
    "query = '''SELECT * \n",
    "           FROM ratings \n",
    "           LIMIT 5;'''\n",
    "get_sql_data(query)"
   ]
  },
  {
   "cell_type": "code",
   "execution_count": 9,
   "metadata": {},
   "outputs": [
    {
     "data": {
      "text/html": [
       "<div>\n",
       "<style scoped>\n",
       "    .dataframe tbody tr th:only-of-type {\n",
       "        vertical-align: middle;\n",
       "    }\n",
       "\n",
       "    .dataframe tbody tr th {\n",
       "        vertical-align: top;\n",
       "    }\n",
       "\n",
       "    .dataframe thead th {\n",
       "        text-align: right;\n",
       "    }\n",
       "</style>\n",
       "<table border=\"1\" class=\"dataframe\">\n",
       "  <thead>\n",
       "    <tr style=\"text-align: right;\">\n",
       "      <th></th>\n",
       "      <th>count</th>\n",
       "    </tr>\n",
       "  </thead>\n",
       "  <tbody>\n",
       "    <tr>\n",
       "      <th>0</th>\n",
       "      <td>6456</td>\n",
       "    </tr>\n",
       "  </tbody>\n",
       "</table>\n",
       "</div>"
      ],
      "text/plain": [
       "   count\n",
       "0   6456"
      ]
     },
     "execution_count": 9,
     "metadata": {},
     "output_type": "execute_result"
    }
   ],
   "source": [
    "query = '''SELECT COUNT(*) \n",
    "               FROM ratings;'''\n",
    "get_sql_data(query)"
   ]
  },
  {
   "cell_type": "markdown",
   "metadata": {},
   "source": [
    "### Таблица reviews"
   ]
  },
  {
   "cell_type": "code",
   "execution_count": 10,
   "metadata": {},
   "outputs": [
    {
     "data": {
      "text/html": [
       "<div>\n",
       "<style scoped>\n",
       "    .dataframe tbody tr th:only-of-type {\n",
       "        vertical-align: middle;\n",
       "    }\n",
       "\n",
       "    .dataframe tbody tr th {\n",
       "        vertical-align: top;\n",
       "    }\n",
       "\n",
       "    .dataframe thead th {\n",
       "        text-align: right;\n",
       "    }\n",
       "</style>\n",
       "<table border=\"1\" class=\"dataframe\">\n",
       "  <thead>\n",
       "    <tr style=\"text-align: right;\">\n",
       "      <th></th>\n",
       "      <th>review_id</th>\n",
       "      <th>book_id</th>\n",
       "      <th>username</th>\n",
       "      <th>text</th>\n",
       "    </tr>\n",
       "  </thead>\n",
       "  <tbody>\n",
       "    <tr>\n",
       "      <th>0</th>\n",
       "      <td>1</td>\n",
       "      <td>1</td>\n",
       "      <td>brandtandrea</td>\n",
       "      <td>Mention society tell send professor analysis. ...</td>\n",
       "    </tr>\n",
       "    <tr>\n",
       "      <th>1</th>\n",
       "      <td>2</td>\n",
       "      <td>1</td>\n",
       "      <td>ryanfranco</td>\n",
       "      <td>Foot glass pretty audience hit themselves. Amo...</td>\n",
       "    </tr>\n",
       "    <tr>\n",
       "      <th>2</th>\n",
       "      <td>3</td>\n",
       "      <td>2</td>\n",
       "      <td>lorichen</td>\n",
       "      <td>Listen treat keep worry. Miss husband tax but ...</td>\n",
       "    </tr>\n",
       "    <tr>\n",
       "      <th>3</th>\n",
       "      <td>4</td>\n",
       "      <td>3</td>\n",
       "      <td>johnsonamanda</td>\n",
       "      <td>Finally month interesting blue could nature cu...</td>\n",
       "    </tr>\n",
       "    <tr>\n",
       "      <th>4</th>\n",
       "      <td>5</td>\n",
       "      <td>3</td>\n",
       "      <td>scotttamara</td>\n",
       "      <td>Nation purpose heavy give wait song will. List...</td>\n",
       "    </tr>\n",
       "  </tbody>\n",
       "</table>\n",
       "</div>"
      ],
      "text/plain": [
       "   review_id  book_id       username  \\\n",
       "0          1        1   brandtandrea   \n",
       "1          2        1     ryanfranco   \n",
       "2          3        2       lorichen   \n",
       "3          4        3  johnsonamanda   \n",
       "4          5        3    scotttamara   \n",
       "\n",
       "                                                text  \n",
       "0  Mention society tell send professor analysis. ...  \n",
       "1  Foot glass pretty audience hit themselves. Amo...  \n",
       "2  Listen treat keep worry. Miss husband tax but ...  \n",
       "3  Finally month interesting blue could nature cu...  \n",
       "4  Nation purpose heavy give wait song will. List...  "
      ]
     },
     "execution_count": 10,
     "metadata": {},
     "output_type": "execute_result"
    }
   ],
   "source": [
    "query = '''SELECT * \n",
    "           FROM reviews \n",
    "           LIMIT 5;'''\n",
    "get_sql_data(query)"
   ]
  },
  {
   "cell_type": "code",
   "execution_count": 11,
   "metadata": {},
   "outputs": [
    {
     "data": {
      "text/html": [
       "<div>\n",
       "<style scoped>\n",
       "    .dataframe tbody tr th:only-of-type {\n",
       "        vertical-align: middle;\n",
       "    }\n",
       "\n",
       "    .dataframe tbody tr th {\n",
       "        vertical-align: top;\n",
       "    }\n",
       "\n",
       "    .dataframe thead th {\n",
       "        text-align: right;\n",
       "    }\n",
       "</style>\n",
       "<table border=\"1\" class=\"dataframe\">\n",
       "  <thead>\n",
       "    <tr style=\"text-align: right;\">\n",
       "      <th></th>\n",
       "      <th>count</th>\n",
       "    </tr>\n",
       "  </thead>\n",
       "  <tbody>\n",
       "    <tr>\n",
       "      <th>0</th>\n",
       "      <td>2793</td>\n",
       "    </tr>\n",
       "  </tbody>\n",
       "</table>\n",
       "</div>"
      ],
      "text/plain": [
       "   count\n",
       "0   2793"
      ]
     },
     "execution_count": 11,
     "metadata": {},
     "output_type": "execute_result"
    }
   ],
   "source": [
    "query = '''SELECT COUNT(*) \n",
    "               FROM reviews;'''\n",
    "get_sql_data(query)"
   ]
  },
  {
   "cell_type": "markdown",
   "metadata": {},
   "source": [
    "## Посчитаем, сколько книг вышло после 1 января 2000 года"
   ]
  },
  {
   "cell_type": "code",
   "execution_count": 12,
   "metadata": {},
   "outputs": [
    {
     "data": {
      "text/html": [
       "<div>\n",
       "<style scoped>\n",
       "    .dataframe tbody tr th:only-of-type {\n",
       "        vertical-align: middle;\n",
       "    }\n",
       "\n",
       "    .dataframe tbody tr th {\n",
       "        vertical-align: top;\n",
       "    }\n",
       "\n",
       "    .dataframe thead th {\n",
       "        text-align: right;\n",
       "    }\n",
       "</style>\n",
       "<table border=\"1\" class=\"dataframe\">\n",
       "  <thead>\n",
       "    <tr style=\"text-align: right;\">\n",
       "      <th></th>\n",
       "      <th>count</th>\n",
       "    </tr>\n",
       "  </thead>\n",
       "  <tbody>\n",
       "    <tr>\n",
       "      <th>0</th>\n",
       "      <td>819</td>\n",
       "    </tr>\n",
       "  </tbody>\n",
       "</table>\n",
       "</div>"
      ],
      "text/plain": [
       "   count\n",
       "0    819"
      ]
     },
     "execution_count": 12,
     "metadata": {},
     "output_type": "execute_result"
    }
   ],
   "source": [
    "query = '''SELECT COUNT(book_id) \n",
    "               FROM books\n",
    "               WHERE publication_date > '2000-01-01';\n",
    "               '''\n",
    "get_sql_data(query)"
   ]
  },
  {
   "cell_type": "markdown",
   "metadata": {},
   "source": [
    "После 1 января 2000 года выпущено 819 книг."
   ]
  },
  {
   "cell_type": "markdown",
   "metadata": {},
   "source": [
    "## Для каждой книги посчитаем количество обзоров и среднюю оценку"
   ]
  },
  {
   "cell_type": "code",
   "execution_count": 13,
   "metadata": {},
   "outputs": [
    {
     "data": {
      "text/html": [
       "<div>\n",
       "<style scoped>\n",
       "    .dataframe tbody tr th:only-of-type {\n",
       "        vertical-align: middle;\n",
       "    }\n",
       "\n",
       "    .dataframe tbody tr th {\n",
       "        vertical-align: top;\n",
       "    }\n",
       "\n",
       "    .dataframe thead th {\n",
       "        text-align: right;\n",
       "    }\n",
       "</style>\n",
       "<table border=\"1\" class=\"dataframe\">\n",
       "  <thead>\n",
       "    <tr style=\"text-align: right;\">\n",
       "      <th></th>\n",
       "      <th>title</th>\n",
       "      <th>cnt_reviews</th>\n",
       "      <th>avg_rating</th>\n",
       "    </tr>\n",
       "  </thead>\n",
       "  <tbody>\n",
       "    <tr>\n",
       "      <th>0</th>\n",
       "      <td>A Dirty Job (Grim Reaper  #1)</td>\n",
       "      <td>4</td>\n",
       "      <td>5.00</td>\n",
       "    </tr>\n",
       "    <tr>\n",
       "      <th>1</th>\n",
       "      <td>Moneyball: The Art of Winning an Unfair Game</td>\n",
       "      <td>3</td>\n",
       "      <td>5.00</td>\n",
       "    </tr>\n",
       "    <tr>\n",
       "      <th>2</th>\n",
       "      <td>School's Out—Forever (Maximum Ride  #2)</td>\n",
       "      <td>3</td>\n",
       "      <td>5.00</td>\n",
       "    </tr>\n",
       "    <tr>\n",
       "      <th>3</th>\n",
       "      <td>Wherever You Go  There You Are: Mindfulness Me...</td>\n",
       "      <td>2</td>\n",
       "      <td>5.00</td>\n",
       "    </tr>\n",
       "    <tr>\n",
       "      <th>4</th>\n",
       "      <td>Act of Treason (Mitch Rapp  #9)</td>\n",
       "      <td>2</td>\n",
       "      <td>5.00</td>\n",
       "    </tr>\n",
       "    <tr>\n",
       "      <th>...</th>\n",
       "      <td>...</td>\n",
       "      <td>...</td>\n",
       "      <td>...</td>\n",
       "    </tr>\n",
       "    <tr>\n",
       "      <th>994</th>\n",
       "      <td>The World Is Flat: A Brief History of the Twen...</td>\n",
       "      <td>3</td>\n",
       "      <td>2.25</td>\n",
       "    </tr>\n",
       "    <tr>\n",
       "      <th>995</th>\n",
       "      <td>Drowning Ruth</td>\n",
       "      <td>3</td>\n",
       "      <td>2.00</td>\n",
       "    </tr>\n",
       "    <tr>\n",
       "      <th>996</th>\n",
       "      <td>His Excellency: George Washington</td>\n",
       "      <td>2</td>\n",
       "      <td>2.00</td>\n",
       "    </tr>\n",
       "    <tr>\n",
       "      <th>997</th>\n",
       "      <td>Junky</td>\n",
       "      <td>2</td>\n",
       "      <td>2.00</td>\n",
       "    </tr>\n",
       "    <tr>\n",
       "      <th>998</th>\n",
       "      <td>Harvesting the Heart</td>\n",
       "      <td>2</td>\n",
       "      <td>1.50</td>\n",
       "    </tr>\n",
       "  </tbody>\n",
       "</table>\n",
       "<p>999 rows × 3 columns</p>\n",
       "</div>"
      ],
      "text/plain": [
       "                                                 title  cnt_reviews  \\\n",
       "0                        A Dirty Job (Grim Reaper  #1)            4   \n",
       "1         Moneyball: The Art of Winning an Unfair Game            3   \n",
       "2              School's Out—Forever (Maximum Ride  #2)            3   \n",
       "3    Wherever You Go  There You Are: Mindfulness Me...            2   \n",
       "4                      Act of Treason (Mitch Rapp  #9)            2   \n",
       "..                                                 ...          ...   \n",
       "994  The World Is Flat: A Brief History of the Twen...            3   \n",
       "995                                      Drowning Ruth            3   \n",
       "996                  His Excellency: George Washington            2   \n",
       "997                                              Junky            2   \n",
       "998                               Harvesting the Heart            2   \n",
       "\n",
       "     avg_rating  \n",
       "0          5.00  \n",
       "1          5.00  \n",
       "2          5.00  \n",
       "3          5.00  \n",
       "4          5.00  \n",
       "..          ...  \n",
       "994        2.25  \n",
       "995        2.00  \n",
       "996        2.00  \n",
       "997        2.00  \n",
       "998        1.50  \n",
       "\n",
       "[999 rows x 3 columns]"
      ]
     },
     "execution_count": 13,
     "metadata": {},
     "output_type": "execute_result"
    }
   ],
   "source": [
    "query = '''SELECT b.title,\n",
    "                      COUNT(DISTINCT rev.review_id) AS cnt_reviews,\n",
    "                      AVG(rat.rating) AS avg_rating\n",
    "               FROM books AS b\n",
    "               LEFT JOIN reviews AS rev \n",
    "               ON b.book_id = rev.book_id\n",
    "               LEFT JOIN ratings AS rat\n",
    "               ON b.book_id = rat.book_id\n",
    "               GROUP BY b.title\n",
    "               ORDER by avg_rating DESC, cnt_reviews DESC;\n",
    "               '''\n",
    "get_sql_data(query)"
   ]
  },
  {
   "cell_type": "markdown",
   "metadata": {},
   "source": [
    "Средняя оценка книги от 1,5 до 5,0. Самый высокий рейтинг (5,0) при максимальном количестве обзоров (4) у книги A Dirty Job (Grim Reaper #1). Минимальную среднюю оценку (1,5) имеет книга Harvesting the Heart."
   ]
  },
  {
   "cell_type": "markdown",
   "metadata": {},
   "source": [
    "## Определим издательство, которое выпустило наибольшее число книг толще 50 страниц (исключим из анализа брошюры)"
   ]
  },
  {
   "cell_type": "code",
   "execution_count": 14,
   "metadata": {},
   "outputs": [
    {
     "data": {
      "text/html": [
       "<div>\n",
       "<style scoped>\n",
       "    .dataframe tbody tr th:only-of-type {\n",
       "        vertical-align: middle;\n",
       "    }\n",
       "\n",
       "    .dataframe tbody tr th {\n",
       "        vertical-align: top;\n",
       "    }\n",
       "\n",
       "    .dataframe thead th {\n",
       "        text-align: right;\n",
       "    }\n",
       "</style>\n",
       "<table border=\"1\" class=\"dataframe\">\n",
       "  <thead>\n",
       "    <tr style=\"text-align: right;\">\n",
       "      <th></th>\n",
       "      <th>publisher</th>\n",
       "      <th>cnt_books</th>\n",
       "    </tr>\n",
       "  </thead>\n",
       "  <tbody>\n",
       "    <tr>\n",
       "      <th>0</th>\n",
       "      <td>Penguin Books</td>\n",
       "      <td>42</td>\n",
       "    </tr>\n",
       "  </tbody>\n",
       "</table>\n",
       "</div>"
      ],
      "text/plain": [
       "       publisher  cnt_books\n",
       "0  Penguin Books         42"
      ]
     },
     "execution_count": 14,
     "metadata": {},
     "output_type": "execute_result"
    }
   ],
   "source": [
    "query = '''SELECT p.publisher,\n",
    "                      COUNT(b.book_id) AS cnt_books\n",
    "               FROM books AS b\n",
    "               LEFT JOIN publishers AS p \n",
    "               ON b.publisher_id = p.publisher_id\n",
    "               WHERE b.num_pages>50\n",
    "               GROUP BY p.publisher\n",
    "               ORDER by cnt_books DESC\n",
    "               LIMIT 1;\n",
    "               '''\n",
    "get_sql_data(query)"
   ]
  },
  {
   "cell_type": "markdown",
   "metadata": {},
   "source": [
    "Наибольшее количество книг (толще 50 страниц) выпустило издательство Penguin Books. Таких книг 42."
   ]
  },
  {
   "cell_type": "markdown",
   "metadata": {},
   "source": [
    "## Определим автора с самой высокой средней оценкой книг (учтем только книги с 50 и более оценками)"
   ]
  },
  {
   "cell_type": "code",
   "execution_count": 15,
   "metadata": {},
   "outputs": [
    {
     "data": {
      "text/html": [
       "<div>\n",
       "<style scoped>\n",
       "    .dataframe tbody tr th:only-of-type {\n",
       "        vertical-align: middle;\n",
       "    }\n",
       "\n",
       "    .dataframe tbody tr th {\n",
       "        vertical-align: top;\n",
       "    }\n",
       "\n",
       "    .dataframe thead th {\n",
       "        text-align: right;\n",
       "    }\n",
       "</style>\n",
       "<table border=\"1\" class=\"dataframe\">\n",
       "  <thead>\n",
       "    <tr style=\"text-align: right;\">\n",
       "      <th></th>\n",
       "      <th>author</th>\n",
       "      <th>avg_rating</th>\n",
       "    </tr>\n",
       "  </thead>\n",
       "  <tbody>\n",
       "    <tr>\n",
       "      <th>0</th>\n",
       "      <td>J.K. Rowling/Mary GrandPré</td>\n",
       "      <td>4.287097</td>\n",
       "    </tr>\n",
       "  </tbody>\n",
       "</table>\n",
       "</div>"
      ],
      "text/plain": [
       "                       author  avg_rating\n",
       "0  J.K. Rowling/Mary GrandPré    4.287097"
      ]
     },
     "execution_count": 15,
     "metadata": {},
     "output_type": "execute_result"
    }
   ],
   "source": [
    "query = '''SELECT  a.author, \n",
    "                      AVG(r.rating) AS avg_rating\n",
    "               FROM authors AS a\n",
    "               JOIN books AS b \n",
    "               ON a.author_id = b.author_id\n",
    "               JOIN ratings AS r \n",
    "               ON b.book_id = r.book_id\n",
    "\n",
    "               WHERE b.book_id IN (\n",
    "                      SELECT r.book_id\n",
    "                      FROM ratings AS r \n",
    "                      GROUP BY r.book_id\n",
    "                      HAVING COUNT(r.rating_id) >= 50)\n",
    "\n",
    "               GROUP BY a.author\n",
    "               ORDER BY avg_rating DESC\n",
    "               LIMIT 1\n",
    "               '''\n",
    "get_sql_data(query)"
   ]
  },
  {
   "cell_type": "markdown",
   "metadata": {},
   "source": [
    " Самая высокая средняя оценка книги - 4,287. Авторами, написавшими эту книгу являются J.K.Rowling и Mary GrandPré."
   ]
  },
  {
   "cell_type": "markdown",
   "metadata": {},
   "source": [
    "### Посчитаем среднее количество обзоров от пользователей, которые поставили больше 48 оценок."
   ]
  },
  {
   "cell_type": "code",
   "execution_count": 16,
   "metadata": {},
   "outputs": [
    {
     "data": {
      "text/html": [
       "<div>\n",
       "<style scoped>\n",
       "    .dataframe tbody tr th:only-of-type {\n",
       "        vertical-align: middle;\n",
       "    }\n",
       "\n",
       "    .dataframe tbody tr th {\n",
       "        vertical-align: top;\n",
       "    }\n",
       "\n",
       "    .dataframe thead th {\n",
       "        text-align: right;\n",
       "    }\n",
       "</style>\n",
       "<table border=\"1\" class=\"dataframe\">\n",
       "  <thead>\n",
       "    <tr style=\"text-align: right;\">\n",
       "      <th></th>\n",
       "      <th>round</th>\n",
       "    </tr>\n",
       "  </thead>\n",
       "  <tbody>\n",
       "    <tr>\n",
       "      <th>0</th>\n",
       "      <td>24.0</td>\n",
       "    </tr>\n",
       "  </tbody>\n",
       "</table>\n",
       "</div>"
      ],
      "text/plain": [
       "   round\n",
       "0   24.0"
      ]
     },
     "execution_count": 16,
     "metadata": {},
     "output_type": "execute_result"
    }
   ],
   "source": [
    "query = '''SELECT ROUND(AVG(cnt_reviews)) \n",
    "               FROM (                           \n",
    "                    SELECT rev.username,\n",
    "                           COUNT(rev.text) AS cnt_reviews\n",
    "                    FROM reviews AS rev\n",
    "                    JOIN (\n",
    "                              SELECT r.username,\n",
    "                                     COUNT(r.rating_id) AS cnt_rating\n",
    "                              FROM ratings AS r\n",
    "                              GROUP BY r.username\n",
    "                              HAVING COUNT(r.rating_id)>48\n",
    "                              )AS cnt_rat\n",
    "                              \n",
    "                   ON rev.username = cnt_rat.username\n",
    "                   \n",
    "                   GROUP BY rev.username\n",
    "                   ) AS cnt_rev;              \n",
    "                                                    \n",
    "                  '''\n",
    "get_sql_data(query)"
   ]
  },
  {
   "cell_type": "markdown",
   "metadata": {},
   "source": [
    "Самые активные пользователи (поставившие более 48 оценок) в среднем выпускают 24 обзора."
   ]
  },
  {
   "cell_type": "markdown",
   "metadata": {},
   "source": [
    "***Выводы:***\n",
    "\n",
    "- В базе данных сервиса представлена информация о 1000 книг, написанных 636 авторами, выпущенных в 340 издательствах.\n",
    "\n",
    "- После 1 января 2000 года выпущено 819 книг.\n",
    "\n",
    "- Средняя оценка книги от 1,5 до 5,0. Самый высокий рейтинг (5,0) при максимальном количестве обзоров (4) у книги A Dirty Job (Grim Reaper #1). Минимальную среднюю оценку (1,5) имеет книга Harvesting the Heart.\n",
    "\n",
    "- Наибольшее количество книг (толще 50 страниц) выпустило издательство Penguin Books. Таких книг 42.\n",
    "\n",
    "- Самая высокая средняя оценка книги - 4,287. Авторами, написавшими эту книгу являются J.K.Rowling и Mary GrandPré.\n",
    "\n",
    "- Самые активные пользователи (поставившие более 48 оценок) в среднем выпускают 24 обзора.\n"
   ]
  }
 ],
 "metadata": {
  "ExecuteTimeLog": [
   {
    "duration": 6425,
    "start_time": "2024-11-10T09:12:11.322Z"
   },
   {
    "duration": 11,
    "start_time": "2024-11-10T09:12:38.866Z"
   },
   {
    "duration": 11,
    "start_time": "2024-11-10T09:12:58.231Z"
   },
   {
    "duration": 10,
    "start_time": "2024-11-10T09:13:17.492Z"
   },
   {
    "duration": 11,
    "start_time": "2024-11-10T09:13:32.136Z"
   },
   {
    "duration": 10,
    "start_time": "2024-11-10T09:13:46.624Z"
   },
   {
    "duration": 13,
    "start_time": "2024-11-10T09:14:04.476Z"
   },
   {
    "duration": 10,
    "start_time": "2024-11-10T09:14:21.111Z"
   },
   {
    "duration": 12,
    "start_time": "2024-11-10T09:14:35.531Z"
   },
   {
    "duration": 10,
    "start_time": "2024-11-10T09:14:50.841Z"
   },
   {
    "duration": 5706,
    "start_time": "2024-11-10T09:14:56.278Z"
   },
   {
    "duration": 10,
    "start_time": "2024-11-10T09:15:01.986Z"
   },
   {
    "duration": 42,
    "start_time": "2024-11-10T09:15:01.997Z"
   },
   {
    "duration": 25,
    "start_time": "2024-11-10T09:15:02.041Z"
   },
   {
    "duration": 11,
    "start_time": "2024-11-10T09:15:02.068Z"
   },
   {
    "duration": 10,
    "start_time": "2024-11-10T09:15:02.080Z"
   },
   {
    "duration": 24,
    "start_time": "2024-11-10T09:15:02.091Z"
   },
   {
    "duration": 15,
    "start_time": "2024-11-10T09:15:02.117Z"
   },
   {
    "duration": 16,
    "start_time": "2024-11-10T09:15:02.134Z"
   },
   {
    "duration": 9,
    "start_time": "2024-11-10T09:15:02.151Z"
   },
   {
    "duration": 16,
    "start_time": "2024-11-10T09:29:10.735Z"
   },
   {
    "duration": 13,
    "start_time": "2024-11-10T09:29:30.538Z"
   },
   {
    "duration": 10,
    "start_time": "2024-11-10T09:29:51.222Z"
   },
   {
    "duration": 11,
    "start_time": "2024-11-10T09:30:06.450Z"
   },
   {
    "duration": 10,
    "start_time": "2024-11-10T09:30:17.001Z"
   },
   {
    "duration": 10,
    "start_time": "2024-11-10T09:30:32.748Z"
   },
   {
    "duration": 10,
    "start_time": "2024-11-10T09:30:42.988Z"
   },
   {
    "duration": 12,
    "start_time": "2024-11-10T09:30:56.420Z"
   },
   {
    "duration": 11,
    "start_time": "2024-11-10T09:31:05.217Z"
   },
   {
    "duration": 13,
    "start_time": "2024-11-10T09:31:17.983Z"
   },
   {
    "duration": 10,
    "start_time": "2024-11-10T09:31:31.087Z"
   },
   {
    "duration": 6,
    "start_time": "2024-11-10T09:33:15.843Z"
   },
   {
    "duration": 44,
    "start_time": "2024-11-10T09:37:24.997Z"
   },
   {
    "duration": 10,
    "start_time": "2024-11-10T09:40:51.346Z"
   },
   {
    "duration": 112,
    "start_time": "2024-11-10T12:23:45.257Z"
   },
   {
    "duration": 45,
    "start_time": "2024-11-10T12:25:01.453Z"
   },
   {
    "duration": 39,
    "start_time": "2024-11-10T12:26:09.070Z"
   },
   {
    "duration": 34,
    "start_time": "2024-11-10T12:26:56.713Z"
   },
   {
    "duration": 33,
    "start_time": "2024-11-10T12:27:08.399Z"
   },
   {
    "duration": 40,
    "start_time": "2024-11-10T12:28:01.438Z"
   },
   {
    "duration": 8218,
    "start_time": "2024-11-10T16:19:37.174Z"
   },
   {
    "duration": 252,
    "start_time": "2024-11-10T16:19:45.394Z"
   },
   {
    "duration": 54,
    "start_time": "2024-11-10T16:19:45.648Z"
   },
   {
    "duration": 57,
    "start_time": "2024-11-10T16:19:45.704Z"
   },
   {
    "duration": 54,
    "start_time": "2024-11-10T16:19:45.764Z"
   },
   {
    "duration": 57,
    "start_time": "2024-11-10T16:19:45.821Z"
   },
   {
    "duration": 55,
    "start_time": "2024-11-10T16:19:45.880Z"
   },
   {
    "duration": 58,
    "start_time": "2024-11-10T16:19:45.937Z"
   },
   {
    "duration": 55,
    "start_time": "2024-11-10T16:19:45.998Z"
   },
   {
    "duration": 58,
    "start_time": "2024-11-10T16:19:46.055Z"
   },
   {
    "duration": 53,
    "start_time": "2024-11-10T16:19:46.115Z"
   },
   {
    "duration": 54,
    "start_time": "2024-11-10T16:19:46.169Z"
   },
   {
    "duration": 103,
    "start_time": "2024-11-10T16:19:46.224Z"
   },
   {
    "duration": 129,
    "start_time": "2024-11-10T16:24:14.683Z"
   },
   {
    "duration": 57,
    "start_time": "2024-11-10T16:25:02.374Z"
   },
   {
    "duration": 8327,
    "start_time": "2024-11-10T16:27:33.531Z"
   },
   {
    "duration": 232,
    "start_time": "2024-11-10T16:27:41.861Z"
   },
   {
    "duration": 54,
    "start_time": "2024-11-10T16:27:42.095Z"
   },
   {
    "duration": 56,
    "start_time": "2024-11-10T16:27:42.151Z"
   },
   {
    "duration": 52,
    "start_time": "2024-11-10T16:27:42.210Z"
   },
   {
    "duration": 54,
    "start_time": "2024-11-10T16:27:42.264Z"
   },
   {
    "duration": 53,
    "start_time": "2024-11-10T16:27:42.320Z"
   },
   {
    "duration": 55,
    "start_time": "2024-11-10T16:27:42.374Z"
   },
   {
    "duration": 52,
    "start_time": "2024-11-10T16:27:42.431Z"
   },
   {
    "duration": 55,
    "start_time": "2024-11-10T16:27:42.485Z"
   },
   {
    "duration": 53,
    "start_time": "2024-11-10T16:27:42.542Z"
   },
   {
    "duration": 53,
    "start_time": "2024-11-10T16:27:42.596Z"
   },
   {
    "duration": 97,
    "start_time": "2024-11-10T16:27:42.651Z"
   },
   {
    "duration": 53,
    "start_time": "2024-11-10T16:27:42.750Z"
   },
   {
    "duration": 93,
    "start_time": "2024-11-10T16:28:42.272Z"
   },
   {
    "duration": 99,
    "start_time": "2024-11-10T16:28:51.392Z"
   },
   {
    "duration": 102,
    "start_time": "2024-11-10T16:51:49.268Z"
   },
   {
    "duration": 97,
    "start_time": "2024-11-10T16:52:04.455Z"
   },
   {
    "duration": 58,
    "start_time": "2024-11-10T16:54:11.438Z"
   },
   {
    "duration": 58,
    "start_time": "2024-11-10T16:56:40.640Z"
   },
   {
    "duration": 134,
    "start_time": "2024-11-10T17:08:03.899Z"
   },
   {
    "duration": 58,
    "start_time": "2024-11-10T17:08:37.500Z"
   },
   {
    "duration": 67,
    "start_time": "2024-11-10T17:21:00.412Z"
   },
   {
    "duration": 56,
    "start_time": "2024-11-10T17:21:47.514Z"
   },
   {
    "duration": 68,
    "start_time": "2024-11-10T17:29:31.606Z"
   },
   {
    "duration": 64,
    "start_time": "2024-11-10T17:29:58.992Z"
   },
   {
    "duration": 64,
    "start_time": "2024-11-10T17:30:48.826Z"
   },
   {
    "duration": 61,
    "start_time": "2024-11-10T17:31:24.944Z"
   },
   {
    "duration": 62,
    "start_time": "2024-11-10T17:32:21.900Z"
   },
   {
    "duration": 62,
    "start_time": "2024-11-10T17:40:58.781Z"
   },
   {
    "duration": 57,
    "start_time": "2024-11-10T17:42:59.345Z"
   },
   {
    "duration": 55,
    "start_time": "2024-11-10T17:48:08.204Z"
   },
   {
    "duration": 56,
    "start_time": "2024-11-10T17:49:05.917Z"
   },
   {
    "duration": 55,
    "start_time": "2024-11-10T17:49:30.168Z"
   },
   {
    "duration": 60,
    "start_time": "2024-11-10T17:49:44.138Z"
   },
   {
    "duration": 63,
    "start_time": "2024-11-10T17:53:21.662Z"
   },
   {
    "duration": 67,
    "start_time": "2024-11-10T17:54:46.727Z"
   },
   {
    "duration": 59,
    "start_time": "2024-11-10T17:55:44.426Z"
   },
   {
    "duration": 65,
    "start_time": "2024-11-10T17:59:14.385Z"
   },
   {
    "duration": 59,
    "start_time": "2024-11-10T18:01:22.065Z"
   },
   {
    "duration": 55,
    "start_time": "2024-11-10T18:02:42.788Z"
   },
   {
    "duration": 64,
    "start_time": "2024-11-10T18:08:58.917Z"
   },
   {
    "duration": 65,
    "start_time": "2024-11-10T18:09:44.162Z"
   },
   {
    "duration": 66,
    "start_time": "2024-11-10T18:10:30.011Z"
   },
   {
    "duration": 58,
    "start_time": "2024-11-10T18:10:56.077Z"
   },
   {
    "duration": 65,
    "start_time": "2024-11-10T18:12:33.743Z"
   },
   {
    "duration": 64,
    "start_time": "2024-11-10T18:14:10.300Z"
   },
   {
    "duration": 65,
    "start_time": "2024-11-10T18:14:56.488Z"
   },
   {
    "duration": 61,
    "start_time": "2024-11-10T18:18:12.333Z"
   },
   {
    "duration": 67,
    "start_time": "2024-11-10T18:20:02.451Z"
   },
   {
    "duration": 74,
    "start_time": "2024-11-10T18:20:55.795Z"
   },
   {
    "duration": 56,
    "start_time": "2024-11-10T18:21:37.147Z"
   },
   {
    "duration": 56,
    "start_time": "2024-11-10T18:22:00.455Z"
   },
   {
    "duration": 58,
    "start_time": "2024-11-10T18:23:32.923Z"
   },
   {
    "duration": 3,
    "start_time": "2024-11-10T18:25:03.643Z"
   },
   {
    "duration": 55,
    "start_time": "2024-11-10T18:25:25.695Z"
   },
   {
    "duration": 56,
    "start_time": "2024-11-10T18:27:55.597Z"
   },
   {
    "duration": 55,
    "start_time": "2024-11-10T18:31:14.333Z"
   },
   {
    "duration": 56,
    "start_time": "2024-11-10T18:31:43.059Z"
   },
   {
    "duration": 8663,
    "start_time": "2024-11-10T18:32:45.049Z"
   },
   {
    "duration": 229,
    "start_time": "2024-11-10T18:32:53.714Z"
   },
   {
    "duration": 48,
    "start_time": "2024-11-10T18:32:53.945Z"
   },
   {
    "duration": 49,
    "start_time": "2024-11-10T18:32:53.995Z"
   },
   {
    "duration": 49,
    "start_time": "2024-11-10T18:32:54.046Z"
   },
   {
    "duration": 49,
    "start_time": "2024-11-10T18:32:54.096Z"
   },
   {
    "duration": 49,
    "start_time": "2024-11-10T18:32:54.146Z"
   },
   {
    "duration": 51,
    "start_time": "2024-11-10T18:32:54.196Z"
   },
   {
    "duration": 49,
    "start_time": "2024-11-10T18:32:54.248Z"
   },
   {
    "duration": 50,
    "start_time": "2024-11-10T18:32:54.298Z"
   },
   {
    "duration": 48,
    "start_time": "2024-11-10T18:32:54.350Z"
   },
   {
    "duration": 49,
    "start_time": "2024-11-10T18:32:54.400Z"
   },
   {
    "duration": 93,
    "start_time": "2024-11-10T18:32:54.450Z"
   },
   {
    "duration": 50,
    "start_time": "2024-11-10T18:32:54.545Z"
   },
   {
    "duration": 52,
    "start_time": "2024-11-10T18:32:54.596Z"
   },
   {
    "duration": 51,
    "start_time": "2024-11-10T18:32:54.650Z"
   },
   {
    "duration": 53,
    "start_time": "2024-11-10T18:32:54.703Z"
   },
   {
    "duration": 52,
    "start_time": "2024-11-10T18:32:54.758Z"
   },
   {
    "duration": 53,
    "start_time": "2024-11-10T18:32:54.812Z"
   },
   {
    "duration": 53,
    "start_time": "2024-11-10T18:32:54.866Z"
   },
   {
    "duration": 315,
    "start_time": "2024-11-10T19:00:55.762Z"
   },
   {
    "duration": 68,
    "start_time": "2024-11-10T19:01:26.108Z"
   },
   {
    "duration": 52,
    "start_time": "2024-11-10T19:03:57.743Z"
   },
   {
    "duration": 54,
    "start_time": "2024-11-10T19:04:46.438Z"
   },
   {
    "duration": 51,
    "start_time": "2024-11-10T19:05:20.948Z"
   },
   {
    "duration": 52,
    "start_time": "2024-11-10T19:09:17.754Z"
   },
   {
    "duration": 51,
    "start_time": "2024-11-10T19:10:14.231Z"
   },
   {
    "duration": 8239,
    "start_time": "2024-11-10T19:24:18.834Z"
   },
   {
    "duration": 246,
    "start_time": "2024-11-10T19:24:27.075Z"
   },
   {
    "duration": 52,
    "start_time": "2024-11-10T19:24:27.322Z"
   },
   {
    "duration": 54,
    "start_time": "2024-11-10T19:24:27.376Z"
   },
   {
    "duration": 52,
    "start_time": "2024-11-10T19:24:27.433Z"
   },
   {
    "duration": 52,
    "start_time": "2024-11-10T19:24:27.486Z"
   },
   {
    "duration": 52,
    "start_time": "2024-11-10T19:24:27.540Z"
   },
   {
    "duration": 53,
    "start_time": "2024-11-10T19:24:27.594Z"
   },
   {
    "duration": 51,
    "start_time": "2024-11-10T19:24:27.649Z"
   },
   {
    "duration": 53,
    "start_time": "2024-11-10T19:24:27.702Z"
   },
   {
    "duration": 53,
    "start_time": "2024-11-10T19:24:27.757Z"
   },
   {
    "duration": 52,
    "start_time": "2024-11-10T19:24:27.812Z"
   },
   {
    "duration": 97,
    "start_time": "2024-11-10T19:24:27.865Z"
   },
   {
    "duration": 53,
    "start_time": "2024-11-10T19:24:27.965Z"
   },
   {
    "duration": 56,
    "start_time": "2024-11-10T19:24:28.020Z"
   },
   {
    "duration": 54,
    "start_time": "2024-11-10T19:24:28.078Z"
   },
   {
    "duration": 55,
    "start_time": "2024-11-10T19:24:28.134Z"
   },
   {
    "duration": 8255,
    "start_time": "2024-11-10T20:15:32.737Z"
   },
   {
    "duration": 247,
    "start_time": "2024-11-10T20:15:40.994Z"
   },
   {
    "duration": 52,
    "start_time": "2024-11-10T20:15:41.243Z"
   },
   {
    "duration": 52,
    "start_time": "2024-11-10T20:15:41.296Z"
   },
   {
    "duration": 52,
    "start_time": "2024-11-10T20:15:41.350Z"
   },
   {
    "duration": 52,
    "start_time": "2024-11-10T20:15:41.403Z"
   },
   {
    "duration": 51,
    "start_time": "2024-11-10T20:15:41.456Z"
   },
   {
    "duration": 53,
    "start_time": "2024-11-10T20:15:41.509Z"
   },
   {
    "duration": 52,
    "start_time": "2024-11-10T20:15:41.564Z"
   },
   {
    "duration": 57,
    "start_time": "2024-11-10T20:15:41.618Z"
   },
   {
    "duration": 54,
    "start_time": "2024-11-10T20:15:41.677Z"
   },
   {
    "duration": 53,
    "start_time": "2024-11-10T20:15:41.733Z"
   },
   {
    "duration": 99,
    "start_time": "2024-11-10T20:15:41.787Z"
   },
   {
    "duration": 54,
    "start_time": "2024-11-10T20:15:41.889Z"
   },
   {
    "duration": 57,
    "start_time": "2024-11-10T20:15:41.944Z"
   },
   {
    "duration": 55,
    "start_time": "2024-11-10T20:15:42.003Z"
   },
   {
    "duration": 8121,
    "start_time": "2024-11-10T20:18:55.383Z"
   },
   {
    "duration": 250,
    "start_time": "2024-11-10T20:19:03.507Z"
   },
   {
    "duration": 53,
    "start_time": "2024-11-10T20:19:03.759Z"
   },
   {
    "duration": 58,
    "start_time": "2024-11-10T20:19:03.814Z"
   },
   {
    "duration": 55,
    "start_time": "2024-11-10T20:19:03.874Z"
   },
   {
    "duration": 53,
    "start_time": "2024-11-10T20:19:03.930Z"
   },
   {
    "duration": 55,
    "start_time": "2024-11-10T20:19:03.984Z"
   },
   {
    "duration": 54,
    "start_time": "2024-11-10T20:19:04.041Z"
   },
   {
    "duration": 57,
    "start_time": "2024-11-10T20:19:04.097Z"
   },
   {
    "duration": 53,
    "start_time": "2024-11-10T20:19:04.156Z"
   },
   {
    "duration": 51,
    "start_time": "2024-11-10T20:19:04.211Z"
   },
   {
    "duration": 51,
    "start_time": "2024-11-10T20:19:04.263Z"
   },
   {
    "duration": 97,
    "start_time": "2024-11-10T20:19:04.315Z"
   },
   {
    "duration": 55,
    "start_time": "2024-11-10T20:19:04.414Z"
   },
   {
    "duration": 58,
    "start_time": "2024-11-10T20:19:04.471Z"
   },
   {
    "duration": 54,
    "start_time": "2024-11-10T20:19:04.531Z"
   },
   {
    "duration": 9552,
    "start_time": "2024-11-11T14:35:55.108Z"
   },
   {
    "duration": 242,
    "start_time": "2024-11-11T14:36:04.662Z"
   },
   {
    "duration": 52,
    "start_time": "2024-11-11T14:36:04.906Z"
   },
   {
    "duration": 52,
    "start_time": "2024-11-11T14:36:04.960Z"
   },
   {
    "duration": 51,
    "start_time": "2024-11-11T14:36:05.015Z"
   },
   {
    "duration": 56,
    "start_time": "2024-11-11T14:36:05.068Z"
   },
   {
    "duration": 52,
    "start_time": "2024-11-11T14:36:05.128Z"
   },
   {
    "duration": 54,
    "start_time": "2024-11-11T14:36:05.181Z"
   },
   {
    "duration": 68,
    "start_time": "2024-11-11T14:36:05.237Z"
   },
   {
    "duration": 55,
    "start_time": "2024-11-11T14:36:05.306Z"
   },
   {
    "duration": 51,
    "start_time": "2024-11-11T14:36:05.362Z"
   },
   {
    "duration": 51,
    "start_time": "2024-11-11T14:36:05.415Z"
   },
   {
    "duration": 97,
    "start_time": "2024-11-11T14:36:05.468Z"
   },
   {
    "duration": 62,
    "start_time": "2024-11-11T14:36:05.568Z"
   },
   {
    "duration": 58,
    "start_time": "2024-11-11T14:36:05.631Z"
   },
   {
    "duration": 58,
    "start_time": "2024-11-11T14:36:05.691Z"
   }
  ],
  "kernelspec": {
   "display_name": "Python 3 (ipykernel)",
   "language": "python",
   "name": "python3"
  },
  "language_info": {
   "codemirror_mode": {
    "name": "ipython",
    "version": 3
   },
   "file_extension": ".py",
   "mimetype": "text/x-python",
   "name": "python",
   "nbconvert_exporter": "python",
   "pygments_lexer": "ipython3",
   "version": "3.11.7"
  },
  "toc": {
   "base_numbering": 1,
   "nav_menu": {},
   "number_sections": true,
   "sideBar": true,
   "skip_h1_title": true,
   "title_cell": "Table of Contents",
   "title_sidebar": "Contents",
   "toc_cell": false,
   "toc_position": {},
   "toc_section_display": true,
   "toc_window_display": false
  }
 },
 "nbformat": 4,
 "nbformat_minor": 4
}
