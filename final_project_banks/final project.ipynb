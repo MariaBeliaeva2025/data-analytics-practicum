{
 "cells": [
  {
   "cell_type": "markdown",
   "metadata": {},
   "source": [
    "# Выпускной проект\n",
    "# Банки - Анализ оттока клиентов"
   ]
  },
  {
   "cell_type": "markdown",
   "metadata": {},
   "source": [
    "***Заказчик: Банк «Метанпром»***"
   ]
  },
  {
   "cell_type": "markdown",
   "metadata": {},
   "source": [
    "***Ссылка на презентацию:*** https://drive.google.com/file/d/1bl_msuLhcimZEolY-N93CnSuNH2nrP0T/view?usp=drive_link"
   ]
  },
  {
   "cell_type": "markdown",
   "metadata": {},
   "source": [
    "***Задача:***\n",
    "- Проанализировать клиентов регионального банка и выделить сегменты клиентов,\n",
    "  которые склонны уходить из банка.\n",
    "- Провести исследовательский анализ данных, определить все значимые\n",
    "  признаки отточности (интервалы значений характеристик, которые связаны с\n",
    "  повышенным оттоком, сравнить портреты типичных клиентов, которые\n",
    "  склонны и не склонны уходить из банка и т.д)\n",
    "- Сформулировать и проверить статистические гипотезы:\n",
    "  - Проверить гипотезу различия дохода между теми клиентами, которые\n",
    "    ушли и теми, которые остались.\n",
    "  - Сформулировать и проверить статистическую гипотезу относительно\n",
    "    представленных данных, которая поможет внести ясность в исследование\n",
    "- Объединяя признаки отточности, сформировать сегменты, отобрать из них\n",
    "  лучшие и дать по ним рекомендации."
   ]
  },
  {
   "cell_type": "markdown",
   "metadata": {},
   "source": [
    "***Входные данные:***\n",
    "\n",
    "Датасет содержит данные о клиентах банка «Метанпром». \n",
    "\n",
    "Банк располагается в\n",
    "Ярославле и областных городах: Ростов Великий и Рыбинск.\n",
    "\n",
    "Колонки:\n",
    "\n",
    "- USERID — идентификатор пользователя,\n",
    "- score — баллы кредитного скоринга,\n",
    "- city — город,\n",
    "- gender — пол,\n",
    "- age — возраст,\n",
    "- equity — количество баллов собственности\n",
    "- balance — баланс на счёте,\n",
    "- products — количество продуктов, которыми пользуется клиент,\n",
    "- credit_card — есть ли кредитная карта,\n",
    "- last_activity — активный клиент,\n",
    "- EST_SALARY — оценочный доход клиента,\n",
    "- сhurn — признак оттока."
   ]
  },
  {
   "cell_type": "markdown",
   "metadata": {},
   "source": [
    "**План проекта:**\n",
    "\n",
    "1.  ***Загрузка и обзор имеющихся данных, подготовка данных к дальнейшему исследованию.***\n",
    "\n",
    "\n",
    "2.  ***Предобработка данных:***\n",
    "\n",
    " 2.1  Привести названия столбцов к единому формату,\n",
    " \n",
    " 2.2  Оценить типы данных и при необходимости заменить их,\n",
    " \n",
    " 2.3  Оценить наличие,количество дубликатов (явных и неявных, в определенных столбцах), обработать их,\n",
    " \n",
    " 2.4  Найти пропуски данных, проанализировать их, обработать,\n",
    " \n",
    " 2.5  Найти аномалии данных, обработать их,\n",
    " \n",
    " 2.6  Провести кодирование данных (преобразовать категориальные данные в числовые, делая их пригодными для анализа)\n",
    " \n",
    " 2.6  Оценить оставшийся объем данных после обработки и удаления (убедиться, что осталось 95%)\n",
    "\n",
    "\n",
    "3.  ***Исследовательский анализ данных:***\n",
    "\n",
    " 3.1  Посмотреть распределения клиентов по полу, возрасту, месту жительства клиента, его доходу,баланс денежных средств на счете, активности, количеству продуктов, которыми пользуется вкладчик, баллам кредитного скоринга (в том числе в разрезе оттока)\n",
    " \n",
    " 3.2  Оценить влияние определенных признаков на отток клиентов\n",
    " \n",
    " 3.3  Провести корреляционный анализ\n",
    "     \n",
    " 3.4  На основании полученных данных составить портрет типичного клиента, который склонен к оттоку или нет\n",
    " \n",
    " \n",
    "4.  ***Сформулировать и проверить статистические гипотезы:***\n",
    "\n",
    " 4.1  Проверить гипотезу различия дохода между теми клиентами, которые ушли и теми, которые остались.\n",
    " \n",
    " 4.2  Проверить гипотезу различия кредитного скоринга между теми клиентами, которые ушли и теми, которые остались.\n",
    " \n",
    " \n",
    "5.  ***Cформулировать промежуточные выводы***\n",
    "(какие признаки стратегическим образом влияют на отток клиентов)\n",
    "\n",
    "\n",
    "6.  ***Cформировать сегменты на основе стратегических показателей отобрать из них значимые .***\n",
    "\n",
    "\n",
    "7.  ***Выводы и рекомендации для заказчика по конкретным сегментам.***\n",
    "\n",
    "\n",
    "8.  ***Подготовка презентации.***"
   ]
  },
  {
   "cell_type": "markdown",
   "metadata": {},
   "source": [
    "## Загрузка и обзор имеющихся данных, подготовка данных к дальнейшему исследованию."
   ]
  },
  {
   "cell_type": "code",
   "execution_count": 1,
   "metadata": {},
   "outputs": [],
   "source": [
    "import pandas as pd\n",
    "import numpy as np\n",
    "import matplotlib as mpl\n",
    "import matplotlib.pyplot as plt\n",
    "import seaborn as sns\n",
    "import plotly.express as px\n",
    "from scipy import stats as st\n",
    "from scipy.stats import ttest_ind\n",
    "import warnings; warnings.filterwarnings(action = 'ignore')"
   ]
  },
  {
   "cell_type": "code",
   "execution_count": 2,
   "metadata": {},
   "outputs": [],
   "source": [
    "# игнорируем предупреждения\n",
    "pd.set_option('chained_assignment', 'warn')\n",
    "warnings.simplefilter(action='ignore', category=FutureWarning)\n",
    "\n",
    "\n",
    "\n"
   ]
  },
  {
   "cell_type": "code",
   "execution_count": 3,
   "metadata": {},
   "outputs": [],
   "source": [
    "# чтение файлов с данными и сохранение в переменную data\n",
    "data = pd.read_csv('/datasets/bank.csv')\n",
    "    "
   ]
  },
  {
   "cell_type": "code",
   "execution_count": 4,
   "metadata": {},
   "outputs": [
    {
     "data": {
      "text/html": [
       "<div>\n",
       "<style scoped>\n",
       "    .dataframe tbody tr th:only-of-type {\n",
       "        vertical-align: middle;\n",
       "    }\n",
       "\n",
       "    .dataframe tbody tr th {\n",
       "        vertical-align: top;\n",
       "    }\n",
       "\n",
       "    .dataframe thead th {\n",
       "        text-align: right;\n",
       "    }\n",
       "</style>\n",
       "<table border=\"1\" class=\"dataframe\">\n",
       "  <thead>\n",
       "    <tr style=\"text-align: right;\">\n",
       "      <th></th>\n",
       "      <th>USERID</th>\n",
       "      <th>score</th>\n",
       "      <th>city</th>\n",
       "      <th>gender</th>\n",
       "      <th>age</th>\n",
       "      <th>equity</th>\n",
       "      <th>balance</th>\n",
       "      <th>products</th>\n",
       "      <th>credit_card</th>\n",
       "      <th>last_activity</th>\n",
       "      <th>EST_SALARY</th>\n",
       "      <th>churn</th>\n",
       "    </tr>\n",
       "  </thead>\n",
       "  <tbody>\n",
       "    <tr>\n",
       "      <th>0</th>\n",
       "      <td>183012</td>\n",
       "      <td>850.0</td>\n",
       "      <td>Рыбинск</td>\n",
       "      <td>Ж</td>\n",
       "      <td>25.0</td>\n",
       "      <td>1</td>\n",
       "      <td>59214.82</td>\n",
       "      <td>2</td>\n",
       "      <td>0</td>\n",
       "      <td>1</td>\n",
       "      <td>75719.14</td>\n",
       "      <td>1</td>\n",
       "    </tr>\n",
       "    <tr>\n",
       "      <th>1</th>\n",
       "      <td>146556</td>\n",
       "      <td>861.0</td>\n",
       "      <td>Рыбинск</td>\n",
       "      <td>Ж</td>\n",
       "      <td>37.0</td>\n",
       "      <td>5</td>\n",
       "      <td>850594.33</td>\n",
       "      <td>3</td>\n",
       "      <td>1</td>\n",
       "      <td>0</td>\n",
       "      <td>86621.77</td>\n",
       "      <td>0</td>\n",
       "    </tr>\n",
       "    <tr>\n",
       "      <th>2</th>\n",
       "      <td>120722</td>\n",
       "      <td>892.0</td>\n",
       "      <td>Рыбинск</td>\n",
       "      <td>Ж</td>\n",
       "      <td>30.0</td>\n",
       "      <td>0</td>\n",
       "      <td>NaN</td>\n",
       "      <td>1</td>\n",
       "      <td>1</td>\n",
       "      <td>1</td>\n",
       "      <td>107683.34</td>\n",
       "      <td>0</td>\n",
       "    </tr>\n",
       "    <tr>\n",
       "      <th>3</th>\n",
       "      <td>225363</td>\n",
       "      <td>866.0</td>\n",
       "      <td>Ярославль</td>\n",
       "      <td>Ж</td>\n",
       "      <td>51.0</td>\n",
       "      <td>5</td>\n",
       "      <td>1524746.26</td>\n",
       "      <td>2</td>\n",
       "      <td>0</td>\n",
       "      <td>1</td>\n",
       "      <td>174423.53</td>\n",
       "      <td>1</td>\n",
       "    </tr>\n",
       "    <tr>\n",
       "      <th>4</th>\n",
       "      <td>157978</td>\n",
       "      <td>730.0</td>\n",
       "      <td>Ярославль</td>\n",
       "      <td>М</td>\n",
       "      <td>34.0</td>\n",
       "      <td>5</td>\n",
       "      <td>174.00</td>\n",
       "      <td>1</td>\n",
       "      <td>1</td>\n",
       "      <td>0</td>\n",
       "      <td>67353.16</td>\n",
       "      <td>1</td>\n",
       "    </tr>\n",
       "    <tr>\n",
       "      <th>5</th>\n",
       "      <td>202305</td>\n",
       "      <td>856.0</td>\n",
       "      <td>Рыбинск</td>\n",
       "      <td>М</td>\n",
       "      <td>56.0</td>\n",
       "      <td>4</td>\n",
       "      <td>863687.24</td>\n",
       "      <td>3</td>\n",
       "      <td>1</td>\n",
       "      <td>0</td>\n",
       "      <td>156619.80</td>\n",
       "      <td>0</td>\n",
       "    </tr>\n",
       "    <tr>\n",
       "      <th>6</th>\n",
       "      <td>177259</td>\n",
       "      <td>807.0</td>\n",
       "      <td>Ярославль</td>\n",
       "      <td>Ж</td>\n",
       "      <td>39.0</td>\n",
       "      <td>3</td>\n",
       "      <td>405042.44</td>\n",
       "      <td>3</td>\n",
       "      <td>0</td>\n",
       "      <td>1</td>\n",
       "      <td>103838.32</td>\n",
       "      <td>0</td>\n",
       "    </tr>\n",
       "    <tr>\n",
       "      <th>7</th>\n",
       "      <td>218868</td>\n",
       "      <td>825.0</td>\n",
       "      <td>Ярославль</td>\n",
       "      <td>Ж</td>\n",
       "      <td>38.0</td>\n",
       "      <td>4</td>\n",
       "      <td>458145.40</td>\n",
       "      <td>2</td>\n",
       "      <td>1</td>\n",
       "      <td>1</td>\n",
       "      <td>68085.48</td>\n",
       "      <td>0</td>\n",
       "    </tr>\n",
       "    <tr>\n",
       "      <th>8</th>\n",
       "      <td>211686</td>\n",
       "      <td>923.0</td>\n",
       "      <td>Ярославль</td>\n",
       "      <td>М</td>\n",
       "      <td>54.0</td>\n",
       "      <td>5</td>\n",
       "      <td>1206337.87</td>\n",
       "      <td>2</td>\n",
       "      <td>1</td>\n",
       "      <td>0</td>\n",
       "      <td>155371.79</td>\n",
       "      <td>0</td>\n",
       "    </tr>\n",
       "    <tr>\n",
       "      <th>9</th>\n",
       "      <td>133130</td>\n",
       "      <td>906.0</td>\n",
       "      <td>Ярославль</td>\n",
       "      <td>Ж</td>\n",
       "      <td>67.0</td>\n",
       "      <td>0</td>\n",
       "      <td>NaN</td>\n",
       "      <td>1</td>\n",
       "      <td>0</td>\n",
       "      <td>1</td>\n",
       "      <td>238055.53</td>\n",
       "      <td>0</td>\n",
       "    </tr>\n",
       "  </tbody>\n",
       "</table>\n",
       "</div>"
      ],
      "text/plain": [
       "   USERID  score       city gender   age  equity     balance  products  \\\n",
       "0  183012  850.0    Рыбинск      Ж  25.0       1    59214.82         2   \n",
       "1  146556  861.0    Рыбинск      Ж  37.0       5   850594.33         3   \n",
       "2  120722  892.0    Рыбинск      Ж  30.0       0         NaN         1   \n",
       "3  225363  866.0  Ярославль      Ж  51.0       5  1524746.26         2   \n",
       "4  157978  730.0  Ярославль      М  34.0       5      174.00         1   \n",
       "5  202305  856.0    Рыбинск      М  56.0       4   863687.24         3   \n",
       "6  177259  807.0  Ярославль      Ж  39.0       3   405042.44         3   \n",
       "7  218868  825.0  Ярославль      Ж  38.0       4   458145.40         2   \n",
       "8  211686  923.0  Ярославль      М  54.0       5  1206337.87         2   \n",
       "9  133130  906.0  Ярославль      Ж  67.0       0         NaN         1   \n",
       "\n",
       "   credit_card  last_activity  EST_SALARY  churn  \n",
       "0            0              1    75719.14      1  \n",
       "1            1              0    86621.77      0  \n",
       "2            1              1   107683.34      0  \n",
       "3            0              1   174423.53      1  \n",
       "4            1              0    67353.16      1  \n",
       "5            1              0   156619.80      0  \n",
       "6            0              1   103838.32      0  \n",
       "7            1              1    68085.48      0  \n",
       "8            1              0   155371.79      0  \n",
       "9            0              1   238055.53      0  "
      ]
     },
     "execution_count": 4,
     "metadata": {},
     "output_type": "execute_result"
    }
   ],
   "source": [
    "data.head(10)"
   ]
  },
  {
   "cell_type": "code",
   "execution_count": 5,
   "metadata": {},
   "outputs": [
    {
     "name": "stdout",
     "output_type": "stream",
     "text": [
      "<class 'pandas.core.frame.DataFrame'>\n",
      "RangeIndex: 10000 entries, 0 to 9999\n",
      "Data columns (total 12 columns):\n",
      " #   Column         Non-Null Count  Dtype  \n",
      "---  ------         --------------  -----  \n",
      " 0   USERID         10000 non-null  int64  \n",
      " 1   score          10000 non-null  float64\n",
      " 2   city           10000 non-null  object \n",
      " 3   gender         10000 non-null  object \n",
      " 4   age            9974 non-null   float64\n",
      " 5   equity         10000 non-null  int64  \n",
      " 6   balance        7705 non-null   float64\n",
      " 7   products       10000 non-null  int64  \n",
      " 8   credit_card    10000 non-null  int64  \n",
      " 9   last_activity  10000 non-null  int64  \n",
      " 10  EST_SALARY     10000 non-null  float64\n",
      " 11  churn          10000 non-null  int64  \n",
      "dtypes: float64(4), int64(6), object(2)\n",
      "memory usage: 937.6+ KB\n"
     ]
    }
   ],
   "source": [
    "data.info()"
   ]
  },
  {
   "cell_type": "code",
   "execution_count": 6,
   "metadata": {},
   "outputs": [
    {
     "data": {
      "text/plain": [
       "(10000, 12)"
      ]
     },
     "execution_count": 6,
     "metadata": {},
     "output_type": "execute_result"
    }
   ],
   "source": [
    "data.shape"
   ]
  },
  {
   "cell_type": "code",
   "execution_count": 7,
   "metadata": {},
   "outputs": [
    {
     "data": {
      "text/plain": [
       "10000"
      ]
     },
     "execution_count": 7,
     "metadata": {},
     "output_type": "execute_result"
    }
   ],
   "source": [
    "# введем переменную num_0, которую используем по завершению предобработки для оценки оставшегося объема данных\n",
    "num_0 = data.shape[0]\n",
    "num_0"
   ]
  },
  {
   "cell_type": "code",
   "execution_count": 8,
   "metadata": {},
   "outputs": [
    {
     "data": {
      "text/html": [
       "<div>\n",
       "<style scoped>\n",
       "    .dataframe tbody tr th:only-of-type {\n",
       "        vertical-align: middle;\n",
       "    }\n",
       "\n",
       "    .dataframe tbody tr th {\n",
       "        vertical-align: top;\n",
       "    }\n",
       "\n",
       "    .dataframe thead th {\n",
       "        text-align: right;\n",
       "    }\n",
       "</style>\n",
       "<table border=\"1\" class=\"dataframe\">\n",
       "  <thead>\n",
       "    <tr style=\"text-align: right;\">\n",
       "      <th></th>\n",
       "      <th>USERID</th>\n",
       "      <th>score</th>\n",
       "      <th>age</th>\n",
       "      <th>equity</th>\n",
       "      <th>balance</th>\n",
       "      <th>products</th>\n",
       "      <th>credit_card</th>\n",
       "      <th>last_activity</th>\n",
       "      <th>EST_SALARY</th>\n",
       "      <th>churn</th>\n",
       "    </tr>\n",
       "  </thead>\n",
       "  <tbody>\n",
       "    <tr>\n",
       "      <th>count</th>\n",
       "      <td>10000.00000</td>\n",
       "      <td>10000.000000</td>\n",
       "      <td>9974.000000</td>\n",
       "      <td>10000.000000</td>\n",
       "      <td>7.705000e+03</td>\n",
       "      <td>10000.000000</td>\n",
       "      <td>10000.000000</td>\n",
       "      <td>10000.000000</td>\n",
       "      <td>1.000000e+04</td>\n",
       "      <td>10000.000000</td>\n",
       "    </tr>\n",
       "    <tr>\n",
       "      <th>mean</th>\n",
       "      <td>171814.71260</td>\n",
       "      <td>848.699400</td>\n",
       "      <td>42.734409</td>\n",
       "      <td>2.627600</td>\n",
       "      <td>8.277943e+05</td>\n",
       "      <td>1.870100</td>\n",
       "      <td>0.680400</td>\n",
       "      <td>0.523500</td>\n",
       "      <td>1.478669e+05</td>\n",
       "      <td>0.182000</td>\n",
       "    </tr>\n",
       "    <tr>\n",
       "      <th>std</th>\n",
       "      <td>33708.23812</td>\n",
       "      <td>65.448519</td>\n",
       "      <td>12.179971</td>\n",
       "      <td>1.980836</td>\n",
       "      <td>1.980614e+06</td>\n",
       "      <td>0.792647</td>\n",
       "      <td>0.466345</td>\n",
       "      <td>0.499472</td>\n",
       "      <td>1.393885e+05</td>\n",
       "      <td>0.385864</td>\n",
       "    </tr>\n",
       "    <tr>\n",
       "      <th>min</th>\n",
       "      <td>94561.00000</td>\n",
       "      <td>642.000000</td>\n",
       "      <td>18.000000</td>\n",
       "      <td>0.000000</td>\n",
       "      <td>0.000000e+00</td>\n",
       "      <td>0.000000</td>\n",
       "      <td>0.000000</td>\n",
       "      <td>0.000000</td>\n",
       "      <td>2.546300e+03</td>\n",
       "      <td>0.000000</td>\n",
       "    </tr>\n",
       "    <tr>\n",
       "      <th>25%</th>\n",
       "      <td>142810.25000</td>\n",
       "      <td>802.000000</td>\n",
       "      <td>33.000000</td>\n",
       "      <td>0.000000</td>\n",
       "      <td>2.955542e+05</td>\n",
       "      <td>1.000000</td>\n",
       "      <td>0.000000</td>\n",
       "      <td>0.000000</td>\n",
       "      <td>7.525190e+04</td>\n",
       "      <td>0.000000</td>\n",
       "    </tr>\n",
       "    <tr>\n",
       "      <th>50%</th>\n",
       "      <td>172728.00000</td>\n",
       "      <td>853.000000</td>\n",
       "      <td>40.000000</td>\n",
       "      <td>3.000000</td>\n",
       "      <td>5.242722e+05</td>\n",
       "      <td>2.000000</td>\n",
       "      <td>1.000000</td>\n",
       "      <td>1.000000</td>\n",
       "      <td>1.196581e+05</td>\n",
       "      <td>0.000000</td>\n",
       "    </tr>\n",
       "    <tr>\n",
       "      <th>75%</th>\n",
       "      <td>201261.75000</td>\n",
       "      <td>900.000000</td>\n",
       "      <td>51.000000</td>\n",
       "      <td>4.000000</td>\n",
       "      <td>9.807058e+05</td>\n",
       "      <td>2.000000</td>\n",
       "      <td>1.000000</td>\n",
       "      <td>1.000000</td>\n",
       "      <td>1.745005e+05</td>\n",
       "      <td>0.000000</td>\n",
       "    </tr>\n",
       "    <tr>\n",
       "      <th>max</th>\n",
       "      <td>229145.00000</td>\n",
       "      <td>1000.000000</td>\n",
       "      <td>86.000000</td>\n",
       "      <td>9.000000</td>\n",
       "      <td>1.191136e+08</td>\n",
       "      <td>5.000000</td>\n",
       "      <td>1.000000</td>\n",
       "      <td>1.000000</td>\n",
       "      <td>1.395064e+06</td>\n",
       "      <td>1.000000</td>\n",
       "    </tr>\n",
       "  </tbody>\n",
       "</table>\n",
       "</div>"
      ],
      "text/plain": [
       "             USERID         score          age        equity       balance  \\\n",
       "count   10000.00000  10000.000000  9974.000000  10000.000000  7.705000e+03   \n",
       "mean   171814.71260    848.699400    42.734409      2.627600  8.277943e+05   \n",
       "std     33708.23812     65.448519    12.179971      1.980836  1.980614e+06   \n",
       "min     94561.00000    642.000000    18.000000      0.000000  0.000000e+00   \n",
       "25%    142810.25000    802.000000    33.000000      0.000000  2.955542e+05   \n",
       "50%    172728.00000    853.000000    40.000000      3.000000  5.242722e+05   \n",
       "75%    201261.75000    900.000000    51.000000      4.000000  9.807058e+05   \n",
       "max    229145.00000   1000.000000    86.000000      9.000000  1.191136e+08   \n",
       "\n",
       "           products   credit_card  last_activity    EST_SALARY         churn  \n",
       "count  10000.000000  10000.000000   10000.000000  1.000000e+04  10000.000000  \n",
       "mean       1.870100      0.680400       0.523500  1.478669e+05      0.182000  \n",
       "std        0.792647      0.466345       0.499472  1.393885e+05      0.385864  \n",
       "min        0.000000      0.000000       0.000000  2.546300e+03      0.000000  \n",
       "25%        1.000000      0.000000       0.000000  7.525190e+04      0.000000  \n",
       "50%        2.000000      1.000000       1.000000  1.196581e+05      0.000000  \n",
       "75%        2.000000      1.000000       1.000000  1.745005e+05      0.000000  \n",
       "max        5.000000      1.000000       1.000000  1.395064e+06      1.000000  "
      ]
     },
     "execution_count": 8,
     "metadata": {},
     "output_type": "execute_result"
    }
   ],
   "source": [
    "data.describe()"
   ]
  },
  {
   "cell_type": "markdown",
   "metadata": {},
   "source": [
    "В нашем распоряжении датафрейм, содержащий 10000 строк и 12 столбцов. \n",
    "\n",
    "Названия столбцов не приведены к единому формату, имеются пропуски в данных (столбцы age и balance), аномальные значения (0 в столце products). Среднее и медианное значение в столбцах balance и est_salary сильно отличаются, что говорит о наличии аномальных значений. Типы данных в столбцах credit_card, last_activity, churn содержат значения 0 и 1, значит должны иметь тип bool. "
   ]
  },
  {
   "cell_type": "markdown",
   "metadata": {},
   "source": [
    "## Предобработка данных:"
   ]
  },
  {
   "cell_type": "markdown",
   "metadata": {},
   "source": [
    "### Приведем названия столбцов к единому формату\n"
   ]
  },
  {
   "cell_type": "code",
   "execution_count": 9,
   "metadata": {},
   "outputs": [
    {
     "data": {
      "text/html": [
       "<div>\n",
       "<style scoped>\n",
       "    .dataframe tbody tr th:only-of-type {\n",
       "        vertical-align: middle;\n",
       "    }\n",
       "\n",
       "    .dataframe tbody tr th {\n",
       "        vertical-align: top;\n",
       "    }\n",
       "\n",
       "    .dataframe thead th {\n",
       "        text-align: right;\n",
       "    }\n",
       "</style>\n",
       "<table border=\"1\" class=\"dataframe\">\n",
       "  <thead>\n",
       "    <tr style=\"text-align: right;\">\n",
       "      <th></th>\n",
       "      <th>user_id</th>\n",
       "      <th>score</th>\n",
       "      <th>city</th>\n",
       "      <th>gender</th>\n",
       "      <th>age</th>\n",
       "      <th>equity</th>\n",
       "      <th>balance</th>\n",
       "      <th>products</th>\n",
       "      <th>credit_card</th>\n",
       "      <th>last_activity</th>\n",
       "      <th>est_salary</th>\n",
       "      <th>churn</th>\n",
       "    </tr>\n",
       "  </thead>\n",
       "  <tbody>\n",
       "    <tr>\n",
       "      <th>0</th>\n",
       "      <td>183012</td>\n",
       "      <td>850.0</td>\n",
       "      <td>Рыбинск</td>\n",
       "      <td>Ж</td>\n",
       "      <td>25.0</td>\n",
       "      <td>1</td>\n",
       "      <td>59214.82</td>\n",
       "      <td>2</td>\n",
       "      <td>0</td>\n",
       "      <td>1</td>\n",
       "      <td>75719.14</td>\n",
       "      <td>1</td>\n",
       "    </tr>\n",
       "    <tr>\n",
       "      <th>1</th>\n",
       "      <td>146556</td>\n",
       "      <td>861.0</td>\n",
       "      <td>Рыбинск</td>\n",
       "      <td>Ж</td>\n",
       "      <td>37.0</td>\n",
       "      <td>5</td>\n",
       "      <td>850594.33</td>\n",
       "      <td>3</td>\n",
       "      <td>1</td>\n",
       "      <td>0</td>\n",
       "      <td>86621.77</td>\n",
       "      <td>0</td>\n",
       "    </tr>\n",
       "    <tr>\n",
       "      <th>2</th>\n",
       "      <td>120722</td>\n",
       "      <td>892.0</td>\n",
       "      <td>Рыбинск</td>\n",
       "      <td>Ж</td>\n",
       "      <td>30.0</td>\n",
       "      <td>0</td>\n",
       "      <td>NaN</td>\n",
       "      <td>1</td>\n",
       "      <td>1</td>\n",
       "      <td>1</td>\n",
       "      <td>107683.34</td>\n",
       "      <td>0</td>\n",
       "    </tr>\n",
       "    <tr>\n",
       "      <th>3</th>\n",
       "      <td>225363</td>\n",
       "      <td>866.0</td>\n",
       "      <td>Ярославль</td>\n",
       "      <td>Ж</td>\n",
       "      <td>51.0</td>\n",
       "      <td>5</td>\n",
       "      <td>1524746.26</td>\n",
       "      <td>2</td>\n",
       "      <td>0</td>\n",
       "      <td>1</td>\n",
       "      <td>174423.53</td>\n",
       "      <td>1</td>\n",
       "    </tr>\n",
       "    <tr>\n",
       "      <th>4</th>\n",
       "      <td>157978</td>\n",
       "      <td>730.0</td>\n",
       "      <td>Ярославль</td>\n",
       "      <td>М</td>\n",
       "      <td>34.0</td>\n",
       "      <td>5</td>\n",
       "      <td>174.00</td>\n",
       "      <td>1</td>\n",
       "      <td>1</td>\n",
       "      <td>0</td>\n",
       "      <td>67353.16</td>\n",
       "      <td>1</td>\n",
       "    </tr>\n",
       "  </tbody>\n",
       "</table>\n",
       "</div>"
      ],
      "text/plain": [
       "   user_id  score       city gender   age  equity     balance  products  \\\n",
       "0   183012  850.0    Рыбинск      Ж  25.0       1    59214.82         2   \n",
       "1   146556  861.0    Рыбинск      Ж  37.0       5   850594.33         3   \n",
       "2   120722  892.0    Рыбинск      Ж  30.0       0         NaN         1   \n",
       "3   225363  866.0  Ярославль      Ж  51.0       5  1524746.26         2   \n",
       "4   157978  730.0  Ярославль      М  34.0       5      174.00         1   \n",
       "\n",
       "   credit_card  last_activity  est_salary  churn  \n",
       "0            0              1    75719.14      1  \n",
       "1            1              0    86621.77      0  \n",
       "2            1              1   107683.34      0  \n",
       "3            0              1   174423.53      1  \n",
       "4            1              0    67353.16      1  "
      ]
     },
     "execution_count": 9,
     "metadata": {},
     "output_type": "execute_result"
    }
   ],
   "source": [
    "data = data.rename(columns = {'USERID':'user_id', 'EST_SALARY': 'est_salary'})\n",
    "data.head()"
   ]
  },
  {
   "cell_type": "markdown",
   "metadata": {},
   "source": [
    "### Оценим типы данных и при необходимости заменим их"
   ]
  },
  {
   "cell_type": "code",
   "execution_count": 10,
   "metadata": {},
   "outputs": [
    {
     "name": "stdout",
     "output_type": "stream",
     "text": [
      "<class 'pandas.core.frame.DataFrame'>\n",
      "RangeIndex: 10000 entries, 0 to 9999\n",
      "Data columns (total 12 columns):\n",
      " #   Column         Non-Null Count  Dtype  \n",
      "---  ------         --------------  -----  \n",
      " 0   user_id        10000 non-null  int64  \n",
      " 1   score          10000 non-null  float64\n",
      " 2   city           10000 non-null  object \n",
      " 3   gender         10000 non-null  object \n",
      " 4   age            9974 non-null   float64\n",
      " 5   equity         10000 non-null  int64  \n",
      " 6   balance        7705 non-null   float64\n",
      " 7   products       10000 non-null  int64  \n",
      " 8   credit_card    10000 non-null  bool   \n",
      " 9   last_activity  10000 non-null  bool   \n",
      " 10  est_salary     10000 non-null  float64\n",
      " 11  churn          10000 non-null  bool   \n",
      "dtypes: bool(3), float64(4), int64(3), object(2)\n",
      "memory usage: 732.5+ KB\n"
     ]
    }
   ],
   "source": [
    "data['credit_card'] = data['credit_card'].astype('bool')\n",
    "data['last_activity'] = data['last_activity'].astype('bool')\n",
    "data['churn'] = data['churn'].astype('bool')\n",
    "\n",
    "data.info()"
   ]
  },
  {
   "cell_type": "markdown",
   "metadata": {},
   "source": [
    "Типы данных соответствуют ожидаемым."
   ]
  },
  {
   "cell_type": "markdown",
   "metadata": {},
   "source": [
    "### Оценим наличие,количество дубликатов (явных и неявных, в определенных столбцах), обработаем их"
   ]
  },
  {
   "cell_type": "code",
   "execution_count": 11,
   "metadata": {},
   "outputs": [
    {
     "data": {
      "text/plain": [
       "0"
      ]
     },
     "execution_count": 11,
     "metadata": {},
     "output_type": "execute_result"
    }
   ],
   "source": [
    "data.duplicated().sum()"
   ]
  },
  {
   "cell_type": "markdown",
   "metadata": {},
   "source": [
    "Полные дубликаты строк в датафрейме отсутствуют. Проверим их наличие с столбце user_id."
   ]
  },
  {
   "cell_type": "code",
   "execution_count": 12,
   "metadata": {},
   "outputs": [
    {
     "data": {
      "text/plain": [
       "73"
      ]
     },
     "execution_count": 12,
     "metadata": {},
     "output_type": "execute_result"
    }
   ],
   "source": [
    "data['user_id'].duplicated().sum()"
   ]
  },
  {
   "cell_type": "markdown",
   "metadata": {},
   "source": [
    "Обнаружилось 73 дубликата. Посмотрим на строки датафрейма с ними, чтобы понять причины их возникновения."
   ]
  },
  {
   "cell_type": "code",
   "execution_count": 13,
   "metadata": {},
   "outputs": [
    {
     "data": {
      "text/html": [
       "<div>\n",
       "<style scoped>\n",
       "    .dataframe tbody tr th:only-of-type {\n",
       "        vertical-align: middle;\n",
       "    }\n",
       "\n",
       "    .dataframe tbody tr th {\n",
       "        vertical-align: top;\n",
       "    }\n",
       "\n",
       "    .dataframe thead th {\n",
       "        text-align: right;\n",
       "    }\n",
       "</style>\n",
       "<table border=\"1\" class=\"dataframe\">\n",
       "  <thead>\n",
       "    <tr style=\"text-align: right;\">\n",
       "      <th></th>\n",
       "      <th>user_id</th>\n",
       "      <th>score</th>\n",
       "      <th>city</th>\n",
       "      <th>gender</th>\n",
       "      <th>age</th>\n",
       "      <th>equity</th>\n",
       "      <th>balance</th>\n",
       "      <th>products</th>\n",
       "      <th>credit_card</th>\n",
       "      <th>last_activity</th>\n",
       "      <th>est_salary</th>\n",
       "      <th>churn</th>\n",
       "    </tr>\n",
       "  </thead>\n",
       "  <tbody>\n",
       "    <tr>\n",
       "      <th>1893</th>\n",
       "      <td>116540</td>\n",
       "      <td>883.0</td>\n",
       "      <td>Рыбинск</td>\n",
       "      <td>Ж</td>\n",
       "      <td>55.0</td>\n",
       "      <td>1</td>\n",
       "      <td>362756.49</td>\n",
       "      <td>3</td>\n",
       "      <td>False</td>\n",
       "      <td>True</td>\n",
       "      <td>175920.48</td>\n",
       "      <td>True</td>\n",
       "    </tr>\n",
       "    <tr>\n",
       "      <th>7694</th>\n",
       "      <td>116540</td>\n",
       "      <td>887.0</td>\n",
       "      <td>Ярославль</td>\n",
       "      <td>Ж</td>\n",
       "      <td>38.0</td>\n",
       "      <td>0</td>\n",
       "      <td>NaN</td>\n",
       "      <td>1</td>\n",
       "      <td>False</td>\n",
       "      <td>True</td>\n",
       "      <td>119247.61</td>\n",
       "      <td>False</td>\n",
       "    </tr>\n",
       "    <tr>\n",
       "      <th>7542</th>\n",
       "      <td>117943</td>\n",
       "      <td>880.0</td>\n",
       "      <td>Ярославль</td>\n",
       "      <td>Ж</td>\n",
       "      <td>40.0</td>\n",
       "      <td>0</td>\n",
       "      <td>NaN</td>\n",
       "      <td>1</td>\n",
       "      <td>True</td>\n",
       "      <td>False</td>\n",
       "      <td>137718.93</td>\n",
       "      <td>False</td>\n",
       "    </tr>\n",
       "    <tr>\n",
       "      <th>4866</th>\n",
       "      <td>117943</td>\n",
       "      <td>855.0</td>\n",
       "      <td>Рыбинск</td>\n",
       "      <td>Ж</td>\n",
       "      <td>32.0</td>\n",
       "      <td>6</td>\n",
       "      <td>1036832.93</td>\n",
       "      <td>4</td>\n",
       "      <td>True</td>\n",
       "      <td>True</td>\n",
       "      <td>107792.71</td>\n",
       "      <td>True</td>\n",
       "    </tr>\n",
       "    <tr>\n",
       "      <th>5896</th>\n",
       "      <td>120258</td>\n",
       "      <td>905.0</td>\n",
       "      <td>Ярославль</td>\n",
       "      <td>М</td>\n",
       "      <td>30.0</td>\n",
       "      <td>0</td>\n",
       "      <td>NaN</td>\n",
       "      <td>1</td>\n",
       "      <td>True</td>\n",
       "      <td>True</td>\n",
       "      <td>146427.96</td>\n",
       "      <td>False</td>\n",
       "    </tr>\n",
       "    <tr>\n",
       "      <th>...</th>\n",
       "      <td>...</td>\n",
       "      <td>...</td>\n",
       "      <td>...</td>\n",
       "      <td>...</td>\n",
       "      <td>...</td>\n",
       "      <td>...</td>\n",
       "      <td>...</td>\n",
       "      <td>...</td>\n",
       "      <td>...</td>\n",
       "      <td>...</td>\n",
       "      <td>...</td>\n",
       "      <td>...</td>\n",
       "    </tr>\n",
       "    <tr>\n",
       "      <th>2597</th>\n",
       "      <td>226719</td>\n",
       "      <td>990.0</td>\n",
       "      <td>Ярославль</td>\n",
       "      <td>М</td>\n",
       "      <td>37.0</td>\n",
       "      <td>4</td>\n",
       "      <td>14648692.14</td>\n",
       "      <td>2</td>\n",
       "      <td>False</td>\n",
       "      <td>False</td>\n",
       "      <td>934412.61</td>\n",
       "      <td>True</td>\n",
       "    </tr>\n",
       "    <tr>\n",
       "      <th>8205</th>\n",
       "      <td>227795</td>\n",
       "      <td>840.0</td>\n",
       "      <td>Рыбинск</td>\n",
       "      <td>М</td>\n",
       "      <td>34.0</td>\n",
       "      <td>2</td>\n",
       "      <td>350768.03</td>\n",
       "      <td>1</td>\n",
       "      <td>True</td>\n",
       "      <td>False</td>\n",
       "      <td>102036.14</td>\n",
       "      <td>True</td>\n",
       "    </tr>\n",
       "    <tr>\n",
       "      <th>8497</th>\n",
       "      <td>227795</td>\n",
       "      <td>839.0</td>\n",
       "      <td>Ярославль</td>\n",
       "      <td>М</td>\n",
       "      <td>34.0</td>\n",
       "      <td>2</td>\n",
       "      <td>326593.14</td>\n",
       "      <td>2</td>\n",
       "      <td>True</td>\n",
       "      <td>False</td>\n",
       "      <td>103314.92</td>\n",
       "      <td>False</td>\n",
       "    </tr>\n",
       "    <tr>\n",
       "      <th>6457</th>\n",
       "      <td>228075</td>\n",
       "      <td>839.0</td>\n",
       "      <td>Рыбинск</td>\n",
       "      <td>М</td>\n",
       "      <td>39.0</td>\n",
       "      <td>5</td>\n",
       "      <td>507199.85</td>\n",
       "      <td>3</td>\n",
       "      <td>False</td>\n",
       "      <td>True</td>\n",
       "      <td>85195.80</td>\n",
       "      <td>False</td>\n",
       "    </tr>\n",
       "    <tr>\n",
       "      <th>1247</th>\n",
       "      <td>228075</td>\n",
       "      <td>932.0</td>\n",
       "      <td>Ярославль</td>\n",
       "      <td>М</td>\n",
       "      <td>NaN</td>\n",
       "      <td>5</td>\n",
       "      <td>7601719.20</td>\n",
       "      <td>2</td>\n",
       "      <td>True</td>\n",
       "      <td>True</td>\n",
       "      <td>408121.16</td>\n",
       "      <td>False</td>\n",
       "    </tr>\n",
       "  </tbody>\n",
       "</table>\n",
       "<p>146 rows × 12 columns</p>\n",
       "</div>"
      ],
      "text/plain": [
       "      user_id  score       city gender   age  equity      balance  products  \\\n",
       "1893   116540  883.0    Рыбинск      Ж  55.0       1    362756.49         3   \n",
       "7694   116540  887.0  Ярославль      Ж  38.0       0          NaN         1   \n",
       "7542   117943  880.0  Ярославль      Ж  40.0       0          NaN         1   \n",
       "4866   117943  855.0    Рыбинск      Ж  32.0       6   1036832.93         4   \n",
       "5896   120258  905.0  Ярославль      М  30.0       0          NaN         1   \n",
       "...       ...    ...        ...    ...   ...     ...          ...       ...   \n",
       "2597   226719  990.0  Ярославль      М  37.0       4  14648692.14         2   \n",
       "8205   227795  840.0    Рыбинск      М  34.0       2    350768.03         1   \n",
       "8497   227795  839.0  Ярославль      М  34.0       2    326593.14         2   \n",
       "6457   228075  839.0    Рыбинск      М  39.0       5    507199.85         3   \n",
       "1247   228075  932.0  Ярославль      М   NaN       5   7601719.20         2   \n",
       "\n",
       "      credit_card  last_activity  est_salary  churn  \n",
       "1893        False           True   175920.48   True  \n",
       "7694        False           True   119247.61  False  \n",
       "7542         True          False   137718.93  False  \n",
       "4866         True           True   107792.71   True  \n",
       "5896         True           True   146427.96  False  \n",
       "...           ...            ...         ...    ...  \n",
       "2597        False          False   934412.61   True  \n",
       "8205         True          False   102036.14   True  \n",
       "8497         True          False   103314.92  False  \n",
       "6457        False           True    85195.80  False  \n",
       "1247         True           True   408121.16  False  \n",
       "\n",
       "[146 rows x 12 columns]"
      ]
     },
     "execution_count": 13,
     "metadata": {},
     "output_type": "execute_result"
    }
   ],
   "source": [
    "duplicates = data[data['user_id'].duplicated(keep=False)].sort_values(by='user_id')\n",
    "duplicates"
   ]
  },
  {
   "cell_type": "markdown",
   "metadata": {},
   "source": [
    "Вероятнее всего, при переезде клиента из одного города в другой (или обращении в филиал банка в другом городе) данные дублировались. Удалим строки с дубликатами."
   ]
  },
  {
   "cell_type": "code",
   "execution_count": 14,
   "metadata": {},
   "outputs": [],
   "source": [
    "data = data.drop_duplicates(subset='user_id', keep = 'first').reset_index(drop= True)"
   ]
  },
  {
   "cell_type": "code",
   "execution_count": 15,
   "metadata": {},
   "outputs": [
    {
     "data": {
      "text/plain": [
       "Ярославль    5856\n",
       "Рыбинск      2654\n",
       "Ростов       1417\n",
       "Name: city, dtype: int64"
      ]
     },
     "execution_count": 15,
     "metadata": {},
     "output_type": "execute_result"
    }
   ],
   "source": [
    "data['city'].value_counts()"
   ]
  },
  {
   "cell_type": "markdown",
   "metadata": {},
   "source": [
    "Названий городов в нашем датафрейме 3, возможные неявные дубликаты отсутствуют."
   ]
  },
  {
   "cell_type": "markdown",
   "metadata": {},
   "source": [
    "### Найдем пропуски данных, проанализируем их и обработаем"
   ]
  },
  {
   "cell_type": "code",
   "execution_count": 16,
   "metadata": {},
   "outputs": [
    {
     "data": {
      "text/plain": [
       "user_id             0\n",
       "score               0\n",
       "city                0\n",
       "gender              0\n",
       "age                 4\n",
       "equity              0\n",
       "balance          2260\n",
       "products            0\n",
       "credit_card         0\n",
       "last_activity       0\n",
       "est_salary          0\n",
       "churn               0\n",
       "dtype: int64"
      ]
     },
     "execution_count": 16,
     "metadata": {},
     "output_type": "execute_result"
    }
   ],
   "source": [
    "data.isna().sum()"
   ]
  },
  {
   "cell_type": "code",
   "execution_count": 17,
   "metadata": {},
   "outputs": [
    {
     "data": {
      "text/plain": [
       "user_id          0.000000\n",
       "score            0.000000\n",
       "city             0.000000\n",
       "gender           0.000000\n",
       "age              0.000403\n",
       "equity           0.000000\n",
       "balance          0.227662\n",
       "products         0.000000\n",
       "credit_card      0.000000\n",
       "last_activity    0.000000\n",
       "est_salary       0.000000\n",
       "churn            0.000000\n",
       "dtype: float64"
      ]
     },
     "execution_count": 17,
     "metadata": {},
     "output_type": "execute_result"
    }
   ],
   "source": [
    "data.isna().mean()"
   ]
  },
  {
   "cell_type": "markdown",
   "metadata": {},
   "source": [
    "Пропуски присутствуют в столбце age, количество их меньше 0,01%. Удалим эти строки."
   ]
  },
  {
   "cell_type": "code",
   "execution_count": 18,
   "metadata": {},
   "outputs": [],
   "source": [
    "data = data.dropna(subset=['age'])"
   ]
  },
  {
   "cell_type": "markdown",
   "metadata": {},
   "source": [
    "И заменим тип данных на int для удобства дальнейшего анализа"
   ]
  },
  {
   "cell_type": "code",
   "execution_count": 19,
   "metadata": {},
   "outputs": [],
   "source": [
    "data['age'] = data['age'].astype(int)"
   ]
  },
  {
   "cell_type": "markdown",
   "metadata": {},
   "source": [
    "Пропуски в столбце balance составляют почти 23%, это слишком значительное количество, чтобы просто удалить их. Заменять пропуски каким-то значением считаю нецелесообразным, так мы исказим конечную статистику."
   ]
  },
  {
   "cell_type": "markdown",
   "metadata": {},
   "source": [
    "Попробуем разобраться в причинах возникновения этих пропусков."
   ]
  },
  {
   "cell_type": "code",
   "execution_count": 20,
   "metadata": {},
   "outputs": [
    {
     "data": {
      "text/html": [
       "<div>\n",
       "<style scoped>\n",
       "    .dataframe tbody tr th:only-of-type {\n",
       "        vertical-align: middle;\n",
       "    }\n",
       "\n",
       "    .dataframe tbody tr th {\n",
       "        vertical-align: top;\n",
       "    }\n",
       "\n",
       "    .dataframe thead th {\n",
       "        text-align: right;\n",
       "    }\n",
       "</style>\n",
       "<table border=\"1\" class=\"dataframe\">\n",
       "  <thead>\n",
       "    <tr style=\"text-align: right;\">\n",
       "      <th></th>\n",
       "      <th>user_id</th>\n",
       "      <th>score</th>\n",
       "      <th>city</th>\n",
       "      <th>gender</th>\n",
       "      <th>age</th>\n",
       "      <th>equity</th>\n",
       "      <th>balance</th>\n",
       "      <th>products</th>\n",
       "      <th>credit_card</th>\n",
       "      <th>last_activity</th>\n",
       "      <th>est_salary</th>\n",
       "      <th>churn</th>\n",
       "    </tr>\n",
       "  </thead>\n",
       "  <tbody>\n",
       "    <tr>\n",
       "      <th>2</th>\n",
       "      <td>120722</td>\n",
       "      <td>892.0</td>\n",
       "      <td>Рыбинск</td>\n",
       "      <td>Ж</td>\n",
       "      <td>30</td>\n",
       "      <td>0</td>\n",
       "      <td>NaN</td>\n",
       "      <td>1</td>\n",
       "      <td>True</td>\n",
       "      <td>True</td>\n",
       "      <td>107683.34</td>\n",
       "      <td>False</td>\n",
       "    </tr>\n",
       "    <tr>\n",
       "      <th>9</th>\n",
       "      <td>133130</td>\n",
       "      <td>906.0</td>\n",
       "      <td>Ярославль</td>\n",
       "      <td>Ж</td>\n",
       "      <td>67</td>\n",
       "      <td>0</td>\n",
       "      <td>NaN</td>\n",
       "      <td>1</td>\n",
       "      <td>False</td>\n",
       "      <td>True</td>\n",
       "      <td>238055.53</td>\n",
       "      <td>False</td>\n",
       "    </tr>\n",
       "    <tr>\n",
       "      <th>10</th>\n",
       "      <td>148929</td>\n",
       "      <td>927.0</td>\n",
       "      <td>Ростов</td>\n",
       "      <td>М</td>\n",
       "      <td>52</td>\n",
       "      <td>0</td>\n",
       "      <td>NaN</td>\n",
       "      <td>1</td>\n",
       "      <td>True</td>\n",
       "      <td>True</td>\n",
       "      <td>196820.07</td>\n",
       "      <td>False</td>\n",
       "    </tr>\n",
       "    <tr>\n",
       "      <th>11</th>\n",
       "      <td>172184</td>\n",
       "      <td>921.0</td>\n",
       "      <td>Ростов</td>\n",
       "      <td>М</td>\n",
       "      <td>41</td>\n",
       "      <td>0</td>\n",
       "      <td>NaN</td>\n",
       "      <td>1</td>\n",
       "      <td>True</td>\n",
       "      <td>True</td>\n",
       "      <td>217469.48</td>\n",
       "      <td>False</td>\n",
       "    </tr>\n",
       "    <tr>\n",
       "      <th>19</th>\n",
       "      <td>127034</td>\n",
       "      <td>922.0</td>\n",
       "      <td>Рыбинск</td>\n",
       "      <td>Ж</td>\n",
       "      <td>53</td>\n",
       "      <td>0</td>\n",
       "      <td>NaN</td>\n",
       "      <td>1</td>\n",
       "      <td>False</td>\n",
       "      <td>False</td>\n",
       "      <td>147094.82</td>\n",
       "      <td>False</td>\n",
       "    </tr>\n",
       "  </tbody>\n",
       "</table>\n",
       "</div>"
      ],
      "text/plain": [
       "    user_id  score       city gender  age  equity  balance  products  \\\n",
       "2    120722  892.0    Рыбинск      Ж   30       0      NaN         1   \n",
       "9    133130  906.0  Ярославль      Ж   67       0      NaN         1   \n",
       "10   148929  927.0     Ростов      М   52       0      NaN         1   \n",
       "11   172184  921.0     Ростов      М   41       0      NaN         1   \n",
       "19   127034  922.0    Рыбинск      Ж   53       0      NaN         1   \n",
       "\n",
       "    credit_card  last_activity  est_salary  churn  \n",
       "2          True           True   107683.34  False  \n",
       "9         False           True   238055.53  False  \n",
       "10         True           True   196820.07  False  \n",
       "11         True           True   217469.48  False  \n",
       "19        False          False   147094.82  False  "
      ]
     },
     "execution_count": 20,
     "metadata": {},
     "output_type": "execute_result"
    }
   ],
   "source": [
    "# выведем первые строки таблицы с клиентами, у которых не заполнено значение balance.\n",
    "\n",
    "data_no_balances = data[data['balance'].isnull()]\n",
    "data_no_balances.head(5)"
   ]
  },
  {
   "cell_type": "code",
   "execution_count": 21,
   "metadata": {},
   "outputs": [
    {
     "data": {
      "text/html": [
       "<div>\n",
       "<style scoped>\n",
       "    .dataframe tbody tr th:only-of-type {\n",
       "        vertical-align: middle;\n",
       "    }\n",
       "\n",
       "    .dataframe tbody tr th {\n",
       "        vertical-align: top;\n",
       "    }\n",
       "\n",
       "    .dataframe thead th {\n",
       "        text-align: right;\n",
       "    }\n",
       "</style>\n",
       "<table border=\"1\" class=\"dataframe\">\n",
       "  <thead>\n",
       "    <tr style=\"text-align: right;\">\n",
       "      <th></th>\n",
       "      <th>user_id</th>\n",
       "      <th>score</th>\n",
       "      <th>city</th>\n",
       "      <th>gender</th>\n",
       "      <th>age</th>\n",
       "      <th>equity</th>\n",
       "      <th>balance</th>\n",
       "      <th>products</th>\n",
       "      <th>credit_card</th>\n",
       "      <th>last_activity</th>\n",
       "      <th>est_salary</th>\n",
       "      <th>churn</th>\n",
       "    </tr>\n",
       "  </thead>\n",
       "  <tbody>\n",
       "    <tr>\n",
       "      <th>0</th>\n",
       "      <td>183012</td>\n",
       "      <td>850.0</td>\n",
       "      <td>Рыбинск</td>\n",
       "      <td>Ж</td>\n",
       "      <td>25</td>\n",
       "      <td>1</td>\n",
       "      <td>59214.82</td>\n",
       "      <td>2</td>\n",
       "      <td>False</td>\n",
       "      <td>True</td>\n",
       "      <td>75719.14</td>\n",
       "      <td>True</td>\n",
       "    </tr>\n",
       "    <tr>\n",
       "      <th>1</th>\n",
       "      <td>146556</td>\n",
       "      <td>861.0</td>\n",
       "      <td>Рыбинск</td>\n",
       "      <td>Ж</td>\n",
       "      <td>37</td>\n",
       "      <td>5</td>\n",
       "      <td>850594.33</td>\n",
       "      <td>3</td>\n",
       "      <td>True</td>\n",
       "      <td>False</td>\n",
       "      <td>86621.77</td>\n",
       "      <td>False</td>\n",
       "    </tr>\n",
       "    <tr>\n",
       "      <th>3</th>\n",
       "      <td>225363</td>\n",
       "      <td>866.0</td>\n",
       "      <td>Ярославль</td>\n",
       "      <td>Ж</td>\n",
       "      <td>51</td>\n",
       "      <td>5</td>\n",
       "      <td>1524746.26</td>\n",
       "      <td>2</td>\n",
       "      <td>False</td>\n",
       "      <td>True</td>\n",
       "      <td>174423.53</td>\n",
       "      <td>True</td>\n",
       "    </tr>\n",
       "    <tr>\n",
       "      <th>4</th>\n",
       "      <td>157978</td>\n",
       "      <td>730.0</td>\n",
       "      <td>Ярославль</td>\n",
       "      <td>М</td>\n",
       "      <td>34</td>\n",
       "      <td>5</td>\n",
       "      <td>174.00</td>\n",
       "      <td>1</td>\n",
       "      <td>True</td>\n",
       "      <td>False</td>\n",
       "      <td>67353.16</td>\n",
       "      <td>True</td>\n",
       "    </tr>\n",
       "    <tr>\n",
       "      <th>5</th>\n",
       "      <td>202305</td>\n",
       "      <td>856.0</td>\n",
       "      <td>Рыбинск</td>\n",
       "      <td>М</td>\n",
       "      <td>56</td>\n",
       "      <td>4</td>\n",
       "      <td>863687.24</td>\n",
       "      <td>3</td>\n",
       "      <td>True</td>\n",
       "      <td>False</td>\n",
       "      <td>156619.80</td>\n",
       "      <td>False</td>\n",
       "    </tr>\n",
       "  </tbody>\n",
       "</table>\n",
       "</div>"
      ],
      "text/plain": [
       "   user_id  score       city gender  age  equity     balance  products  \\\n",
       "0   183012  850.0    Рыбинск      Ж   25       1    59214.82         2   \n",
       "1   146556  861.0    Рыбинск      Ж   37       5   850594.33         3   \n",
       "3   225363  866.0  Ярославль      Ж   51       5  1524746.26         2   \n",
       "4   157978  730.0  Ярославль      М   34       5      174.00         1   \n",
       "5   202305  856.0    Рыбинск      М   56       4   863687.24         3   \n",
       "\n",
       "   credit_card  last_activity  est_salary  churn  \n",
       "0        False           True    75719.14   True  \n",
       "1         True          False    86621.77  False  \n",
       "3        False           True   174423.53   True  \n",
       "4         True          False    67353.16   True  \n",
       "5         True          False   156619.80  False  "
      ]
     },
     "execution_count": 21,
     "metadata": {},
     "output_type": "execute_result"
    }
   ],
   "source": [
    "# выведем первые строки таблицы с клиентами, у которых заполнено значение balance.\n",
    "\n",
    "data_balance = data[data['balance'].notnull()]\n",
    "data_balance.head(5)"
   ]
  },
  {
   "cell_type": "markdown",
   "metadata": {},
   "source": [
    "Посмотрим, есть ли отличия в городах проживания клиентов. Возможно, есть какой-то город-аутсайдер по формированию пропусков."
   ]
  },
  {
   "cell_type": "code",
   "execution_count": 22,
   "metadata": {},
   "outputs": [
    {
     "data": {
      "text/plain": [
       "Ярославль    1449\n",
       "Рыбинск       576\n",
       "Ростов        235\n",
       "Name: city, dtype: int64"
      ]
     },
     "execution_count": 22,
     "metadata": {},
     "output_type": "execute_result"
    }
   ],
   "source": [
    "data_no_balances['city'].value_counts()"
   ]
  },
  {
   "cell_type": "markdown",
   "metadata": {},
   "source": [
    "Посчитаем процент клиентов \"без баланса\" в каждом городе"
   ]
  },
  {
   "cell_type": "code",
   "execution_count": 23,
   "metadata": {},
   "outputs": [
    {
     "data": {
      "text/plain": [
       "Ярославль    24.75\n",
       "Рыбинск      21.71\n",
       "Ростов       16.60\n",
       "Name: city, dtype: float64"
      ]
     },
     "execution_count": 23,
     "metadata": {},
     "output_type": "execute_result"
    }
   ],
   "source": [
    "# 1. Количество клиентов с пропусками в балансе по каждому городу\n",
    "missing_balance_counts = data_no_balances['city'].value_counts()\n",
    "\n",
    "# 2. Общее количество клиентов в каждом городе\n",
    "total_clients_by_city = data['city'].value_counts()\n",
    "\n",
    "# 3. Вычисление процента клиентов с пропусками в балансе\n",
    "percentage_missing_balance = (missing_balance_counts / total_clients_by_city) * 100\n",
    "\n",
    "# Вывод результата\n",
    "percentage_missing_balance.round(2)\n"
   ]
  },
  {
   "cell_type": "markdown",
   "metadata": {},
   "source": [
    "Чаще пропуски наблюдаются у клиентов из Ярославля и Рыбинска. Но немало их и в Ростове."
   ]
  },
  {
   "cell_type": "markdown",
   "metadata": {},
   "source": [
    "Попробуем найти другие причины пропусков в столбце balance."
   ]
  },
  {
   "cell_type": "code",
   "execution_count": 24,
   "metadata": {},
   "outputs": [
    {
     "data": {
      "text/html": [
       "<div>\n",
       "<style scoped>\n",
       "    .dataframe tbody tr th:only-of-type {\n",
       "        vertical-align: middle;\n",
       "    }\n",
       "\n",
       "    .dataframe tbody tr th {\n",
       "        vertical-align: top;\n",
       "    }\n",
       "\n",
       "    .dataframe thead th {\n",
       "        text-align: right;\n",
       "    }\n",
       "</style>\n",
       "<table border=\"1\" class=\"dataframe\">\n",
       "  <thead>\n",
       "    <tr style=\"text-align: right;\">\n",
       "      <th></th>\n",
       "      <th>user_id</th>\n",
       "      <th>score</th>\n",
       "      <th>age</th>\n",
       "      <th>equity</th>\n",
       "      <th>balance</th>\n",
       "      <th>products</th>\n",
       "      <th>est_salary</th>\n",
       "    </tr>\n",
       "  </thead>\n",
       "  <tbody>\n",
       "    <tr>\n",
       "      <th>count</th>\n",
       "      <td>2260.000000</td>\n",
       "      <td>2260.000000</td>\n",
       "      <td>2260.000000</td>\n",
       "      <td>2260.000000</td>\n",
       "      <td>0.0</td>\n",
       "      <td>2260.000000</td>\n",
       "      <td>2.260000e+03</td>\n",
       "    </tr>\n",
       "    <tr>\n",
       "      <th>mean</th>\n",
       "      <td>171975.568584</td>\n",
       "      <td>865.334956</td>\n",
       "      <td>42.125664</td>\n",
       "      <td>0.051770</td>\n",
       "      <td>NaN</td>\n",
       "      <td>1.161504</td>\n",
       "      <td>2.267006e+05</td>\n",
       "    </tr>\n",
       "    <tr>\n",
       "      <th>std</th>\n",
       "      <td>33277.188448</td>\n",
       "      <td>89.669447</td>\n",
       "      <td>11.953138</td>\n",
       "      <td>0.227525</td>\n",
       "      <td>NaN</td>\n",
       "      <td>0.401442</td>\n",
       "      <td>1.999817e+05</td>\n",
       "    </tr>\n",
       "    <tr>\n",
       "      <th>min</th>\n",
       "      <td>114182.000000</td>\n",
       "      <td>642.000000</td>\n",
       "      <td>18.000000</td>\n",
       "      <td>0.000000</td>\n",
       "      <td>NaN</td>\n",
       "      <td>0.000000</td>\n",
       "      <td>2.027403e+04</td>\n",
       "    </tr>\n",
       "    <tr>\n",
       "      <th>25%</th>\n",
       "      <td>143067.000000</td>\n",
       "      <td>871.000000</td>\n",
       "      <td>33.000000</td>\n",
       "      <td>0.000000</td>\n",
       "      <td>NaN</td>\n",
       "      <td>1.000000</td>\n",
       "      <td>1.204570e+05</td>\n",
       "    </tr>\n",
       "    <tr>\n",
       "      <th>50%</th>\n",
       "      <td>172498.500000</td>\n",
       "      <td>903.000000</td>\n",
       "      <td>40.000000</td>\n",
       "      <td>0.000000</td>\n",
       "      <td>NaN</td>\n",
       "      <td>1.000000</td>\n",
       "      <td>1.747554e+05</td>\n",
       "    </tr>\n",
       "    <tr>\n",
       "      <th>75%</th>\n",
       "      <td>201354.250000</td>\n",
       "      <td>922.000000</td>\n",
       "      <td>49.000000</td>\n",
       "      <td>0.000000</td>\n",
       "      <td>NaN</td>\n",
       "      <td>1.000000</td>\n",
       "      <td>2.404518e+05</td>\n",
       "    </tr>\n",
       "    <tr>\n",
       "      <th>max</th>\n",
       "      <td>229145.000000</td>\n",
       "      <td>990.000000</td>\n",
       "      <td>86.000000</td>\n",
       "      <td>3.000000</td>\n",
       "      <td>NaN</td>\n",
       "      <td>3.000000</td>\n",
       "      <td>1.333687e+06</td>\n",
       "    </tr>\n",
       "  </tbody>\n",
       "</table>\n",
       "</div>"
      ],
      "text/plain": [
       "             user_id        score          age       equity  balance  \\\n",
       "count    2260.000000  2260.000000  2260.000000  2260.000000      0.0   \n",
       "mean   171975.568584   865.334956    42.125664     0.051770      NaN   \n",
       "std     33277.188448    89.669447    11.953138     0.227525      NaN   \n",
       "min    114182.000000   642.000000    18.000000     0.000000      NaN   \n",
       "25%    143067.000000   871.000000    33.000000     0.000000      NaN   \n",
       "50%    172498.500000   903.000000    40.000000     0.000000      NaN   \n",
       "75%    201354.250000   922.000000    49.000000     0.000000      NaN   \n",
       "max    229145.000000   990.000000    86.000000     3.000000      NaN   \n",
       "\n",
       "          products    est_salary  \n",
       "count  2260.000000  2.260000e+03  \n",
       "mean      1.161504  2.267006e+05  \n",
       "std       0.401442  1.999817e+05  \n",
       "min       0.000000  2.027403e+04  \n",
       "25%       1.000000  1.204570e+05  \n",
       "50%       1.000000  1.747554e+05  \n",
       "75%       1.000000  2.404518e+05  \n",
       "max       3.000000  1.333687e+06  "
      ]
     },
     "execution_count": 24,
     "metadata": {},
     "output_type": "execute_result"
    }
   ],
   "source": [
    "data_no_balances.describe()"
   ]
  },
  {
   "cell_type": "code",
   "execution_count": 25,
   "metadata": {},
   "outputs": [
    {
     "data": {
      "text/html": [
       "<div>\n",
       "<style scoped>\n",
       "    .dataframe tbody tr th:only-of-type {\n",
       "        vertical-align: middle;\n",
       "    }\n",
       "\n",
       "    .dataframe tbody tr th {\n",
       "        vertical-align: top;\n",
       "    }\n",
       "\n",
       "    .dataframe thead th {\n",
       "        text-align: right;\n",
       "    }\n",
       "</style>\n",
       "<table border=\"1\" class=\"dataframe\">\n",
       "  <thead>\n",
       "    <tr style=\"text-align: right;\">\n",
       "      <th></th>\n",
       "      <th>user_id</th>\n",
       "      <th>score</th>\n",
       "      <th>age</th>\n",
       "      <th>equity</th>\n",
       "      <th>balance</th>\n",
       "      <th>products</th>\n",
       "      <th>est_salary</th>\n",
       "    </tr>\n",
       "  </thead>\n",
       "  <tbody>\n",
       "    <tr>\n",
       "      <th>count</th>\n",
       "      <td>7663.000000</td>\n",
       "      <td>7663.000000</td>\n",
       "      <td>7663.000000</td>\n",
       "      <td>7663.000000</td>\n",
       "      <td>7.663000e+03</td>\n",
       "      <td>7663.000000</td>\n",
       "      <td>7.663000e+03</td>\n",
       "    </tr>\n",
       "    <tr>\n",
       "      <th>mean</th>\n",
       "      <td>171659.494062</td>\n",
       "      <td>843.835835</td>\n",
       "      <td>42.907216</td>\n",
       "      <td>3.395928</td>\n",
       "      <td>8.282482e+05</td>\n",
       "      <td>2.080908</td>\n",
       "      <td>1.246424e+05</td>\n",
       "    </tr>\n",
       "    <tr>\n",
       "      <th>std</th>\n",
       "      <td>33818.241547</td>\n",
       "      <td>55.343192</td>\n",
       "      <td>12.237337</td>\n",
       "      <td>1.584509</td>\n",
       "      <td>1.984248e+06</td>\n",
       "      <td>0.757959</td>\n",
       "      <td>1.048211e+05</td>\n",
       "    </tr>\n",
       "    <tr>\n",
       "      <th>min</th>\n",
       "      <td>94561.000000</td>\n",
       "      <td>689.000000</td>\n",
       "      <td>18.000000</td>\n",
       "      <td>0.000000</td>\n",
       "      <td>0.000000e+00</td>\n",
       "      <td>1.000000</td>\n",
       "      <td>2.546300e+03</td>\n",
       "    </tr>\n",
       "    <tr>\n",
       "      <th>25%</th>\n",
       "      <td>142562.000000</td>\n",
       "      <td>801.000000</td>\n",
       "      <td>33.000000</td>\n",
       "      <td>2.000000</td>\n",
       "      <td>2.954990e+05</td>\n",
       "      <td>2.000000</td>\n",
       "      <td>6.758873e+04</td>\n",
       "    </tr>\n",
       "    <tr>\n",
       "      <th>50%</th>\n",
       "      <td>172667.000000</td>\n",
       "      <td>841.000000</td>\n",
       "      <td>40.000000</td>\n",
       "      <td>4.000000</td>\n",
       "      <td>5.249612e+05</td>\n",
       "      <td>2.000000</td>\n",
       "      <td>1.063552e+05</td>\n",
       "    </tr>\n",
       "    <tr>\n",
       "      <th>75%</th>\n",
       "      <td>201019.000000</td>\n",
       "      <td>882.000000</td>\n",
       "      <td>52.000000</td>\n",
       "      <td>5.000000</td>\n",
       "      <td>9.808015e+05</td>\n",
       "      <td>2.000000</td>\n",
       "      <td>1.553635e+05</td>\n",
       "    </tr>\n",
       "    <tr>\n",
       "      <th>max</th>\n",
       "      <td>229136.000000</td>\n",
       "      <td>1000.000000</td>\n",
       "      <td>86.000000</td>\n",
       "      <td>9.000000</td>\n",
       "      <td>1.191136e+08</td>\n",
       "      <td>5.000000</td>\n",
       "      <td>1.395064e+06</td>\n",
       "    </tr>\n",
       "  </tbody>\n",
       "</table>\n",
       "</div>"
      ],
      "text/plain": [
       "             user_id        score          age       equity       balance  \\\n",
       "count    7663.000000  7663.000000  7663.000000  7663.000000  7.663000e+03   \n",
       "mean   171659.494062   843.835835    42.907216     3.395928  8.282482e+05   \n",
       "std     33818.241547    55.343192    12.237337     1.584509  1.984248e+06   \n",
       "min     94561.000000   689.000000    18.000000     0.000000  0.000000e+00   \n",
       "25%    142562.000000   801.000000    33.000000     2.000000  2.954990e+05   \n",
       "50%    172667.000000   841.000000    40.000000     4.000000  5.249612e+05   \n",
       "75%    201019.000000   882.000000    52.000000     5.000000  9.808015e+05   \n",
       "max    229136.000000  1000.000000    86.000000     9.000000  1.191136e+08   \n",
       "\n",
       "          products    est_salary  \n",
       "count  7663.000000  7.663000e+03  \n",
       "mean      2.080908  1.246424e+05  \n",
       "std       0.757959  1.048211e+05  \n",
       "min       1.000000  2.546300e+03  \n",
       "25%       2.000000  6.758873e+04  \n",
       "50%       2.000000  1.063552e+05  \n",
       "75%       2.000000  1.553635e+05  \n",
       "max       5.000000  1.395064e+06  "
      ]
     },
     "execution_count": 25,
     "metadata": {},
     "output_type": "execute_result"
    }
   ],
   "source": [
    "data_balance.describe()"
   ]
  },
  {
   "cell_type": "markdown",
   "metadata": {},
   "source": [
    "Обращает на себя внимание, что среди клиентов, у которых отсутствует баланс, встречаются \"аномальные\" по значению столбца products (встречается значение 0, но клиентом банка заведомо может являться человек, который пользуется хотя бы одним банковским продуктом). Также клиенты \"без баланса\" имеют меньшее количество баллов собственности (максимум 3, а больше 75% пользователей не имеют ее совсем - 0 баллов). Однако окончательно сделать вывод о причинах такого количества пропусков сложно."
   ]
  },
  {
   "cell_type": "markdown",
   "metadata": {},
   "source": [
    "Тем не менее, учитывая, что пропуски в столбце balance составляют почти 23%, оставим их без изменения."
   ]
  },
  {
   "cell_type": "markdown",
   "metadata": {},
   "source": [
    "### Найдем аномалии данных, обработаем их\n"
   ]
  },
  {
   "cell_type": "code",
   "execution_count": 26,
   "metadata": {},
   "outputs": [
    {
     "data": {
      "text/html": [
       "<div>\n",
       "<style scoped>\n",
       "    .dataframe tbody tr th:only-of-type {\n",
       "        vertical-align: middle;\n",
       "    }\n",
       "\n",
       "    .dataframe tbody tr th {\n",
       "        vertical-align: top;\n",
       "    }\n",
       "\n",
       "    .dataframe thead th {\n",
       "        text-align: right;\n",
       "    }\n",
       "</style>\n",
       "<table border=\"1\" class=\"dataframe\">\n",
       "  <thead>\n",
       "    <tr style=\"text-align: right;\">\n",
       "      <th></th>\n",
       "      <th>user_id</th>\n",
       "      <th>score</th>\n",
       "      <th>age</th>\n",
       "      <th>equity</th>\n",
       "      <th>balance</th>\n",
       "      <th>products</th>\n",
       "      <th>est_salary</th>\n",
       "    </tr>\n",
       "  </thead>\n",
       "  <tbody>\n",
       "    <tr>\n",
       "      <th>count</th>\n",
       "      <td>9923.000000</td>\n",
       "      <td>9923.000000</td>\n",
       "      <td>9923.000000</td>\n",
       "      <td>9923.000000</td>\n",
       "      <td>7.663000e+03</td>\n",
       "      <td>9923.000000</td>\n",
       "      <td>9.923000e+03</td>\n",
       "    </tr>\n",
       "    <tr>\n",
       "      <th>mean</th>\n",
       "      <td>171731.481205</td>\n",
       "      <td>848.732339</td>\n",
       "      <td>42.729215</td>\n",
       "      <td>2.634284</td>\n",
       "      <td>8.282482e+05</td>\n",
       "      <td>1.871511</td>\n",
       "      <td>1.478865e+05</td>\n",
       "    </tr>\n",
       "    <tr>\n",
       "      <th>std</th>\n",
       "      <td>33694.370969</td>\n",
       "      <td>65.400112</td>\n",
       "      <td>12.177008</td>\n",
       "      <td>1.979328</td>\n",
       "      <td>1.984248e+06</td>\n",
       "      <td>0.793110</td>\n",
       "      <td>1.393639e+05</td>\n",
       "    </tr>\n",
       "    <tr>\n",
       "      <th>min</th>\n",
       "      <td>94561.000000</td>\n",
       "      <td>642.000000</td>\n",
       "      <td>18.000000</td>\n",
       "      <td>0.000000</td>\n",
       "      <td>0.000000e+00</td>\n",
       "      <td>0.000000</td>\n",
       "      <td>2.546300e+03</td>\n",
       "    </tr>\n",
       "    <tr>\n",
       "      <th>25%</th>\n",
       "      <td>142720.000000</td>\n",
       "      <td>802.000000</td>\n",
       "      <td>33.000000</td>\n",
       "      <td>0.000000</td>\n",
       "      <td>2.954990e+05</td>\n",
       "      <td>1.000000</td>\n",
       "      <td>7.525212e+04</td>\n",
       "    </tr>\n",
       "    <tr>\n",
       "      <th>50%</th>\n",
       "      <td>172635.000000</td>\n",
       "      <td>853.000000</td>\n",
       "      <td>40.000000</td>\n",
       "      <td>3.000000</td>\n",
       "      <td>5.249612e+05</td>\n",
       "      <td>2.000000</td>\n",
       "      <td>1.197193e+05</td>\n",
       "    </tr>\n",
       "    <tr>\n",
       "      <th>75%</th>\n",
       "      <td>201157.500000</td>\n",
       "      <td>900.000000</td>\n",
       "      <td>51.000000</td>\n",
       "      <td>4.000000</td>\n",
       "      <td>9.808015e+05</td>\n",
       "      <td>2.000000</td>\n",
       "      <td>1.746733e+05</td>\n",
       "    </tr>\n",
       "    <tr>\n",
       "      <th>max</th>\n",
       "      <td>229145.000000</td>\n",
       "      <td>1000.000000</td>\n",
       "      <td>86.000000</td>\n",
       "      <td>9.000000</td>\n",
       "      <td>1.191136e+08</td>\n",
       "      <td>5.000000</td>\n",
       "      <td>1.395064e+06</td>\n",
       "    </tr>\n",
       "  </tbody>\n",
       "</table>\n",
       "</div>"
      ],
      "text/plain": [
       "             user_id        score          age       equity       balance  \\\n",
       "count    9923.000000  9923.000000  9923.000000  9923.000000  7.663000e+03   \n",
       "mean   171731.481205   848.732339    42.729215     2.634284  8.282482e+05   \n",
       "std     33694.370969    65.400112    12.177008     1.979328  1.984248e+06   \n",
       "min     94561.000000   642.000000    18.000000     0.000000  0.000000e+00   \n",
       "25%    142720.000000   802.000000    33.000000     0.000000  2.954990e+05   \n",
       "50%    172635.000000   853.000000    40.000000     3.000000  5.249612e+05   \n",
       "75%    201157.500000   900.000000    51.000000     4.000000  9.808015e+05   \n",
       "max    229145.000000  1000.000000    86.000000     9.000000  1.191136e+08   \n",
       "\n",
       "          products    est_salary  \n",
       "count  9923.000000  9.923000e+03  \n",
       "mean      1.871511  1.478865e+05  \n",
       "std       0.793110  1.393639e+05  \n",
       "min       0.000000  2.546300e+03  \n",
       "25%       1.000000  7.525212e+04  \n",
       "50%       2.000000  1.197193e+05  \n",
       "75%       2.000000  1.746733e+05  \n",
       "max       5.000000  1.395064e+06  "
      ]
     },
     "execution_count": 26,
     "metadata": {},
     "output_type": "execute_result"
    }
   ],
   "source": [
    "data.describe()"
   ]
  },
  {
   "cell_type": "markdown",
   "metadata": {},
   "source": [
    "Найдем \"аномальных клиентов банка\", которые не пользуются ни одним банковским продуктом."
   ]
  },
  {
   "cell_type": "code",
   "execution_count": 27,
   "metadata": {},
   "outputs": [
    {
     "data": {
      "text/html": [
       "<div>\n",
       "<style scoped>\n",
       "    .dataframe tbody tr th:only-of-type {\n",
       "        vertical-align: middle;\n",
       "    }\n",
       "\n",
       "    .dataframe tbody tr th {\n",
       "        vertical-align: top;\n",
       "    }\n",
       "\n",
       "    .dataframe thead th {\n",
       "        text-align: right;\n",
       "    }\n",
       "</style>\n",
       "<table border=\"1\" class=\"dataframe\">\n",
       "  <thead>\n",
       "    <tr style=\"text-align: right;\">\n",
       "      <th></th>\n",
       "      <th>user_id</th>\n",
       "      <th>score</th>\n",
       "      <th>city</th>\n",
       "      <th>gender</th>\n",
       "      <th>age</th>\n",
       "      <th>equity</th>\n",
       "      <th>balance</th>\n",
       "      <th>products</th>\n",
       "      <th>credit_card</th>\n",
       "      <th>last_activity</th>\n",
       "      <th>est_salary</th>\n",
       "      <th>churn</th>\n",
       "    </tr>\n",
       "  </thead>\n",
       "  <tbody>\n",
       "    <tr>\n",
       "      <th>8905</th>\n",
       "      <td>147837</td>\n",
       "      <td>962.0</td>\n",
       "      <td>Рыбинск</td>\n",
       "      <td>Ж</td>\n",
       "      <td>79</td>\n",
       "      <td>3</td>\n",
       "      <td>NaN</td>\n",
       "      <td>0</td>\n",
       "      <td>False</td>\n",
       "      <td>False</td>\n",
       "      <td>25063.96</td>\n",
       "      <td>True</td>\n",
       "    </tr>\n",
       "  </tbody>\n",
       "</table>\n",
       "</div>"
      ],
      "text/plain": [
       "      user_id  score     city gender  age  equity  balance  products  \\\n",
       "8905   147837  962.0  Рыбинск      Ж   79       3      NaN         0   \n",
       "\n",
       "      credit_card  last_activity  est_salary  churn  \n",
       "8905        False          False    25063.96   True  "
      ]
     },
     "execution_count": 27,
     "metadata": {},
     "output_type": "execute_result"
    }
   ],
   "source": [
    "data_anom = data[data['products']==0]\n",
    "data_anom"
   ]
  },
  {
   "cell_type": "markdown",
   "metadata": {},
   "source": [
    "Удалим этого пользователя"
   ]
  },
  {
   "cell_type": "code",
   "execution_count": 28,
   "metadata": {},
   "outputs": [],
   "source": [
    "data = data[data['products'] != 0]"
   ]
  },
  {
   "cell_type": "markdown",
   "metadata": {},
   "source": [
    "Рассмотрим распределение ***оценочного дохода*** клиентов банка."
   ]
  },
  {
   "cell_type": "code",
   "execution_count": 29,
   "metadata": {},
   "outputs": [
    {
     "data": {
      "image/png": "[encoded data removed]",
      "text/plain": [
       "<Figure size 1080x432 with 1 Axes>"
      ]
     },
     "metadata": {
      "needs_background": "light"
     },
     "output_type": "display_data"
    }
   ],
   "source": [
    "plt.figure(figsize=(15, 6))\n",
    "sns.boxplot(data=data, x='est_salary')\n",
    "plt.title(\"Распределение оценочного дохода клиентов\")\n",
    "plt.show()"
   ]
  },
  {
   "cell_type": "markdown",
   "metadata": {},
   "source": [
    "Обращает на себя внимание наличие аномально высоких значений."
   ]
  },
  {
   "cell_type": "code",
   "execution_count": 30,
   "metadata": {},
   "outputs": [
    {
     "data": {
      "text/plain": [
       "array([242358.289 , 316862.9855, 665401.6992])"
      ]
     },
     "execution_count": 30,
     "metadata": {},
     "output_type": "execute_result"
    }
   ],
   "source": [
    "percentiles = np.percentile(data['est_salary'], [90,95, 98])\n",
    "percentiles\n"
   ]
  },
  {
   "cell_type": "markdown",
   "metadata": {},
   "source": [
    "Всего 2% клиентов банка имеют оценочный доход свыше 665 тыс. рублей. Удалим эти аномальные значения."
   ]
  },
  {
   "cell_type": "code",
   "execution_count": 31,
   "metadata": {},
   "outputs": [],
   "source": [
    "data = data[data['est_salary'] <= np.percentile(data['est_salary'], 98)]\n"
   ]
  },
  {
   "cell_type": "markdown",
   "metadata": {},
   "source": [
    "Считать ли аномальным минимальный размер est_salary в 2546 рублей, ответить сложно,т.к. неизвестен период, за который предоставлен отчет (и соответственно, размер МРОТ на тот момент)."
   ]
  },
  {
   "cell_type": "markdown",
   "metadata": {},
   "source": [
    "Рассмотрим распределение ***баланса*** клиентов банка на наличие аномальных значений."
   ]
  },
  {
   "cell_type": "code",
   "execution_count": 32,
   "metadata": {},
   "outputs": [
    {
     "data": {
      "image/png": "[encoded data removed]",
      "text/plain": [
       "<Figure size 1080x432 with 1 Axes>"
      ]
     },
     "metadata": {
      "needs_background": "light"
     },
     "output_type": "display_data"
    }
   ],
   "source": [
    "plt.figure(figsize=(15, 6))\n",
    "sns.boxplot(data=data, x='balance')\n",
    "plt.title(\"Распределение баланса клиентов\")\n",
    "plt.xlabel(\"Баланс на счете\")\n",
    "plt.show()"
   ]
  },
  {
   "cell_type": "code",
   "execution_count": 33,
   "metadata": {},
   "outputs": [
    {
     "data": {
      "image/png": "[encoded data removed]",
      "text/plain": [
       "<Figure size 1080x432 with 1 Axes>"
      ]
     },
     "metadata": {
      "needs_background": "light"
     },
     "output_type": "display_data"
    }
   ],
   "source": [
    "plt.figure(figsize=(15, 6))\n",
    "sns.boxplot(data=data, x='balance')\n",
    "plt.title(\"Распределение баланса клиентов\")\n",
    "plt.xlabel(\"Баланс на счете\")\n",
    "plt.xlim(0, 10000000)\n",
    "plt.show()"
   ]
  },
  {
   "cell_type": "markdown",
   "metadata": {},
   "source": [
    "Обращает на себя внимание наличие аномально высоких значений.\n",
    "\n"
   ]
  },
  {
   "cell_type": "code",
   "execution_count": 34,
   "metadata": {},
   "outputs": [
    {
     "data": {
      "text/plain": [
       "array([1430334.946 , 1989603.104 , 2985778.1124])"
      ]
     },
     "execution_count": 34,
     "metadata": {},
     "output_type": "execute_result"
    }
   ],
   "source": [
    "percentiles = np.percentile(data['balance'].dropna(), [90,95, 98])\n",
    "percentiles"
   ]
  },
  {
   "cell_type": "markdown",
   "metadata": {},
   "source": [
    "Меньше 2% клиентов имеют баланс больше 3 млн. рублей. Удалим эти аномалии (не удаляя пропуски)."
   ]
  },
  {
   "cell_type": "code",
   "execution_count": 35,
   "metadata": {},
   "outputs": [],
   "source": [
    "data = data[(data['balance'] <= 3000000) | (data['balance'].isna())]\n"
   ]
  },
  {
   "cell_type": "markdown",
   "metadata": {},
   "source": []
  },
  {
   "cell_type": "markdown",
   "metadata": {},
   "source": [
    "В остальных столбцах аномалии не выявлены."
   ]
  },
  {
   "cell_type": "markdown",
   "metadata": {},
   "source": [
    "### Провести кодирование данных (преобразовать категориальные данные в числовые, делая их пригодными для анализа)\n"
   ]
  },
  {
   "cell_type": "markdown",
   "metadata": {},
   "source": [
    "Для того, чтобы применять среднее и смотреть корреляции какого-то числового показателя с категориальным неупорядоченным, проведем кодирование данных. Учтем, что исходные столбцы нам надо сохранить."
   ]
  },
  {
   "cell_type": "code",
   "execution_count": 36,
   "metadata": {},
   "outputs": [
    {
     "data": {
      "text/html": [
       "<div>\n",
       "<style scoped>\n",
       "    .dataframe tbody tr th:only-of-type {\n",
       "        vertical-align: middle;\n",
       "    }\n",
       "\n",
       "    .dataframe tbody tr th {\n",
       "        vertical-align: top;\n",
       "    }\n",
       "\n",
       "    .dataframe thead th {\n",
       "        text-align: right;\n",
       "    }\n",
       "</style>\n",
       "<table border=\"1\" class=\"dataframe\">\n",
       "  <thead>\n",
       "    <tr style=\"text-align: right;\">\n",
       "      <th></th>\n",
       "      <th>user_id</th>\n",
       "      <th>score</th>\n",
       "      <th>city</th>\n",
       "      <th>gender</th>\n",
       "      <th>age</th>\n",
       "      <th>equity</th>\n",
       "      <th>balance</th>\n",
       "      <th>products</th>\n",
       "      <th>credit_card</th>\n",
       "      <th>last_activity</th>\n",
       "      <th>est_salary</th>\n",
       "      <th>churn</th>\n",
       "      <th>gender_Ж</th>\n",
       "      <th>gender_М</th>\n",
       "      <th>city_Ростов</th>\n",
       "      <th>city_Рыбинск</th>\n",
       "      <th>city_Ярославль</th>\n",
       "    </tr>\n",
       "  </thead>\n",
       "  <tbody>\n",
       "    <tr>\n",
       "      <th>0</th>\n",
       "      <td>183012</td>\n",
       "      <td>850.0</td>\n",
       "      <td>Рыбинск</td>\n",
       "      <td>Ж</td>\n",
       "      <td>25</td>\n",
       "      <td>1</td>\n",
       "      <td>59214.82</td>\n",
       "      <td>2</td>\n",
       "      <td>False</td>\n",
       "      <td>True</td>\n",
       "      <td>75719.14</td>\n",
       "      <td>True</td>\n",
       "      <td>1</td>\n",
       "      <td>0</td>\n",
       "      <td>0</td>\n",
       "      <td>1</td>\n",
       "      <td>0</td>\n",
       "    </tr>\n",
       "    <tr>\n",
       "      <th>1</th>\n",
       "      <td>146556</td>\n",
       "      <td>861.0</td>\n",
       "      <td>Рыбинск</td>\n",
       "      <td>Ж</td>\n",
       "      <td>37</td>\n",
       "      <td>5</td>\n",
       "      <td>850594.33</td>\n",
       "      <td>3</td>\n",
       "      <td>True</td>\n",
       "      <td>False</td>\n",
       "      <td>86621.77</td>\n",
       "      <td>False</td>\n",
       "      <td>1</td>\n",
       "      <td>0</td>\n",
       "      <td>0</td>\n",
       "      <td>1</td>\n",
       "      <td>0</td>\n",
       "    </tr>\n",
       "    <tr>\n",
       "      <th>2</th>\n",
       "      <td>120722</td>\n",
       "      <td>892.0</td>\n",
       "      <td>Рыбинск</td>\n",
       "      <td>Ж</td>\n",
       "      <td>30</td>\n",
       "      <td>0</td>\n",
       "      <td>NaN</td>\n",
       "      <td>1</td>\n",
       "      <td>True</td>\n",
       "      <td>True</td>\n",
       "      <td>107683.34</td>\n",
       "      <td>False</td>\n",
       "      <td>1</td>\n",
       "      <td>0</td>\n",
       "      <td>0</td>\n",
       "      <td>1</td>\n",
       "      <td>0</td>\n",
       "    </tr>\n",
       "    <tr>\n",
       "      <th>3</th>\n",
       "      <td>225363</td>\n",
       "      <td>866.0</td>\n",
       "      <td>Ярославль</td>\n",
       "      <td>Ж</td>\n",
       "      <td>51</td>\n",
       "      <td>5</td>\n",
       "      <td>1524746.26</td>\n",
       "      <td>2</td>\n",
       "      <td>False</td>\n",
       "      <td>True</td>\n",
       "      <td>174423.53</td>\n",
       "      <td>True</td>\n",
       "      <td>1</td>\n",
       "      <td>0</td>\n",
       "      <td>0</td>\n",
       "      <td>0</td>\n",
       "      <td>1</td>\n",
       "    </tr>\n",
       "    <tr>\n",
       "      <th>4</th>\n",
       "      <td>157978</td>\n",
       "      <td>730.0</td>\n",
       "      <td>Ярославль</td>\n",
       "      <td>М</td>\n",
       "      <td>34</td>\n",
       "      <td>5</td>\n",
       "      <td>174.00</td>\n",
       "      <td>1</td>\n",
       "      <td>True</td>\n",
       "      <td>False</td>\n",
       "      <td>67353.16</td>\n",
       "      <td>True</td>\n",
       "      <td>0</td>\n",
       "      <td>1</td>\n",
       "      <td>0</td>\n",
       "      <td>0</td>\n",
       "      <td>1</td>\n",
       "    </tr>\n",
       "  </tbody>\n",
       "</table>\n",
       "</div>"
      ],
      "text/plain": [
       "   user_id  score       city gender  age  equity     balance  products  \\\n",
       "0   183012  850.0    Рыбинск      Ж   25       1    59214.82         2   \n",
       "1   146556  861.0    Рыбинск      Ж   37       5   850594.33         3   \n",
       "2   120722  892.0    Рыбинск      Ж   30       0         NaN         1   \n",
       "3   225363  866.0  Ярославль      Ж   51       5  1524746.26         2   \n",
       "4   157978  730.0  Ярославль      М   34       5      174.00         1   \n",
       "\n",
       "   credit_card  last_activity  est_salary  churn  gender_Ж  gender_М  \\\n",
       "0        False           True    75719.14   True         1         0   \n",
       "1         True          False    86621.77  False         1         0   \n",
       "2         True           True   107683.34  False         1         0   \n",
       "3        False           True   174423.53   True         1         0   \n",
       "4         True          False    67353.16   True         0         1   \n",
       "\n",
       "   city_Ростов  city_Рыбинск  city_Ярославль  \n",
       "0            0             1               0  \n",
       "1            0             1               0  \n",
       "2            0             1               0  \n",
       "3            0             0               1  \n",
       "4            0             0               1  "
      ]
     },
     "execution_count": 36,
     "metadata": {},
     "output_type": "execute_result"
    }
   ],
   "source": [
    "# Копируем нужные столбцы, которые хотим закодировать\n",
    "data_copy = data[['gender', 'city']].copy()\n",
    "# Применяем pd.get_dummies только к этим столбцам\n",
    "data_dummies = pd.get_dummies(data_copy, columns=['gender', 'city'])\n",
    "\n",
    "# Объединяем оригинальный DataFrame и закодированные столбцы\n",
    "data = pd.concat([data, data_dummies], axis=1)\n",
    "\n",
    "data.head()"
   ]
  },
  {
   "cell_type": "markdown",
   "metadata": {},
   "source": [
    "### Оценить оставшийся объем данных после обработки и удаления (убедиться, что осталось более 95%)"
   ]
  },
  {
   "cell_type": "code",
   "execution_count": 37,
   "metadata": {},
   "outputs": [
    {
     "data": {
      "text/plain": [
       "95.72"
      ]
     },
     "execution_count": 37,
     "metadata": {},
     "output_type": "execute_result"
    }
   ],
   "source": [
    "num_1 = data.shape[0]\n",
    "num_1/num_0*100"
   ]
  },
  {
   "cell_type": "markdown",
   "metadata": {},
   "source": [
    "Объем оставшихся данных достаточен для дальнейшего анализа."
   ]
  },
  {
   "cell_type": "markdown",
   "metadata": {},
   "source": [
    " ***Выводы***\n",
    "\n",
    "- Окончательная таблица содержит информацию о 9572 клиентах банка.Клиентские данные обезличены.\n",
    "- Банк представлен в городах Ярославль, Рыбинск и Ростов. \n",
    "- Клиенты банка могут использовать от одного до пяти продуктов. \n",
    "- Возраст клиентов от 18 до 86 лет,  средний возраст 42 года, медианный - 40 лет. .\n",
    "- Клиент может как не иметь недвижимость в собственности, так и владеть 9 объектами\n",
    "- В таблице нет явных дубликатов, но выявлены дубликаты в столбце user_id (появившиеся, вероятно, при обращении клиента в филиалы банка в разных городах). Дубликаты удалены.\n",
    "- Заменены типы данных в столбцах churn, last_activity, credit_card.\n",
    "- Выявлены пропуски в столбце balance у клиентов из всех городов. Пока сложно сказать, чем они вызваны - возможно это связано с локальными особенностями одного из продуктов. Учитывая большое количество пропусков (23%), они оставлены без изменений.\n",
    "- Удалены аномальные значения в столбцах products, est_salary и balance.\n",
    "- Категориальные данные в столбцах gender и city преобразованы в числовые (пригодные для дальнейшего анализа).\n",
    "- Объем оставшихся после предобработки данных составляет 95,72%, что достаточно для дальнейшего анализа.\n",
    "\n"
   ]
  },
  {
   "cell_type": "markdown",
   "metadata": {},
   "source": [
    "## Исследовательский анализ данных"
   ]
  },
  {
   "cell_type": "markdown",
   "metadata": {},
   "source": [
    "### Посмотрим распределения клиентов по полу, возрасту, месту жительства клиента, его доходу,балансу денежных средств на счете, активности, количеству продуктов, которыми пользуется вкладчик, баллам кредитного скоринга (в том числе в разрезе оттока)"
   ]
  },
  {
   "cell_type": "markdown",
   "metadata": {},
   "source": [
    "#### Посмотрим на средние значения признаков в двух группах — тех, кто ушел  (churn = 1) и тех, кто остался (0)."
   ]
  },
  {
   "cell_type": "code",
   "execution_count": 38,
   "metadata": {},
   "outputs": [
    {
     "data": {
      "text/html": [
       "<div>\n",
       "<style scoped>\n",
       "    .dataframe tbody tr th:only-of-type {\n",
       "        vertical-align: middle;\n",
       "    }\n",
       "\n",
       "    .dataframe tbody tr th {\n",
       "        vertical-align: top;\n",
       "    }\n",
       "\n",
       "    .dataframe thead th {\n",
       "        text-align: right;\n",
       "    }\n",
       "</style>\n",
       "<table border=\"1\" class=\"dataframe\">\n",
       "  <thead>\n",
       "    <tr style=\"text-align: right;\">\n",
       "      <th>churn</th>\n",
       "      <th>False</th>\n",
       "      <th>True</th>\n",
       "    </tr>\n",
       "  </thead>\n",
       "  <tbody>\n",
       "    <tr>\n",
       "      <th>user_id</th>\n",
       "      <td>171950.617089</td>\n",
       "      <td>170391.565445</td>\n",
       "    </tr>\n",
       "    <tr>\n",
       "      <th>score</th>\n",
       "      <td>844.152044</td>\n",
       "      <td>859.529378</td>\n",
       "    </tr>\n",
       "    <tr>\n",
       "      <th>age</th>\n",
       "      <td>42.975805</td>\n",
       "      <td>41.295521</td>\n",
       "    </tr>\n",
       "    <tr>\n",
       "      <th>equity</th>\n",
       "      <td>2.392843</td>\n",
       "      <td>3.727167</td>\n",
       "    </tr>\n",
       "    <tr>\n",
       "      <th>balance</th>\n",
       "      <td>604884.641118</td>\n",
       "      <td>877166.407359</td>\n",
       "    </tr>\n",
       "    <tr>\n",
       "      <th>products</th>\n",
       "      <td>1.760856</td>\n",
       "      <td>2.361257</td>\n",
       "    </tr>\n",
       "    <tr>\n",
       "      <th>credit_card</th>\n",
       "      <td>0.708519</td>\n",
       "      <td>0.560791</td>\n",
       "    </tr>\n",
       "    <tr>\n",
       "      <th>last_activity</th>\n",
       "      <td>0.482873</td>\n",
       "      <td>0.700407</td>\n",
       "    </tr>\n",
       "    <tr>\n",
       "      <th>est_salary</th>\n",
       "      <td>129472.621354</td>\n",
       "      <td>131419.391210</td>\n",
       "    </tr>\n",
       "    <tr>\n",
       "      <th>gender_Ж</th>\n",
       "      <td>0.534955</td>\n",
       "      <td>0.357766</td>\n",
       "    </tr>\n",
       "    <tr>\n",
       "      <th>gender_М</th>\n",
       "      <td>0.465045</td>\n",
       "      <td>0.642234</td>\n",
       "    </tr>\n",
       "    <tr>\n",
       "      <th>city_Ростов</th>\n",
       "      <td>0.145804</td>\n",
       "      <td>0.151251</td>\n",
       "    </tr>\n",
       "    <tr>\n",
       "      <th>city_Рыбинск</th>\n",
       "      <td>0.276455</td>\n",
       "      <td>0.241419</td>\n",
       "    </tr>\n",
       "    <tr>\n",
       "      <th>city_Ярославль</th>\n",
       "      <td>0.577741</td>\n",
       "      <td>0.607330</td>\n",
       "    </tr>\n",
       "  </tbody>\n",
       "</table>\n",
       "</div>"
      ],
      "text/plain": [
       "churn                   False          True \n",
       "user_id         171950.617089  170391.565445\n",
       "score              844.152044     859.529378\n",
       "age                 42.975805      41.295521\n",
       "equity               2.392843       3.727167\n",
       "balance         604884.641118  877166.407359\n",
       "products             1.760856       2.361257\n",
       "credit_card          0.708519       0.560791\n",
       "last_activity        0.482873       0.700407\n",
       "est_salary      129472.621354  131419.391210\n",
       "gender_Ж             0.534955       0.357766\n",
       "gender_М             0.465045       0.642234\n",
       "city_Ростов          0.145804       0.151251\n",
       "city_Рыбинск         0.276455       0.241419\n",
       "city_Ярославль       0.577741       0.607330"
      ]
     },
     "execution_count": 38,
     "metadata": {},
     "output_type": "execute_result"
    }
   ],
   "source": [
    "data.groupby('churn').agg('mean').T"
   ]
  },
  {
   "cell_type": "markdown",
   "metadata": {},
   "source": [
    "- средний возраст клиента  средний балл кредитного скоринга и оценочный уровень доходов примерно одинаков в обеих группах,\n",
    "- отточные клиенты в среднем владеют большим количеством объектов недвижимости,\n",
    "- средний баланс на счете у отточных клиентов почти в два раза выше, чем у остающихся,\n",
    "- разница в количестве используемых банковских продуктов незначительна,\n",
    "- отточные клиенты в среднем более активны, чем остающиеся."
   ]
  },
  {
   "cell_type": "markdown",
   "metadata": {},
   "source": [
    "#### Посмотрим общий портрет клиентов банка"
   ]
  },
  {
   "cell_type": "markdown",
   "metadata": {},
   "source": [
    "##### Распределение по категориальным признакам."
   ]
  },
  {
   "cell_type": "code",
   "execution_count": 39,
   "metadata": {},
   "outputs": [
    {
     "data": {
      "image/png": "[encoded data removed]",
      "text/plain": [
       "<Figure size 432x288 with 1 Axes>"
      ]
     },
     "metadata": {},
     "output_type": "display_data"
    },
    {
     "data": {
      "image/png": "[encoded data removed]",
      "text/plain": [
       "<Figure size 432x288 with 1 Axes>"
      ]
     },
     "metadata": {},
     "output_type": "display_data"
    },
    {
     "data": {
      "image/png": "[encoded data removed]",
      "text/plain": [
       "<Figure size 432x288 with 1 Axes>"
      ]
     },
     "metadata": {},
     "output_type": "display_data"
    },
    {
     "data": {
      "image/png": "[encoded data removed]",
      "text/plain": [
       "<Figure size 432x288 with 1 Axes>"
      ]
     },
     "metadata": {},
     "output_type": "display_data"
    },
    {
     "data": {
      "image/png": "[encoded data removed]",
      "text/plain": [
       "<Figure size 432x288 with 1 Axes>"
      ]
     },
     "metadata": {},
     "output_type": "display_data"
    }
   ],
   "source": [
    "column_names = {\n",
    "    'city': 'город',\n",
    "    'gender': 'пол',\n",
    "    'credit_card': 'наличие кредитной карты',\n",
    "    'last_activity': 'активность клиента',\n",
    "    'churn': 'оттока'\n",
    "}\n",
    "\n",
    "for column in ['city','gender','credit_card','last_activity','churn']:\n",
    "    df = data.groupby(column).agg({'user_id': 'count'})\n",
    "    fig1,ax1 = plt.subplots()\n",
    "    ax1.pie(df['user_id'], labels=df.index, autopct='%1.1f%%')\n",
    "    ax1.set_title(f'Распределение клиентов по признаку {column_names[column]}')\n",
    "    plt.show()"
   ]
  },
  {
   "cell_type": "markdown",
   "metadata": {},
   "source": [
    "##### Распределение по числовым признакам."
   ]
  },
  {
   "cell_type": "code",
   "execution_count": 40,
   "metadata": {},
   "outputs": [
    {
     "data": {
      "image/png": "[encoded data removed]",
      "text/plain": [
       "<Figure size 432x288 with 1 Axes>"
      ]
     },
     "metadata": {
      "needs_background": "light"
     },
     "output_type": "display_data"
    },
    {
     "data": {
      "image/png": "[encoded data removed]",
      "text/plain": [
       "<Figure size 432x288 with 1 Axes>"
      ]
     },
     "metadata": {
      "needs_background": "light"
     },
     "output_type": "display_data"
    },
    {
     "data": {
      "image/png": "[encoded data removed]",
      "text/plain": [
       "<Figure size 432x288 with 1 Axes>"
      ]
     },
     "metadata": {
      "needs_background": "light"
     },
     "output_type": "display_data"
    }
   ],
   "source": [
    "column_names = {\n",
    "    'score': 'кредитный скоринг',\n",
    "    'balance': 'баланс на счете',\n",
    "    'est_salary': 'оценочный уровень дохода'\n",
    "}\n",
    "\n",
    "for column in ['score','balance','est_salary']:\n",
    "    sns.histplot(data[column], bins=50, color = 'green')\n",
    "    plt.title(f'Распределение клиентов по признаку {column_names[column]}')\n",
    "    plt.xlabel(column_names[column])\n",
    "    plt.show()"
   ]
  },
  {
   "cell_type": "code",
   "execution_count": 41,
   "metadata": {},
   "outputs": [
    {
     "data": {
      "image/png": "[encoded data removed]",
      "text/plain": [
       "<Figure size 1440x576 with 1 Axes>"
      ]
     },
     "metadata": {
      "needs_background": "light"
     },
     "output_type": "display_data"
    },
    {
     "data": {
      "image/png": "[encoded data removed]",
      "text/plain": [
       "<Figure size 1440x576 with 1 Axes>"
      ]
     },
     "metadata": {
      "needs_background": "light"
     },
     "output_type": "display_data"
    },
    {
     "data": {
      "image/png": "[encoded data removed]",
      "text/plain": [
       "<Figure size 1440x576 with 1 Axes>"
      ]
     },
     "metadata": {
      "needs_background": "light"
     },
     "output_type": "display_data"
    }
   ],
   "source": [
    "column_names = {\n",
    "    'age': 'возраст',\n",
    "    'equity': 'количество баллов собственности',\n",
    "    'products': 'количество используемых банковских продуктов'\n",
    "}\n",
    "\n",
    "for column in ['age','equity', 'products']:\n",
    "    plt.figure(figsize=(20,8))\n",
    "    sns.countplot(data[column])\n",
    "    plt.title(f'Распределение клиентов по признаку {column_names[column]}')\n",
    "    plt.xlabel(column_names[column])\n",
    "    \n",
    "    plt.show()"
   ]
  },
  {
   "cell_type": "markdown",
   "metadata": {},
   "source": [
    "***Выводы:***\n",
    "- Больше половины всех клиентов банка проживают в Ярославле, 27% в Рыбинске, меньшая часть - в Ростове.\n",
    "- Женщин и мужчин среди клиентов банка примерно поровну.\n",
    "- Кредитная карта есть у 68% пользователей.\n",
    "- Активными считаются 52% клиентов банка.\n",
    "- Отток клиентов из банка составляет 18%.\n",
    "- Большинство клиентов имеют кредитный рейтинг от 800 до 900.\n",
    "- Баланс на счете у большинства клиентов от 0 до 1 млн. рублей.\n",
    "- Пиковые значения оценочного дохода клиентов находятся в районе 100 тыс.рублей.\n",
    "- Большинство клиентов банка в возрасте 30-40 лет, пиковые значения - 36-37 лет.\n",
    "- Большая часть клиентов не имеет объектов в собственности, либо имеет 3-5.\n",
    "- Большая часть клиентов пользуется 1 или 2 продуктами банка."
   ]
  },
  {
   "cell_type": "markdown",
   "metadata": {},
   "source": [
    "### Оценим влияние определенных признаков на отток клиентов"
   ]
  },
  {
   "cell_type": "markdown",
   "metadata": {},
   "source": [
    "#### Построим гистограммы распределения признаков и диаграммы размаха для числовых признаков в разрезе оттока."
   ]
  },
  {
   "cell_type": "code",
   "execution_count": 42,
   "metadata": {},
   "outputs": [],
   "source": [
    "# функция по построению гистограммы распределения и диаграммы размаха для числовых признаков в разрезе оттока клиентов;\n",
    "# на входе функции передем параметры: датафрейм, название столбца, по которому строим график, название графика;\n",
    "\n",
    "def numeric_plots_churn(data, col, title):\n",
    "    fig, ax = plt.subplots(figsize = (15, 5))\n",
    "    \n",
    "    sns.histplot(data[data['churn']==0][col], label='остающиеся',color = '#EFC87B', ax = plt.subplot(1, 2, 1))\n",
    "    sns.histplot(data[data['churn']==1][col], label = 'отток', color = '#184562', ax = plt.subplot(1, 2, 1), alpha=.4)\n",
    "    plt.xlabel('')\n",
    "    plt.ylabel('количество пользователей')\n",
    "    plt.legend()\n",
    "    \n",
    "    sns.boxplot(y = col, x = 'churn', data = data, ax = plt.subplot(1, 2, 2), palette='Pastel2_r') \n",
    "    plt.xlabel('')\n",
    "    plt.ylabel('')\n",
    "    \n",
    "    plt.xticks(np.arange(2), ('Действующие клиенты', 'Отток'))\n",
    "    \n",
    "    fig.suptitle(title + ' (' + col + ')')\n",
    "    plt.show()"
   ]
  },
  {
   "cell_type": "markdown",
   "metadata": {},
   "source": [
    "##### Баллы кредитного скоринга"
   ]
  },
  {
   "cell_type": "code",
   "execution_count": 43,
   "metadata": {},
   "outputs": [
    {
     "data": {
      "image/png": "[encoded data removed]",
      "text/plain": [
       "<Figure size 1080x360 with 2 Axes>"
      ]
     },
     "metadata": {
      "needs_background": "light"
     },
     "output_type": "display_data"
    }
   ],
   "source": [
    "numeric_plots_churn(data, 'score', 'Баллы кредитного скоринга')"
   ]
  },
  {
   "cell_type": "markdown",
   "metadata": {},
   "source": [
    "Отмечается пик оттока при наличии 850-900 баллов кредитного скоринга."
   ]
  },
  {
   "cell_type": "markdown",
   "metadata": {},
   "source": [
    "##### Возраст"
   ]
  },
  {
   "cell_type": "code",
   "execution_count": 44,
   "metadata": {},
   "outputs": [
    {
     "data": {
      "image/png": "[encoded data removed]",
      "text/plain": [
       "<Figure size 1080x360 with 2 Axes>"
      ]
     },
     "metadata": {
      "needs_background": "light"
     },
     "output_type": "display_data"
    }
   ],
   "source": [
    "numeric_plots_churn(data, 'age', 'Возраст')"
   ]
  },
  {
   "cell_type": "markdown",
   "metadata": {},
   "source": [
    "Больше склонны к уходу из банка клиенты старше 50 лет. Наблюдается пиковый возраст для оттока:55-59 лет."
   ]
  },
  {
   "cell_type": "markdown",
   "metadata": {},
   "source": [
    "##### Количество баллов собственности"
   ]
  },
  {
   "cell_type": "code",
   "execution_count": 45,
   "metadata": {},
   "outputs": [
    {
     "data": {
      "image/png": "[encoded data removed]",
      "text/plain": [
       "<Figure size 1080x360 with 2 Axes>"
      ]
     },
     "metadata": {
      "needs_background": "light"
     },
     "output_type": "display_data"
    }
   ],
   "source": [
    "numeric_plots_churn(data, 'equity', 'Количество баллов собственности')"
   ]
  },
  {
   "cell_type": "markdown",
   "metadata": {},
   "source": [
    "Более склонны к оттоку клиенты, имеющие 3-5 баллов собственности."
   ]
  },
  {
   "cell_type": "markdown",
   "metadata": {},
   "source": [
    "##### Баланс на счете"
   ]
  },
  {
   "cell_type": "code",
   "execution_count": 46,
   "metadata": {},
   "outputs": [
    {
     "data": {
      "image/png": "[encoded data removed]",
      "text/plain": [
       "<Figure size 1080x360 with 2 Axes>"
      ]
     },
     "metadata": {
      "needs_background": "light"
     },
     "output_type": "display_data"
    }
   ],
   "source": [
    "numeric_plots_churn(data,'balance', 'Баланс на счете')"
   ]
  },
  {
   "cell_type": "markdown",
   "metadata": {},
   "source": [
    "Клиенты с балансом на счету более 1 млн рублей склонны к оттоку."
   ]
  },
  {
   "cell_type": "markdown",
   "metadata": {},
   "source": [
    "##### Количество продуктов, которыми пользуется клиент"
   ]
  },
  {
   "cell_type": "code",
   "execution_count": 47,
   "metadata": {},
   "outputs": [
    {
     "data": {
      "image/png": "[encoded data removed]",
      "text/plain": [
       "<Figure size 1080x360 with 2 Axes>"
      ]
     },
     "metadata": {
      "needs_background": "light"
     },
     "output_type": "display_data"
    }
   ],
   "source": [
    "numeric_plots_churn(data,'products', 'Количество продуктов, которыми пользуется клиент')"
   ]
  },
  {
   "cell_type": "markdown",
   "metadata": {},
   "source": [
    "Клиенты, использующие 1-2 банковских продукта, более стабильны, использующие больше 2 чаще уходят в отток."
   ]
  },
  {
   "cell_type": "markdown",
   "metadata": {},
   "source": [
    "##### Оценочный доход клиента"
   ]
  },
  {
   "cell_type": "code",
   "execution_count": 48,
   "metadata": {},
   "outputs": [
    {
     "data": {
      "image/png": "[encoded data removed]",
      "text/plain": [
       "<Figure size 1080x360 with 2 Axes>"
      ]
     },
     "metadata": {
      "needs_background": "light"
     },
     "output_type": "display_data"
    }
   ],
   "source": [
    "numeric_plots_churn(data,'est_salary', 'Оценочный доход клиента')"
   ]
  },
  {
   "cell_type": "markdown",
   "metadata": {},
   "source": [
    "Оценочный доход клиента на отток не влияет."
   ]
  },
  {
   "cell_type": "markdown",
   "metadata": {},
   "source": [
    "#### Построим гистограммы распределения признаков и диаграммы размаха для категориальных признаков в разрезе оттока."
   ]
  },
  {
   "cell_type": "code",
   "execution_count": 49,
   "metadata": {},
   "outputs": [],
   "source": [
    "# функция по построению столбчатых диаграмм и диаграммы размаха для категориальных признаков;\n",
    "# на входе функции передем параметры: датафрейм, название столбца, по которому строим график, название графика;\n",
    "\n",
    "def categorical_plots(data, col, title):\n",
    "    fig, ax = plt.subplots(figsize = (15, 5))\n",
    "\n",
    "    sns.countplot(x = col, hue = 'churn', data = data, ax = plt.subplot(1, 2, 1),  palette='Pastel2')\n",
    "    plt.ylabel('количество пользователей')\n",
    "    plt.xlabel('')\n",
    "    plt.legend() \n",
    "    \n",
    "    gr = data.groupby([col, 'churn']).agg(count=('age', 'count')).reset_index()\n",
    "    sns.boxplot(x = col, y = 'count', data = gr, ax = plt.subplot(1, 2, 2), palette='Pastel2_r') \n",
    "    plt.xlabel('')\n",
    "    plt.ylabel('')\n",
    "    \n",
    "    \n",
    "    fig.suptitle(title + ' (' + col + ')')\n",
    "    plt.show()"
   ]
  },
  {
   "cell_type": "markdown",
   "metadata": {},
   "source": [
    "##### Распределение по полу"
   ]
  },
  {
   "cell_type": "code",
   "execution_count": 50,
   "metadata": {},
   "outputs": [
    {
     "data": {
      "image/png": "[encoded data removed]",
      "text/plain": [
       "<Figure size 1080x360 with 2 Axes>"
      ]
     },
     "metadata": {
      "needs_background": "light"
     },
     "output_type": "display_data"
    }
   ],
   "source": [
    "categorical_plots(data, 'gender', 'Распределение клиентов по полу')"
   ]
  },
  {
   "cell_type": "markdown",
   "metadata": {},
   "source": [
    "Мужчины чаще попадают в категорию отточных клиентов."
   ]
  },
  {
   "cell_type": "markdown",
   "metadata": {},
   "source": [
    "##### Распределение по городам"
   ]
  },
  {
   "cell_type": "code",
   "execution_count": 51,
   "metadata": {},
   "outputs": [
    {
     "data": {
      "image/png": "[encoded data removed]",
      "text/plain": [
       "<Figure size 1080x360 with 2 Axes>"
      ]
     },
     "metadata": {
      "needs_background": "light"
     },
     "output_type": "display_data"
    }
   ],
   "source": [
    "categorical_plots(data, 'city', 'Распределение клиентов по городам')"
   ]
  },
  {
   "cell_type": "markdown",
   "metadata": {},
   "source": [
    "Существенных отличий по оттоку клиентов между городами не выявлено."
   ]
  },
  {
   "cell_type": "markdown",
   "metadata": {},
   "source": [
    "##### Наличие кредитной карты"
   ]
  },
  {
   "cell_type": "code",
   "execution_count": 52,
   "metadata": {},
   "outputs": [
    {
     "data": {
      "image/png": "[encoded data removed]",
      "text/plain": [
       "<Figure size 1080x360 with 2 Axes>"
      ]
     },
     "metadata": {
      "needs_background": "light"
     },
     "output_type": "display_data"
    }
   ],
   "source": [
    "categorical_plots(data, 'credit_card', 'Наличие кредитной карты')"
   ]
  },
  {
   "cell_type": "markdown",
   "metadata": {},
   "source": [
    "Чаще в отток уходят клиенты, не имеющие кредитной карты."
   ]
  },
  {
   "cell_type": "markdown",
   "metadata": {},
   "source": [
    "##### Активность клиента"
   ]
  },
  {
   "cell_type": "code",
   "execution_count": 53,
   "metadata": {},
   "outputs": [
    {
     "data": {
      "image/png": "[encoded data removed]",
      "text/plain": [
       "<Figure size 1080x360 with 2 Axes>"
      ]
     },
     "metadata": {
      "needs_background": "light"
     },
     "output_type": "display_data"
    }
   ],
   "source": [
    "categorical_plots(data, 'last_activity', 'Активность клиента')"
   ]
  },
  {
   "cell_type": "markdown",
   "metadata": {},
   "source": [
    "Более активные клиенты чаще становятся отточными."
   ]
  },
  {
   "cell_type": "markdown",
   "metadata": {},
   "source": [
    "***Выводы***\n",
    "\n",
    "На отток влияют признаки :\n",
    "\n",
    "- пол (мужчины попадают в эту категорию чаще);\n",
    "- возраст (пик - клиенты в диапазоне 55-59 лет);\n",
    "- кредитный скоринг (отмечается пик оттока при наличии 850-900 баллов);\n",
    "- количество используемых банковских продуктов (клиенты, использующие более 2 продуктов чаще уходят в отток);\n",
    "- баланс (клиенты с балансом на счету более 1 млн рублей склонны к оттоку);\n",
    "- наличие кредитной карты (не имеющие карты клиентычаще становятся отточными);\n",
    "- активность клиента (более активные клиенты чаще становятся отточными)."
   ]
  },
  {
   "cell_type": "markdown",
   "metadata": {},
   "source": [
    "### Матрица корреляции"
   ]
  },
  {
   "cell_type": "markdown",
   "metadata": {},
   "source": [
    "Построим матрицу корреляции признаков."
   ]
  },
  {
   "cell_type": "code",
   "execution_count": 54,
   "metadata": {},
   "outputs": [
    {
     "data": {
      "image/png": "[encoded data removed]",
      "text/plain": [
       "<Figure size 360x720 with 2 Axes>"
      ]
     },
     "metadata": {
      "needs_background": "light"
     },
     "output_type": "display_data"
    }
   ],
   "source": [
    "f, ax = plt.subplots(figsize=(5, 10))\n",
    "\n",
    "churn_corr = data.corr()[['churn']].sort_values(by='churn', ascending=False)\n",
    "\n",
    "\n",
    "sns.heatmap(churn_corr, annot=True, linewidths=.5, ax=ax, cmap='BrBG',fmt='.2f', alpha=.5)\n",
    "plt.show()"
   ]
  },
  {
   "cell_type": "markdown",
   "metadata": {},
   "source": [
    "Выраженной корреляции определенного признака и оттока клиентов не выявлено. Есть зависимость между оттоком и количества используемых продуктов, балансом на счете и количеством баллов собственности.Но зависимость меньше 30%, поэтому утверждать о влиянии этих факторов на отток мы не можем."
   ]
  },
  {
   "cell_type": "markdown",
   "metadata": {},
   "source": [
    "### Составим портрет типичного клиента, который склонен к оттоку или нет"
   ]
  },
  {
   "cell_type": "markdown",
   "metadata": {},
   "source": [
    "#### Склонны к оттоку:\n"
   ]
  },
  {
   "cell_type": "markdown",
   "metadata": {},
   "source": [
    "- мужчины\n",
    "- возраст 50-60 лет\n",
    "- активные клиенты банка\n",
    "- не имеющие кредитной карты\n",
    "- используют 3-4 банковских продукта\n",
    "- имеют баланс на счете более 1 млн рублей \n",
    "- имеют 3-5 баллов собственности\n",
    "- имеют 850-900 баллов кредитного скоринга"
   ]
  },
  {
   "cell_type": "markdown",
   "metadata": {},
   "source": [
    "#### Стабильные клиенты:\n"
   ]
  },
  {
   "cell_type": "markdown",
   "metadata": {},
   "source": [
    "- женщины\n",
    "- возраст 30-40 лет\n",
    "- имеющие кредитную карту\n",
    "- используют 1-2 банковских продукта\n",
    "- не являются активными клиентами\n",
    "- имеют баланс на счете 300-500 тыс. рублей\n",
    "- не имеет собственности или обладает 1-2 баллами\n",
    "- имеет 800-850 или 900-930 баллов кредитного скоринга"
   ]
  },
  {
   "cell_type": "markdown",
   "metadata": {},
   "source": [
    "## Сформулировать и проверить статистические гипотезы:"
   ]
  },
  {
   "cell_type": "markdown",
   "metadata": {},
   "source": [
    "### Проверить гипотезу различия дохода между теми клиентами, которые ушли и теми, которые остались."
   ]
  },
  {
   "cell_type": "markdown",
   "metadata": {},
   "source": [
    "***Сформулируем нулевую и альтернативную гипотезы:***\n",
    "\n",
    "Н0: средний доход клиентов, которые ушли,равен среднему доходу оставшихся клиентов\n",
    "\n",
    "Н1: средний доход клиентов, которые ушли, отличается от среднего дохода оставшихся клиентов"
   ]
  },
  {
   "cell_type": "code",
   "execution_count": 55,
   "metadata": {},
   "outputs": [],
   "source": [
    "clients_churn = data[(data['churn']==True)]['est_salary']\n",
    "clients_non_churn = data[(data['churn']==False)]['est_salary']\n"
   ]
  },
  {
   "cell_type": "markdown",
   "metadata": {},
   "source": [
    "Уровень значимости зададим обычный: alpha = 0,05\n",
    "\n",
    "Посчитаем p-value, используя ttest из библиотеки scipy для сравнения средних двух независимых выборок.\n",
    "\n",
    "Для подтверждения гипотезы о равенстве среднего двух генеральных совокупностей по взятым из них выборкам иcпользуется метод st.stats.ttest_ind.\n",
    "\n",
    "Если p-value будет меньше выбранного уровня значимости alpha = 0,05, то нулевую гипотезу о равенстве средних отвергнем. В противном случае делаем вывод, что данные не позволили нам отвергнуть нулевую гипотезу."
   ]
  },
  {
   "cell_type": "code",
   "execution_count": 56,
   "metadata": {},
   "outputs": [
    {
     "name": "stdout",
     "output_type": "stream",
     "text": [
      "0.3642388585172657\n",
      "Не получилось отвергнуть нулевую гипотезу\n"
     ]
    }
   ],
   "source": [
    "results = st.ttest_ind(clients_churn, clients_non_churn)\n",
    "\n",
    "alpha = 0.05\n",
    "\n",
    "print(results.pvalue) \n",
    "if results.pvalue < alpha:\n",
    "    print(\"Отвергаем нулевую гипотезу\")\n",
    "else:\n",
    "    print(\"Не получилось отвергнуть нулевую гипотезу\")"
   ]
  },
  {
   "cell_type": "markdown",
   "metadata": {},
   "source": [
    "***Вывод:*** средний доход клиентов, которые ушли,значимо не отличается от среднего дохода оставшихся клиентов."
   ]
  },
  {
   "cell_type": "markdown",
   "metadata": {},
   "source": [
    "Проверим себя"
   ]
  },
  {
   "cell_type": "code",
   "execution_count": 57,
   "metadata": {},
   "outputs": [
    {
     "data": {
      "text/plain": [
       "131419.39121000582"
      ]
     },
     "execution_count": 57,
     "metadata": {},
     "output_type": "execute_result"
    }
   ],
   "source": [
    "clients_churn = data[(data['churn']==True)]['est_salary'].mean()\n",
    "clients_non_churn = data[(data['churn']==False)]['est_salary'].mean()\n",
    "clients_churn\n"
   ]
  },
  {
   "cell_type": "code",
   "execution_count": 58,
   "metadata": {},
   "outputs": [
    {
     "data": {
      "text/plain": [
       "129472.62135362282"
      ]
     },
     "execution_count": 58,
     "metadata": {},
     "output_type": "execute_result"
    }
   ],
   "source": [
    "clients_non_churn"
   ]
  },
  {
   "cell_type": "markdown",
   "metadata": {},
   "source": [
    "### Проверить гипотезу различия кредитного скоринга между теми клиентами, которые ушли и теми, которые остались."
   ]
  },
  {
   "cell_type": "markdown",
   "metadata": {},
   "source": [
    "***Сформулируем нулевую и альтернативную гипотезы:***\n",
    "\n",
    "Н0: средний кредитный скоринг клиентов, которые ушли,равен среднему кредитному скорингу оставшихся клиентов\n",
    "\n",
    "Н1: средний кредитный скоринг клиентов, которые ушли, отличается от среднего кредитного скоринга оставшихся клиентов"
   ]
  },
  {
   "cell_type": "code",
   "execution_count": 59,
   "metadata": {},
   "outputs": [],
   "source": [
    "clients_churn = data[(data['churn']==True)]['score']\n",
    "clients_non_churn = data[(data['churn']==False)]['score']\n"
   ]
  },
  {
   "cell_type": "markdown",
   "metadata": {},
   "source": [
    "Уровень значимости зададим обычный: alpha = 0,05\n",
    "\n",
    "Посчитаем p-value, используя ttest из библиотеки scipy для сравнения средних двух независимых выборок.\n",
    "\n",
    "Для подтверждения гипотезы о равенстве среднего двух генеральных совокупностей по взятым из них выборкам иcпользуется метод st.stats.ttest_ind.\n",
    "\n",
    "Если p-value будет меньше выбранного уровня значимости alpha = 0,05, то нулевую гипотезу о равенстве средних отвергнем. В противном случае делаем вывод, что данные не позволили нам отвергнуть нулевую гипотезу."
   ]
  },
  {
   "cell_type": "code",
   "execution_count": 60,
   "metadata": {},
   "outputs": [
    {
     "name": "stdout",
     "output_type": "stream",
     "text": [
      "1.4375193065719657e-19\n",
      "Отвергаем нулевую гипотезу\n"
     ]
    }
   ],
   "source": [
    "results = st.ttest_ind(clients_churn, clients_non_churn)\n",
    "\n",
    "alpha = 0.05\n",
    "\n",
    "print(results.pvalue) \n",
    "if results.pvalue < alpha:\n",
    "    print(\"Отвергаем нулевую гипотезу\")\n",
    "else:\n",
    "    print(\"Не получилось отвергнуть нулевую гипотезу\")"
   ]
  },
  {
   "cell_type": "markdown",
   "metadata": {},
   "source": [
    "***Вывод:*** средний кредитный скоринг клиентов, которые ушли, значимо отличается от среднего кредитного скоринга оставшихся клиентов."
   ]
  },
  {
   "cell_type": "markdown",
   "metadata": {},
   "source": [
    "Проверим себя"
   ]
  },
  {
   "cell_type": "code",
   "execution_count": 61,
   "metadata": {},
   "outputs": [
    {
     "data": {
      "text/plain": [
       "859.5293775450843"
      ]
     },
     "execution_count": 61,
     "metadata": {},
     "output_type": "execute_result"
    }
   ],
   "source": [
    "clients_churn = data[(data['churn']==True)]['score'].mean()\n",
    "clients_non_churn = data[(data['churn']==False)]['score'].mean()\n",
    "clients_churn"
   ]
  },
  {
   "cell_type": "code",
   "execution_count": 62,
   "metadata": {},
   "outputs": [
    {
     "data": {
      "text/plain": [
       "844.1520438049154"
      ]
     },
     "execution_count": 62,
     "metadata": {},
     "output_type": "execute_result"
    }
   ],
   "source": [
    "clients_non_churn"
   ]
  },
  {
   "cell_type": "markdown",
   "metadata": {},
   "source": [
    "## Промежуточные выводы "
   ]
  },
  {
   "cell_type": "markdown",
   "metadata": {},
   "source": [
    "***Признаки, стратегическим образом влияющие на отток клиентов:***\n",
    "\n",
    "- пол (мужчины попадают в эту категорию чаще);\n",
    "- возраст более 50 лет;\n",
    "- кредитный скоринг (отмечается пик оттока при наличии 850-900 баллов);\n",
    "- количество используемых банковских продуктов (клиенты, использующие более 2 продуктов чаще уходят в отток);\n",
    "- баланс (клиенты с большим балансом на счету более склонны к оттоку);\n",
    "- наличие кредитной карты (не имеющие карты клиенты чаще становятся отточными);\n",
    "- активность клиента (более активные клиенты чаще становятся отточными). "
   ]
  },
  {
   "cell_type": "markdown",
   "metadata": {},
   "source": [
    "***Признаки, практически не влияющие на отток клиентов:***\n",
    "\n",
    "- город проживания;\n",
    "- оценочный доход клиента."
   ]
  },
  {
   "cell_type": "markdown",
   "metadata": {},
   "source": [
    "## Cформируем сегменты на основе стратегических показателей и отберем из них значимые ."
   ]
  },
  {
   "cell_type": "code",
   "execution_count": 63,
   "metadata": {},
   "outputs": [
    {
     "data": {
      "text/plain": [
       "gender\n",
       "Ж    0.127699\n",
       "М    0.232128\n",
       "Name: churn, dtype: float64"
      ]
     },
     "execution_count": 63,
     "metadata": {},
     "output_type": "execute_result"
    }
   ],
   "source": [
    "data.groupby('gender')['churn'].mean()"
   ]
  },
  {
   "cell_type": "markdown",
   "metadata": {},
   "source": [
    "Среди мужчин отток почти в два раза выше, чем среди женщин."
   ]
  },
  {
   "cell_type": "code",
   "execution_count": 64,
   "metadata": {},
   "outputs": [
    {
     "data": {
      "text/plain": [
       "city\n",
       "Ростов       0.185053\n",
       "Рыбинск      0.160480\n",
       "Ярославль    0.187063\n",
       "Name: churn, dtype: float64"
      ]
     },
     "execution_count": 64,
     "metadata": {},
     "output_type": "execute_result"
    }
   ],
   "source": [
    "data.groupby('city')['churn'].mean()"
   ]
  },
  {
   "cell_type": "markdown",
   "metadata": {},
   "source": [
    "По городам отток только в Рыбинске немного ниже среднего по банку (18%)"
   ]
  },
  {
   "cell_type": "code",
   "execution_count": 65,
   "metadata": {},
   "outputs": [
    {
     "data": {
      "text/plain": [
       "products\n",
       "1    0.072126\n",
       "2    0.187853\n",
       "3    0.280773\n",
       "4    0.626424\n",
       "5    0.421053\n",
       "Name: churn, dtype: float64"
      ]
     },
     "execution_count": 65,
     "metadata": {},
     "output_type": "execute_result"
    }
   ],
   "source": [
    "data.groupby('products')['churn'].mean()"
   ]
  },
  {
   "cell_type": "markdown",
   "metadata": {},
   "source": [
    "Больше отток среди клиентов, пользующихся 4 и 5 продуктами."
   ]
  },
  {
   "cell_type": "markdown",
   "metadata": {},
   "source": [
    "### Сформируем сегменты пользователей и рассчитаем для каждого основные метрики."
   ]
  },
  {
   "cell_type": "markdown",
   "metadata": {},
   "source": [
    "#### Рассмотрим мужчин,  активных пользователей банка, но не имеющих кредитной карты."
   ]
  },
  {
   "cell_type": "code",
   "execution_count": 66,
   "metadata": {},
   "outputs": [],
   "source": [
    "seg_1 = data.query(\"gender == 'М' and credit_card == False and last_activity == True \")\n"
   ]
  },
  {
   "cell_type": "code",
   "execution_count": 67,
   "metadata": {},
   "outputs": [
    {
     "name": "stdout",
     "output_type": "stream",
     "text": [
      "Общее число пользователей в сегменте: 665\n",
      "Количество ушедших клиентов: 274\n",
      "Процент ушедших клиентов: 41.2\n"
     ]
    }
   ],
   "source": [
    "# Общее количество пользователей в сегменте\n",
    "total_users = seg_1.shape[0]\n",
    "\n",
    "# Количество ушедших клиентов в сегменте\n",
    "churn_count = seg_1['churn'].sum()\n",
    "\n",
    "# Процент ушедших клиентов\n",
    "churn_rate = ((churn_count / total_users) * 100).round(2)\n",
    "\n",
    "print(\"Общее число пользователей в сегменте:\", total_users)\n",
    "print(\"Количество ушедших клиентов:\", churn_count)\n",
    "print(\"Процент ушедших клиентов:\", churn_rate)\n"
   ]
  },
  {
   "cell_type": "markdown",
   "metadata": {},
   "source": [
    "#### Рассмотрим мужчин,  имеющих 3-5 баллов собственности и баланс на счете более 1 млн. рублей."
   ]
  },
  {
   "cell_type": "code",
   "execution_count": 68,
   "metadata": {},
   "outputs": [],
   "source": [
    "seg_2 = data.query(\"gender == 'М' and 3<= equity <=5 and balance > 1000000 \")\n"
   ]
  },
  {
   "cell_type": "code",
   "execution_count": 69,
   "metadata": {},
   "outputs": [
    {
     "name": "stdout",
     "output_type": "stream",
     "text": [
      "Общее число пользователей в сегменте: 740\n",
      "Количество ушедших клиентов: 358\n",
      "Процент ушедших клиентов: 48.38\n"
     ]
    }
   ],
   "source": [
    "total_users = seg_2.shape[0]\n",
    "churn_count = seg_2['churn'].sum()\n",
    "churn_rate = ((churn_count / total_users) * 100).round(2)\n",
    "\n",
    "print(\"Общее число пользователей в сегменте:\", total_users)\n",
    "print(\"Количество ушедших клиентов:\", churn_count)\n",
    "print(\"Процент ушедших клиентов:\", churn_rate)\n"
   ]
  },
  {
   "cell_type": "markdown",
   "metadata": {},
   "source": [
    "#### Рассмотрим мужчин,  проживающих в Ярославле и имеющих баланс на счете более 1 млн. рублей."
   ]
  },
  {
   "cell_type": "code",
   "execution_count": 70,
   "metadata": {},
   "outputs": [],
   "source": [
    "seg_3 = data.query(\"gender == 'М' and city == 'Ярославль' and balance > 1000000 \")\n"
   ]
  },
  {
   "cell_type": "code",
   "execution_count": 71,
   "metadata": {},
   "outputs": [
    {
     "name": "stdout",
     "output_type": "stream",
     "text": [
      "Общее число пользователей в сегменте: 489\n",
      "Количество ушедших клиентов: 252\n",
      "Процент ушедших клиентов: 51.53\n"
     ]
    }
   ],
   "source": [
    "total_users = seg_3.shape[0]\n",
    "churn_count = seg_3['churn'].sum()\n",
    "churn_rate = ((churn_count / total_users) * 100).round(2)\n",
    "\n",
    "print(\"Общее число пользователей в сегменте:\", total_users)\n",
    "print(\"Количество ушедших клиентов:\", churn_count)\n",
    "print(\"Процент ушедших клиентов:\", churn_rate)"
   ]
  },
  {
   "cell_type": "markdown",
   "metadata": {},
   "source": [
    "#### Рассмотрим мужчин,  активных пользователей банка, использующих более 2 продуктов."
   ]
  },
  {
   "cell_type": "code",
   "execution_count": 72,
   "metadata": {},
   "outputs": [],
   "source": [
    "seg_4 = data.query(\"gender == 'М' and last_activity == True and products >2 \")\n"
   ]
  },
  {
   "cell_type": "code",
   "execution_count": 73,
   "metadata": {},
   "outputs": [
    {
     "name": "stdout",
     "output_type": "stream",
     "text": [
      "Общее число пользователей в сегменте: 381\n",
      "Количество ушедших клиентов: 204\n",
      "Процент ушедших клиентов: 53.54\n"
     ]
    }
   ],
   "source": [
    "total_users = seg_4.shape[0]\n",
    "churn_count = seg_4['churn'].sum()\n",
    "churn_rate = ((churn_count / total_users) * 100).round(2)\n",
    "\n",
    "print(\"Общее число пользователей в сегменте:\", total_users)\n",
    "print(\"Количество ушедших клиентов:\", churn_count)\n",
    "print(\"Процент ушедших клиентов:\", churn_rate)"
   ]
  },
  {
   "cell_type": "markdown",
   "metadata": {},
   "source": [
    "#### Рассмотрим пользователей старше 50 лет,  имеющих баланс больше 1 млн рублей и не имеющих кредитной карты"
   ]
  },
  {
   "cell_type": "code",
   "execution_count": 74,
   "metadata": {},
   "outputs": [],
   "source": [
    "seg_5 = data.query(\"age > 50 and credit_card == False and balance > 1000000 \")\n"
   ]
  },
  {
   "cell_type": "code",
   "execution_count": 75,
   "metadata": {},
   "outputs": [
    {
     "name": "stdout",
     "output_type": "stream",
     "text": [
      "Общее число пользователей в сегменте: 303\n",
      "Количество ушедших клиентов: 119\n",
      "Процент ушедших клиентов: 39.27\n"
     ]
    }
   ],
   "source": [
    "total_users = seg_5.shape[0]\n",
    "churn_count = seg_5['churn'].sum()\n",
    "churn_rate = ((churn_count / total_users) * 100).round(2)\n",
    "\n",
    "print(\"Общее число пользователей в сегменте:\", total_users)\n",
    "print(\"Количество ушедших клиентов:\", churn_count)\n",
    "print(\"Процент ушедших клиентов:\", churn_rate)"
   ]
  },
  {
   "cell_type": "markdown",
   "metadata": {},
   "source": [
    "#### Рассмотрим пользователей старше 50 лет,  имеющих баланс больше 1 млн рублей и кредитный скоринг более 800"
   ]
  },
  {
   "cell_type": "code",
   "execution_count": 76,
   "metadata": {},
   "outputs": [],
   "source": [
    "seg_6 = data.query(\"age > 50 and balance > 1000000 and score > 800\")\n"
   ]
  },
  {
   "cell_type": "code",
   "execution_count": 77,
   "metadata": {},
   "outputs": [
    {
     "name": "stdout",
     "output_type": "stream",
     "text": [
      "Общее число пользователей в сегменте: 483\n",
      "Количество ушедших клиентов: 172\n",
      "Процент ушедших клиентов: 35.61\n"
     ]
    }
   ],
   "source": [
    "total_users = seg_6.shape[0]\n",
    "churn_count = seg_6['churn'].sum()\n",
    "churn_rate = ((churn_count / total_users) * 100).round(2)\n",
    "\n",
    "print(\"Общее число пользователей в сегменте:\", total_users)\n",
    "print(\"Количество ушедших клиентов:\", churn_count)\n",
    "print(\"Процент ушедших клиентов:\", churn_rate)"
   ]
  },
  {
   "cell_type": "markdown",
   "metadata": {},
   "source": [
    "#### Рассмотрим женщин,  активных пользователей банка, но не имеющих кредитной карты"
   ]
  },
  {
   "cell_type": "code",
   "execution_count": 78,
   "metadata": {},
   "outputs": [],
   "source": [
    "seg_7 = data.query(\"gender == 'Ж' and credit_card == False and last_activity == True \")\n"
   ]
  },
  {
   "cell_type": "code",
   "execution_count": 79,
   "metadata": {},
   "outputs": [
    {
     "name": "stdout",
     "output_type": "stream",
     "text": [
      "Общее число пользователей в сегменте: 1000\n",
      "Количество ушедших клиентов: 296\n",
      "Процент ушедших клиентов: 29.6\n"
     ]
    }
   ],
   "source": [
    "total_users = seg_7.shape[0]\n",
    "churn_count = seg_7['churn'].sum()\n",
    "churn_rate = ((churn_count / total_users) * 100).round(2)\n",
    "\n",
    "print(\"Общее число пользователей в сегменте:\", total_users)\n",
    "print(\"Количество ушедших клиентов:\", churn_count)\n",
    "print(\"Процент ушедших клиентов:\", churn_rate)"
   ]
  },
  {
   "cell_type": "markdown",
   "metadata": {},
   "source": [
    "#### Рассмотрим женщин,  имеющих 3-5 баллов собственности и баланс на счете более 1 млн. рублей."
   ]
  },
  {
   "cell_type": "code",
   "execution_count": 80,
   "metadata": {},
   "outputs": [],
   "source": [
    "seg_8 = data.query(\"gender == 'Ж' and 3<= equity <=5 and balance > 1000000 \")\n"
   ]
  },
  {
   "cell_type": "code",
   "execution_count": 81,
   "metadata": {},
   "outputs": [
    {
     "name": "stdout",
     "output_type": "stream",
     "text": [
      "Общее число пользователей в сегменте: 748\n",
      "Количество ушедших клиентов: 199\n",
      "Процент ушедших клиентов: 26.6\n"
     ]
    }
   ],
   "source": [
    "total_users = seg_8.shape[0]\n",
    "churn_count = seg_8['churn'].sum()\n",
    "churn_rate = ((churn_count / total_users) * 100).round(2)\n",
    "\n",
    "print(\"Общее число пользователей в сегменте:\", total_users)\n",
    "print(\"Количество ушедших клиентов:\", churn_count)\n",
    "print(\"Процент ушедших клиентов:\", churn_rate)"
   ]
  },
  {
   "cell_type": "markdown",
   "metadata": {},
   "source": [
    "Процент отточных клиентов во всех сегментах выше среднего по банку (18%)."
   ]
  },
  {
   "cell_type": "markdown",
   "metadata": {},
   "source": [
    "### Сформируем итоговый датафрейм с метриками для полученных сегментов с целью их приоритизации"
   ]
  },
  {
   "cell_type": "code",
   "execution_count": 82,
   "metadata": {},
   "outputs": [
    {
     "data": {
      "text/html": [
       "<div>\n",
       "<style scoped>\n",
       "    .dataframe tbody tr th:only-of-type {\n",
       "        vertical-align: middle;\n",
       "    }\n",
       "\n",
       "    .dataframe tbody tr th {\n",
       "        vertical-align: top;\n",
       "    }\n",
       "\n",
       "    .dataframe thead th {\n",
       "        text-align: right;\n",
       "    }\n",
       "</style>\n",
       "<table border=\"1\" class=\"dataframe\">\n",
       "  <thead>\n",
       "    <tr style=\"text-align: right;\">\n",
       "      <th></th>\n",
       "      <th>segment</th>\n",
       "      <th>Всего клиентов</th>\n",
       "      <th>Число отточных клиентов</th>\n",
       "      <th>Процент оттока</th>\n",
       "    </tr>\n",
       "  </thead>\n",
       "  <tbody>\n",
       "    <tr>\n",
       "      <th>0</th>\n",
       "      <td>seg_2</td>\n",
       "      <td>740</td>\n",
       "      <td>358</td>\n",
       "      <td>48.38</td>\n",
       "    </tr>\n",
       "    <tr>\n",
       "      <th>1</th>\n",
       "      <td>seg_7</td>\n",
       "      <td>1000</td>\n",
       "      <td>296</td>\n",
       "      <td>29.60</td>\n",
       "    </tr>\n",
       "    <tr>\n",
       "      <th>2</th>\n",
       "      <td>seg_1</td>\n",
       "      <td>665</td>\n",
       "      <td>274</td>\n",
       "      <td>41.20</td>\n",
       "    </tr>\n",
       "    <tr>\n",
       "      <th>3</th>\n",
       "      <td>seg_3</td>\n",
       "      <td>489</td>\n",
       "      <td>252</td>\n",
       "      <td>51.53</td>\n",
       "    </tr>\n",
       "    <tr>\n",
       "      <th>4</th>\n",
       "      <td>seg_4</td>\n",
       "      <td>381</td>\n",
       "      <td>204</td>\n",
       "      <td>53.54</td>\n",
       "    </tr>\n",
       "    <tr>\n",
       "      <th>5</th>\n",
       "      <td>seg_8</td>\n",
       "      <td>748</td>\n",
       "      <td>199</td>\n",
       "      <td>26.60</td>\n",
       "    </tr>\n",
       "    <tr>\n",
       "      <th>6</th>\n",
       "      <td>seg_6</td>\n",
       "      <td>483</td>\n",
       "      <td>172</td>\n",
       "      <td>35.61</td>\n",
       "    </tr>\n",
       "    <tr>\n",
       "      <th>7</th>\n",
       "      <td>seg_5</td>\n",
       "      <td>303</td>\n",
       "      <td>119</td>\n",
       "      <td>39.27</td>\n",
       "    </tr>\n",
       "  </tbody>\n",
       "</table>\n",
       "</div>"
      ],
      "text/plain": [
       "  segment  Всего клиентов  Число отточных клиентов  Процент оттока\n",
       "0   seg_2             740                      358           48.38\n",
       "1   seg_7            1000                      296           29.60\n",
       "2   seg_1             665                      274           41.20\n",
       "3   seg_3             489                      252           51.53\n",
       "4   seg_4             381                      204           53.54\n",
       "5   seg_8             748                      199           26.60\n",
       "6   seg_6             483                      172           35.61\n",
       "7   seg_5             303                      119           39.27"
      ]
     },
     "execution_count": 82,
     "metadata": {},
     "output_type": "execute_result"
    }
   ],
   "source": [
    "# Создадим пустой список для хранения данных по каждому сегменту\n",
    "segment_data = []\n",
    "\n",
    "# Для каждого сегмента считаем метрики и добавляем их в список\n",
    "for segment_name, segment_df in [('seg_1', seg_1), ('seg_2', seg_2), ('seg_3', seg_3), \n",
    "                                 ('seg_4', seg_4), ('seg_5', seg_5), ('seg_6', seg_6), \n",
    "                                 ('seg_7', seg_7), ('seg_8', seg_8)]:\n",
    "    \n",
    "    # Расчет метрик для текущего сегмента\n",
    "    total_users = segment_df.shape[0]\n",
    "    churn_count = segment_df['churn'].sum()\n",
    "    churn_rate = ((churn_count / total_users) * 100).round(2) if total_users > 0 else 0\n",
    "\n",
    "    # Добавление данных по сегменту в список\n",
    "    segment_data.append({\n",
    "        'segment': segment_name,\n",
    "        'Всего клиентов': total_users,\n",
    "        'Число отточных клиентов': churn_count,\n",
    "        'Процент оттока': churn_rate\n",
    "    })\n",
    "\n",
    "# Создание общего датафрейма из списка\n",
    "segment_summary_df = pd.DataFrame(segment_data)\n",
    "\n",
    "# Просмотр итогового датафрейма, отсортированного по числу отточных клиентов\n",
    "segment_summary_df.sort_values(by = 'Число отточных клиентов', ascending = False).reset_index(drop=True)\n"
   ]
  },
  {
   "cell_type": "markdown",
   "metadata": {},
   "source": [
    "Визуализируем полученные результаты."
   ]
  },
  {
   "cell_type": "code",
   "execution_count": 83,
   "metadata": {},
   "outputs": [
    {
     "data": {
      "image/png": "[encoded data removed]",
      "text/plain": [
       "<Figure size 864x576 with 2 Axes>"
      ]
     },
     "metadata": {
      "needs_background": "light"
     },
     "output_type": "display_data"
    }
   ],
   "source": [
    "# Устанавливаем размер графиков\n",
    "plt.figure(figsize=(12, 8))\n",
    "\n",
    "# Визуализация общего количества пользователей и количества ушедших\n",
    "plt.subplot(1, 2, 1)\n",
    "sns.barplot(x='Всего клиентов', y='segment', data=segment_summary_df, color='skyblue', label='Всего клиентов')\n",
    "sns.barplot(x='Число отточных клиентов', y='segment', data=segment_summary_df, color='salmon', label='Ушедшие клиенты')\n",
    "plt.xlabel('Количество пользователей')\n",
    "plt.title('Общее количество пользователей и отток по сегментам')\n",
    "plt.grid()\n",
    "plt.legend()\n",
    "\n",
    "# Визуализация процента ушедших клиентов по сегментам\n",
    "plt.subplot(1, 2, 2)\n",
    "sns.barplot(x='Процент оттока', y='segment', data=segment_summary_df, palette='viridis')\n",
    "plt.xlabel('Процент оттока')\n",
    "plt.title('Процент оттока по сегментам')\n",
    "plt.grid()\n",
    "plt.tight_layout()\n",
    "plt.show()"
   ]
  },
  {
   "cell_type": "markdown",
   "metadata": {},
   "source": [
    "**Приоритетными будем считать сегменты:**\n",
    "\n",
    "- сегмент 2 (мужчины, имеющие 3-5 баллов собственности и баланс на счете более 1 млн. рублей)\n",
    "- сегмент 1 (мужчины, активные пользователи банка, но не имеющие кредитной карты)\n",
    "- сегмент 7 (женщины, активные пользователи банка, но не имеющие кредитной карты)\n"
   ]
  },
  {
   "cell_type": "markdown",
   "metadata": {},
   "source": [
    "## Выводы и рекомендации для заказчика по конкретным сегментам"
   ]
  },
  {
   "cell_type": "markdown",
   "metadata": {},
   "source": [
    "1. На основании полученных данных выявлено: \n",
    "\n",
    "   - Больше половины всех клиентов банка проживают в Ярославле, 27% в Рыбинске, меньшая часть - в Ростове.Женщин и мужчин среди клиентов банка примерно поровну.Наибольшее число клиентов банка в возрасте 30-40 лет, пиковые значения - 36-37 лет.\n",
    "   - Кредитная карта есть у 68% пользователей.Активными считаются 52% клиентов банка.\n",
    "   - Пиковые значения оценочного дохода клиентов находятся в районе 100 тыс.рублей.\n",
    "   - Большая часть клиентов не имеет объектов в собственности, либо имеет 3-5.\n",
    "   - Большая часть клиентов пользуется 1 или 2 продуктами банка.\n",
    "   - **Отток клиентов из банка составляет 18%**.\n",
    "   \n",
    "   \n",
    "2. Составлен портрет типичного клиента, который склонен к оттоку:\n",
    "   - мужчина\n",
    "   - возраст 50-60 лет\n",
    "   - активный клиент банка\n",
    "   - не имеющий кредитной карты\n",
    "   - использует 3-4 банковских продукта\n",
    "   - имеет баланс на счете более 1 млн рублей\n",
    "   - имеет 3-5 баллов собственности\n",
    "   - имеет 850-900 баллов кредитного скоринга\n",
    "   \n",
    "   \n",
    "3. Выявлены признаки, стратегическим образом влияющие на отток клиентов:\n",
    "\n",
    "   - пол (мужчины попадают в эту категорию чаще);\n",
    "   - возраст (пик - клиенты в диапазоне 55-59 лет);\n",
    "   - кредитный скоринг (отмечается пик оттока при наличии 850-900 баллов);\n",
    "   - количество используемых банковских продуктов (клиенты, использующие более 2 продуктов чаще уходят в отток);\n",
    "   - баланс (клиенты с большим балансом на счету более склонны к оттоку);\n",
    "   - наличие кредитной карты (не имеющие карты клиенты чаще становятся отточными);\n",
    "   - активность клиента (более активные клиенты чаще становятся отточными). \n",
    "   \n",
    "   \n",
    "4. Сформулированы и проверены статистические гипотезы,получены результаты:\n",
    "\n",
    "   - средний доход клиентов, которые ушли,значимо не отличается от среднего дохода оставшихся клиентов;\n",
    "   - средний кредитный скоринг клиентов, которые ушли, значимо отличается от среднего кредитного скоринга оставшихся клиентов.\n",
    "   \n",
    "   \n",
    "5. На основе стратегических показателей сформированы сегменты пользователей, из них отобраны приоритетные .\n",
    "\n",
    "\n",
    "6. ***Рекомендации по сегментам:***\n",
    "\n",
    "   - ***Сегмент 2*** (мужчины, имеющие 3-5 баллов собственности и баланс на счете более 1 млн. рублей):\n",
    "      - для удержания клиентов этого сегмента можно предложить выгодные условия страхования собственности\n",
    "      - выгодные условия для депозита более 1 млн рублей\n",
    "      - акции и кэшбек в спортивных, автомобильных магазинах,  в период \"мужских\" праздников\n",
    "      \n",
    "   - ***Сегмент 1*** (мужчины, активные пользователи банка, но не имеющие кредитной карты):\n",
    "      - выгодные условия пользования кредитной картой (пользователи, обладающие этой картой, реже уходят в отток)\n",
    "      - акции и кэшбек в спортивных, автомобильных магазинах в период \"мужских\" праздников\n",
    "      \n",
    "   - ***Сегмент 7*** (женщины, активные пользователи банка, но не имеющие кредитной карты):\n",
    "      - выгодные условия пользования кредитной картой\n",
    "      - акции и кэшбек в магазинах белья, косметики и парфюмерии\n",
    "      - процент оттока в этом сегменте уступает другим, но количество пользователей в нем свидетельствует о перспективности сегмента.\n",
    "     \n",
    "\n"
   ]
  },
  {
   "cell_type": "markdown",
   "metadata": {},
   "source": []
  }
 ],
 "metadata": {
  "ExecuteTimeLog": [
   {
    "duration": 1293,
    "start_time": "2024-11-05T14:43:47.024Z"
   },
   {
    "duration": 118,
    "start_time": "2024-11-05T14:43:48.319Z"
   },
   {
    "duration": 18,
    "start_time": "2024-11-05T14:43:48.438Z"
   },
   {
    "duration": 11,
    "start_time": "2024-11-05T14:43:48.457Z"
   },
   {
    "duration": 21,
    "start_time": "2024-11-05T14:43:48.469Z"
   },
   {
    "duration": 20,
    "start_time": "2024-11-05T14:43:48.491Z"
   },
   {
    "duration": 52,
    "start_time": "2024-11-05T14:43:48.512Z"
   },
   {
    "duration": 12,
    "start_time": "2024-11-05T14:43:48.565Z"
   },
   {
    "duration": 20,
    "start_time": "2024-11-05T14:43:48.578Z"
   },
   {
    "duration": 4,
    "start_time": "2024-11-05T14:43:48.602Z"
   },
   {
    "duration": 76,
    "start_time": "2024-11-05T14:43:48.608Z"
   },
   {
    "duration": 6,
    "start_time": "2024-11-05T14:43:48.686Z"
   },
   {
    "duration": 11,
    "start_time": "2024-11-05T14:43:48.693Z"
   },
   {
    "duration": 23,
    "start_time": "2024-11-05T14:43:48.706Z"
   },
   {
    "duration": 16,
    "start_time": "2024-11-05T14:43:48.730Z"
   },
   {
    "duration": 8,
    "start_time": "2024-11-05T14:43:48.748Z"
   },
   {
    "duration": 11,
    "start_time": "2024-11-05T14:43:48.757Z"
   },
   {
    "duration": 17,
    "start_time": "2024-11-05T14:43:48.769Z"
   },
   {
    "duration": 15,
    "start_time": "2024-11-05T14:43:48.788Z"
   },
   {
    "duration": 13,
    "start_time": "2024-11-05T14:43:48.804Z"
   },
   {
    "duration": 45,
    "start_time": "2024-11-05T14:43:48.818Z"
   },
   {
    "duration": 30,
    "start_time": "2024-11-05T14:43:48.865Z"
   },
   {
    "duration": 31,
    "start_time": "2024-11-05T14:43:48.897Z"
   },
   {
    "duration": 22,
    "start_time": "2024-11-05T14:43:48.929Z"
   },
   {
    "duration": 10,
    "start_time": "2024-11-05T14:43:48.952Z"
   },
   {
    "duration": 128,
    "start_time": "2024-11-05T14:43:48.963Z"
   },
   {
    "duration": 4,
    "start_time": "2024-11-05T14:43:49.092Z"
   },
   {
    "duration": 5,
    "start_time": "2024-11-05T14:43:49.098Z"
   },
   {
    "duration": 18,
    "start_time": "2024-11-05T14:43:49.104Z"
   },
   {
    "duration": 21,
    "start_time": "2024-11-05T14:43:49.123Z"
   },
   {
    "duration": 14,
    "start_time": "2024-11-05T15:10:11.650Z"
   },
   {
    "duration": 16,
    "start_time": "2024-11-05T15:12:57.848Z"
   },
   {
    "duration": 13,
    "start_time": "2024-11-05T15:13:18.486Z"
   },
   {
    "duration": 16,
    "start_time": "2024-11-05T15:13:26.436Z"
   },
   {
    "duration": 13,
    "start_time": "2024-11-05T15:28:56.771Z"
   },
   {
    "duration": 1116,
    "start_time": "2024-11-05T15:40:39.680Z"
   },
   {
    "duration": 3,
    "start_time": "2024-11-05T15:40:40.797Z"
   },
   {
    "duration": 72,
    "start_time": "2024-11-05T15:40:40.801Z"
   },
   {
    "duration": 14,
    "start_time": "2024-11-05T15:40:40.874Z"
   },
   {
    "duration": 24,
    "start_time": "2024-11-05T15:40:40.890Z"
   },
   {
    "duration": 3,
    "start_time": "2024-11-05T15:40:40.915Z"
   },
   {
    "duration": 7,
    "start_time": "2024-11-05T15:40:40.920Z"
   },
   {
    "duration": 35,
    "start_time": "2024-11-05T15:40:40.928Z"
   },
   {
    "duration": 12,
    "start_time": "2024-11-05T15:40:40.964Z"
   },
   {
    "duration": 17,
    "start_time": "2024-11-05T15:40:40.977Z"
   },
   {
    "duration": 4,
    "start_time": "2024-11-05T15:40:40.995Z"
   },
   {
    "duration": 31,
    "start_time": "2024-11-05T15:40:41.001Z"
   },
   {
    "duration": 5,
    "start_time": "2024-11-05T15:40:41.033Z"
   },
   {
    "duration": 7,
    "start_time": "2024-11-05T15:40:41.047Z"
   },
   {
    "duration": 8,
    "start_time": "2024-11-05T15:40:41.055Z"
   },
   {
    "duration": 6,
    "start_time": "2024-11-05T15:40:41.065Z"
   },
   {
    "duration": 6,
    "start_time": "2024-11-05T15:40:41.072Z"
   },
   {
    "duration": 12,
    "start_time": "2024-11-05T15:40:41.079Z"
   },
   {
    "duration": 11,
    "start_time": "2024-11-05T15:40:41.092Z"
   },
   {
    "duration": 5,
    "start_time": "2024-11-05T15:40:41.104Z"
   },
   {
    "duration": 37,
    "start_time": "2024-11-05T15:40:41.111Z"
   },
   {
    "duration": 35,
    "start_time": "2024-11-05T15:40:41.149Z"
   },
   {
    "duration": 29,
    "start_time": "2024-11-05T15:40:41.185Z"
   },
   {
    "duration": 39,
    "start_time": "2024-11-05T15:40:41.216Z"
   },
   {
    "duration": 10,
    "start_time": "2024-11-05T15:40:41.256Z"
   },
   {
    "duration": 6,
    "start_time": "2024-11-05T15:40:41.267Z"
   },
   {
    "duration": 129,
    "start_time": "2024-11-05T15:40:41.274Z"
   },
   {
    "duration": 5,
    "start_time": "2024-11-05T15:40:41.404Z"
   },
   {
    "duration": 5,
    "start_time": "2024-11-05T15:40:41.410Z"
   },
   {
    "duration": 32,
    "start_time": "2024-11-05T15:40:41.416Z"
   },
   {
    "duration": 4,
    "start_time": "2024-11-05T15:40:41.449Z"
   },
   {
    "duration": 16,
    "start_time": "2024-11-05T15:40:41.454Z"
   },
   {
    "duration": 5,
    "start_time": "2024-11-05T15:49:01.668Z"
   },
   {
    "duration": 4,
    "start_time": "2024-11-05T15:49:44.325Z"
   },
   {
    "duration": 4,
    "start_time": "2024-11-05T15:51:20.216Z"
   },
   {
    "duration": 196,
    "start_time": "2024-11-05T15:51:22.686Z"
   },
   {
    "duration": 5,
    "start_time": "2024-11-05T15:52:07.672Z"
   },
   {
    "duration": 4,
    "start_time": "2024-11-05T15:52:09.258Z"
   },
   {
    "duration": 4,
    "start_time": "2024-11-05T15:52:10.131Z"
   },
   {
    "duration": 1706,
    "start_time": "2024-11-05T15:53:09.955Z"
   },
   {
    "duration": 1142,
    "start_time": "2024-11-05T15:55:18.182Z"
   },
   {
    "duration": 3,
    "start_time": "2024-11-05T15:55:19.325Z"
   },
   {
    "duration": 127,
    "start_time": "2024-11-05T15:55:19.329Z"
   },
   {
    "duration": 17,
    "start_time": "2024-11-05T15:55:19.458Z"
   },
   {
    "duration": 18,
    "start_time": "2024-11-05T15:55:19.476Z"
   },
   {
    "duration": 25,
    "start_time": "2024-11-05T15:55:19.495Z"
   },
   {
    "duration": 25,
    "start_time": "2024-11-05T15:55:19.521Z"
   },
   {
    "duration": 40,
    "start_time": "2024-11-05T15:55:19.549Z"
   },
   {
    "duration": 13,
    "start_time": "2024-11-05T15:55:19.590Z"
   },
   {
    "duration": 14,
    "start_time": "2024-11-05T15:55:19.605Z"
   },
   {
    "duration": 6,
    "start_time": "2024-11-05T15:55:19.621Z"
   },
   {
    "duration": 33,
    "start_time": "2024-11-05T15:55:19.628Z"
   },
   {
    "duration": 4,
    "start_time": "2024-11-05T15:55:19.663Z"
   },
   {
    "duration": 11,
    "start_time": "2024-11-05T15:55:19.669Z"
   },
   {
    "duration": 29,
    "start_time": "2024-11-05T15:55:19.681Z"
   },
   {
    "duration": 20,
    "start_time": "2024-11-05T15:55:19.712Z"
   },
   {
    "duration": 22,
    "start_time": "2024-11-05T15:55:19.733Z"
   },
   {
    "duration": 15,
    "start_time": "2024-11-05T15:55:19.757Z"
   },
   {
    "duration": 11,
    "start_time": "2024-11-05T15:55:19.773Z"
   },
   {
    "duration": 7,
    "start_time": "2024-11-05T15:55:19.786Z"
   },
   {
    "duration": 13,
    "start_time": "2024-11-05T15:55:19.794Z"
   },
   {
    "duration": 45,
    "start_time": "2024-11-05T15:55:19.808Z"
   },
   {
    "duration": 34,
    "start_time": "2024-11-05T15:55:19.854Z"
   },
   {
    "duration": 32,
    "start_time": "2024-11-05T15:55:19.889Z"
   },
   {
    "duration": 27,
    "start_time": "2024-11-05T15:55:19.922Z"
   },
   {
    "duration": 10,
    "start_time": "2024-11-05T15:55:19.951Z"
   },
   {
    "duration": 134,
    "start_time": "2024-11-05T15:55:19.963Z"
   },
   {
    "duration": 4,
    "start_time": "2024-11-05T15:55:20.100Z"
   },
   {
    "duration": 28,
    "start_time": "2024-11-05T15:55:20.105Z"
   },
   {
    "duration": 65,
    "start_time": "2024-11-05T15:55:20.134Z"
   },
   {
    "duration": 11,
    "start_time": "2024-11-05T15:55:20.200Z"
   },
   {
    "duration": 24,
    "start_time": "2024-11-05T15:55:20.212Z"
   },
   {
    "duration": 26,
    "start_time": "2024-11-05T15:55:20.237Z"
   },
   {
    "duration": 14,
    "start_time": "2024-11-05T15:55:20.264Z"
   },
   {
    "duration": 15,
    "start_time": "2024-11-05T15:55:20.284Z"
   },
   {
    "duration": 5840,
    "start_time": "2024-11-05T15:55:20.300Z"
   },
   {
    "duration": 93,
    "start_time": "2024-11-05T15:56:30.444Z"
   },
   {
    "duration": 3,
    "start_time": "2024-11-05T15:57:11.192Z"
   },
   {
    "duration": 5,
    "start_time": "2024-11-05T15:57:12.272Z"
   },
   {
    "duration": 1121,
    "start_time": "2024-11-05T15:57:17.493Z"
   },
   {
    "duration": 5,
    "start_time": "2024-11-05T15:57:18.616Z"
   },
   {
    "duration": 74,
    "start_time": "2024-11-05T15:57:18.623Z"
   },
   {
    "duration": 15,
    "start_time": "2024-11-05T15:57:18.699Z"
   },
   {
    "duration": 16,
    "start_time": "2024-11-05T15:57:18.715Z"
   },
   {
    "duration": 11,
    "start_time": "2024-11-05T15:57:18.732Z"
   },
   {
    "duration": 6,
    "start_time": "2024-11-05T15:57:18.744Z"
   },
   {
    "duration": 31,
    "start_time": "2024-11-05T15:57:18.751Z"
   },
   {
    "duration": 10,
    "start_time": "2024-11-05T15:57:18.783Z"
   },
   {
    "duration": 12,
    "start_time": "2024-11-05T15:57:18.795Z"
   },
   {
    "duration": 4,
    "start_time": "2024-11-05T15:57:18.808Z"
   },
   {
    "duration": 40,
    "start_time": "2024-11-05T15:57:18.813Z"
   },
   {
    "duration": 5,
    "start_time": "2024-11-05T15:57:18.854Z"
   },
   {
    "duration": 18,
    "start_time": "2024-11-05T15:57:18.860Z"
   },
   {
    "duration": 29,
    "start_time": "2024-11-05T15:57:18.879Z"
   },
   {
    "duration": 7,
    "start_time": "2024-11-05T15:57:18.909Z"
   },
   {
    "duration": 12,
    "start_time": "2024-11-05T15:57:18.918Z"
   },
   {
    "duration": 18,
    "start_time": "2024-11-05T15:57:18.931Z"
   },
   {
    "duration": 16,
    "start_time": "2024-11-05T15:57:18.951Z"
   },
   {
    "duration": 7,
    "start_time": "2024-11-05T15:57:18.968Z"
   },
   {
    "duration": 7,
    "start_time": "2024-11-05T15:57:18.977Z"
   },
   {
    "duration": 33,
    "start_time": "2024-11-05T15:57:18.985Z"
   },
   {
    "duration": 49,
    "start_time": "2024-11-05T15:57:19.020Z"
   },
   {
    "duration": 29,
    "start_time": "2024-11-05T15:57:19.070Z"
   },
   {
    "duration": 9,
    "start_time": "2024-11-05T15:57:19.101Z"
   },
   {
    "duration": 6,
    "start_time": "2024-11-05T15:57:19.111Z"
   },
   {
    "duration": 402,
    "start_time": "2024-11-05T15:57:19.118Z"
   },
   {
    "duration": 4,
    "start_time": "2024-11-05T15:57:19.523Z"
   },
   {
    "duration": 8,
    "start_time": "2024-11-05T15:57:19.529Z"
   },
   {
    "duration": 33,
    "start_time": "2024-11-05T15:57:19.538Z"
   },
   {
    "duration": 3,
    "start_time": "2024-11-05T15:57:19.572Z"
   },
   {
    "duration": 13,
    "start_time": "2024-11-05T15:57:19.577Z"
   },
   {
    "duration": 6,
    "start_time": "2024-11-05T15:57:19.591Z"
   },
   {
    "duration": 7,
    "start_time": "2024-11-05T15:57:19.598Z"
   },
   {
    "duration": 6,
    "start_time": "2024-11-05T15:57:19.606Z"
   },
   {
    "duration": 7216,
    "start_time": "2024-11-05T15:57:19.614Z"
   },
   {
    "duration": 92,
    "start_time": "2024-11-05T16:09:52.073Z"
   },
   {
    "duration": 588,
    "start_time": "2024-11-05T16:10:18.088Z"
   },
   {
    "duration": 4,
    "start_time": "2024-11-05T16:22:13.304Z"
   },
   {
    "duration": 501,
    "start_time": "2024-11-05T16:24:42.542Z"
   },
   {
    "duration": 3,
    "start_time": "2024-11-05T16:26:49.948Z"
   },
   {
    "duration": 333,
    "start_time": "2024-11-05T16:26:55.605Z"
   },
   {
    "duration": 3,
    "start_time": "2024-11-05T16:28:16.114Z"
   },
   {
    "duration": 406,
    "start_time": "2024-11-05T16:28:20.611Z"
   },
   {
    "duration": 3,
    "start_time": "2024-11-05T16:28:48.752Z"
   },
   {
    "duration": 381,
    "start_time": "2024-11-05T16:28:52.188Z"
   },
   {
    "duration": 4,
    "start_time": "2024-11-05T16:30:37.233Z"
   },
   {
    "duration": 470,
    "start_time": "2024-11-05T16:30:40.795Z"
   },
   {
    "duration": 3,
    "start_time": "2024-11-05T16:30:59.982Z"
   },
   {
    "duration": 392,
    "start_time": "2024-11-05T16:31:04.293Z"
   },
   {
    "duration": 12,
    "start_time": "2024-11-05T16:59:05.848Z"
   },
   {
    "duration": 7,
    "start_time": "2024-11-05T16:59:14.025Z"
   },
   {
    "duration": 592,
    "start_time": "2024-11-05T16:59:18.123Z"
   },
   {
    "duration": 396,
    "start_time": "2024-11-05T17:01:09.141Z"
   },
   {
    "duration": 7,
    "start_time": "2024-11-05T17:01:19.492Z"
   },
   {
    "duration": 595,
    "start_time": "2024-11-05T17:01:28.522Z"
   },
   {
    "duration": 372,
    "start_time": "2024-11-05T17:04:21.514Z"
   },
   {
    "duration": 537,
    "start_time": "2024-11-05T17:04:34.192Z"
   },
   {
    "duration": 7,
    "start_time": "2024-11-05T17:06:44.114Z"
   },
   {
    "duration": 2486,
    "start_time": "2024-11-05T17:06:51.776Z"
   },
   {
    "duration": 3924,
    "start_time": "2024-11-05T17:07:07.293Z"
   },
   {
    "duration": 401,
    "start_time": "2024-11-05T17:11:35.788Z"
   },
   {
    "duration": 663,
    "start_time": "2024-11-05T17:11:51.391Z"
   },
   {
    "duration": 5,
    "start_time": "2024-11-05T17:12:07.147Z"
   },
   {
    "duration": 701,
    "start_time": "2024-11-05T17:14:27.709Z"
   },
   {
    "duration": 716,
    "start_time": "2024-11-05T17:14:41.505Z"
   },
   {
    "duration": 6,
    "start_time": "2024-11-05T17:16:13.969Z"
   },
   {
    "duration": 573,
    "start_time": "2024-11-05T17:16:21.238Z"
   },
   {
    "duration": 5,
    "start_time": "2024-11-05T17:17:41.597Z"
   },
   {
    "duration": 488,
    "start_time": "2024-11-05T17:17:44.629Z"
   },
   {
    "duration": 483,
    "start_time": "2024-11-05T17:18:49.581Z"
   },
   {
    "duration": 555,
    "start_time": "2024-11-05T17:19:00.592Z"
   },
   {
    "duration": 2395,
    "start_time": "2024-11-05T17:19:39.032Z"
   },
   {
    "duration": 670,
    "start_time": "2024-11-05T17:19:53.701Z"
   },
   {
    "duration": 609,
    "start_time": "2024-11-05T17:20:15.985Z"
   },
   {
    "duration": 527,
    "start_time": "2024-11-05T17:20:31.399Z"
   },
   {
    "duration": 335,
    "start_time": "2024-11-05T17:23:09.212Z"
   },
   {
    "duration": 318,
    "start_time": "2024-11-05T17:24:10.975Z"
   },
   {
    "duration": 327,
    "start_time": "2024-11-05T17:24:33.624Z"
   },
   {
    "duration": 344,
    "start_time": "2024-11-05T17:25:23.377Z"
   },
   {
    "duration": 320,
    "start_time": "2024-11-05T17:25:38.424Z"
   },
   {
    "duration": 5,
    "start_time": "2024-11-05T17:26:08.152Z"
   },
   {
    "duration": 5,
    "start_time": "2024-11-05T17:26:18.284Z"
   },
   {
    "duration": 7,
    "start_time": "2024-11-05T17:27:05.380Z"
   },
   {
    "duration": 4,
    "start_time": "2024-11-05T17:30:03.368Z"
   },
   {
    "duration": 4,
    "start_time": "2024-11-05T17:30:12.534Z"
   },
   {
    "duration": 323,
    "start_time": "2024-11-05T17:33:52.555Z"
   },
   {
    "duration": 5,
    "start_time": "2024-11-05T17:34:20.715Z"
   },
   {
    "duration": 4,
    "start_time": "2024-11-05T17:34:29.633Z"
   },
   {
    "duration": 5,
    "start_time": "2024-11-05T17:34:33.591Z"
   },
   {
    "duration": 419,
    "start_time": "2024-11-05T17:34:34.756Z"
   },
   {
    "duration": 423,
    "start_time": "2024-11-05T17:35:24.557Z"
   },
   {
    "duration": 452,
    "start_time": "2024-11-05T17:35:55.536Z"
   },
   {
    "duration": 421,
    "start_time": "2024-11-05T17:38:25.570Z"
   },
   {
    "duration": 419,
    "start_time": "2024-11-05T17:39:30.692Z"
   },
   {
    "duration": 1158,
    "start_time": "2024-11-05T17:39:53.770Z"
   },
   {
    "duration": 5,
    "start_time": "2024-11-05T17:39:54.930Z"
   },
   {
    "duration": 62,
    "start_time": "2024-11-05T17:39:54.936Z"
   },
   {
    "duration": 14,
    "start_time": "2024-11-05T17:39:54.999Z"
   },
   {
    "duration": 11,
    "start_time": "2024-11-05T17:39:55.015Z"
   },
   {
    "duration": 3,
    "start_time": "2024-11-05T17:39:55.027Z"
   },
   {
    "duration": 11,
    "start_time": "2024-11-05T17:39:55.032Z"
   },
   {
    "duration": 37,
    "start_time": "2024-11-05T17:39:55.045Z"
   },
   {
    "duration": 11,
    "start_time": "2024-11-05T17:39:55.084Z"
   },
   {
    "duration": 9,
    "start_time": "2024-11-05T17:39:55.096Z"
   },
   {
    "duration": 4,
    "start_time": "2024-11-05T17:39:55.107Z"
   },
   {
    "duration": 35,
    "start_time": "2024-11-05T17:39:55.112Z"
   },
   {
    "duration": 5,
    "start_time": "2024-11-05T17:39:55.149Z"
   },
   {
    "duration": 12,
    "start_time": "2024-11-05T17:39:55.156Z"
   },
   {
    "duration": 27,
    "start_time": "2024-11-05T17:39:55.170Z"
   },
   {
    "duration": 8,
    "start_time": "2024-11-05T17:39:55.198Z"
   },
   {
    "duration": 19,
    "start_time": "2024-11-05T17:39:55.207Z"
   },
   {
    "duration": 17,
    "start_time": "2024-11-05T17:39:55.227Z"
   },
   {
    "duration": 9,
    "start_time": "2024-11-05T17:39:55.245Z"
   },
   {
    "duration": 14,
    "start_time": "2024-11-05T17:39:55.255Z"
   },
   {
    "duration": 26,
    "start_time": "2024-11-05T17:39:55.270Z"
   },
   {
    "duration": 29,
    "start_time": "2024-11-05T17:39:55.297Z"
   },
   {
    "duration": 27,
    "start_time": "2024-11-05T17:39:55.328Z"
   },
   {
    "duration": 30,
    "start_time": "2024-11-05T17:39:55.357Z"
   },
   {
    "duration": 9,
    "start_time": "2024-11-05T17:39:55.388Z"
   },
   {
    "duration": 11,
    "start_time": "2024-11-05T17:39:55.398Z"
   },
   {
    "duration": 382,
    "start_time": "2024-11-05T17:39:55.410Z"
   },
   {
    "duration": 5,
    "start_time": "2024-11-05T17:39:55.793Z"
   },
   {
    "duration": 8,
    "start_time": "2024-11-05T17:39:55.799Z"
   },
   {
    "duration": 321,
    "start_time": "2024-11-05T17:39:55.808Z"
   },
   {
    "duration": 319,
    "start_time": "2024-11-05T17:39:56.131Z"
   },
   {
    "duration": 17,
    "start_time": "2024-11-05T17:39:56.451Z"
   },
   {
    "duration": 4,
    "start_time": "2024-11-05T17:39:56.470Z"
   },
   {
    "duration": 21,
    "start_time": "2024-11-05T17:39:56.475Z"
   },
   {
    "duration": 4,
    "start_time": "2024-11-05T17:39:56.497Z"
   },
   {
    "duration": 6,
    "start_time": "2024-11-05T17:39:56.502Z"
   },
   {
    "duration": 507,
    "start_time": "2024-11-05T17:39:56.509Z"
   },
   {
    "duration": 606,
    "start_time": "2024-11-05T17:39:57.017Z"
   },
   {
    "duration": 562,
    "start_time": "2024-11-05T17:39:57.624Z"
   },
   {
    "duration": 585,
    "start_time": "2024-11-05T17:39:58.188Z"
   },
   {
    "duration": 443,
    "start_time": "2024-11-05T17:39:58.776Z"
   },
   {
    "duration": 532,
    "start_time": "2024-11-05T17:39:59.220Z"
   },
   {
    "duration": 2513,
    "start_time": "2024-11-05T17:39:59.753Z"
   },
   {
    "duration": 4001,
    "start_time": "2024-11-05T17:40:02.267Z"
   },
   {
    "duration": 490,
    "start_time": "2024-11-05T17:40:06.270Z"
   },
   {
    "duration": 591,
    "start_time": "2024-11-05T17:40:06.762Z"
   },
   {
    "duration": 523,
    "start_time": "2024-11-05T17:40:07.355Z"
   },
   {
    "duration": 859,
    "start_time": "2024-11-05T17:40:07.879Z"
   },
   {
    "duration": 8,
    "start_time": "2024-11-05T17:40:08.740Z"
   },
   {
    "duration": 440,
    "start_time": "2024-11-05T17:40:08.750Z"
   },
   {
    "duration": 438,
    "start_time": "2024-11-05T17:40:09.191Z"
   },
   {
    "duration": 412,
    "start_time": "2024-11-05T17:40:09.630Z"
   },
   {
    "duration": 445,
    "start_time": "2024-11-05T17:40:10.044Z"
   },
   {
    "duration": 6,
    "start_time": "2024-11-05T18:03:05.033Z"
   },
   {
    "duration": 4,
    "start_time": "2024-11-05T18:05:01.624Z"
   },
   {
    "duration": 3,
    "start_time": "2024-11-05T18:05:08.017Z"
   },
   {
    "duration": 144,
    "start_time": "2024-11-05T18:07:04.959Z"
   },
   {
    "duration": 69,
    "start_time": "2024-11-05T18:08:04.808Z"
   },
   {
    "duration": 3,
    "start_time": "2024-11-05T18:09:26.889Z"
   },
   {
    "duration": 4,
    "start_time": "2024-11-05T18:09:41.782Z"
   },
   {
    "duration": 3,
    "start_time": "2024-11-05T18:09:49.150Z"
   },
   {
    "duration": 1106,
    "start_time": "2024-11-05T18:10:04.090Z"
   },
   {
    "duration": 5,
    "start_time": "2024-11-05T18:10:05.198Z"
   },
   {
    "duration": 98,
    "start_time": "2024-11-05T18:10:05.204Z"
   },
   {
    "duration": 13,
    "start_time": "2024-11-05T18:10:05.303Z"
   },
   {
    "duration": 23,
    "start_time": "2024-11-05T18:10:05.318Z"
   },
   {
    "duration": 22,
    "start_time": "2024-11-05T18:10:05.342Z"
   },
   {
    "duration": 13,
    "start_time": "2024-11-05T18:10:05.365Z"
   },
   {
    "duration": 33,
    "start_time": "2024-11-05T18:10:05.379Z"
   },
   {
    "duration": 8,
    "start_time": "2024-11-05T18:10:05.413Z"
   },
   {
    "duration": 27,
    "start_time": "2024-11-05T18:10:05.423Z"
   },
   {
    "duration": 22,
    "start_time": "2024-11-05T18:10:05.452Z"
   },
   {
    "duration": 29,
    "start_time": "2024-11-05T18:10:05.476Z"
   },
   {
    "duration": 21,
    "start_time": "2024-11-05T18:10:05.507Z"
   },
   {
    "duration": 48,
    "start_time": "2024-11-05T18:10:05.530Z"
   },
   {
    "duration": 7,
    "start_time": "2024-11-05T18:10:05.580Z"
   },
   {
    "duration": 14,
    "start_time": "2024-11-05T18:10:05.588Z"
   },
   {
    "duration": 14,
    "start_time": "2024-11-05T18:10:05.603Z"
   },
   {
    "duration": 50,
    "start_time": "2024-11-05T18:10:05.618Z"
   },
   {
    "duration": 19,
    "start_time": "2024-11-05T18:10:05.669Z"
   },
   {
    "duration": 13,
    "start_time": "2024-11-05T18:10:05.689Z"
   },
   {
    "duration": 66,
    "start_time": "2024-11-05T18:10:05.703Z"
   },
   {
    "duration": 43,
    "start_time": "2024-11-05T18:10:05.770Z"
   },
   {
    "duration": 29,
    "start_time": "2024-11-05T18:10:05.814Z"
   },
   {
    "duration": 46,
    "start_time": "2024-11-05T18:10:05.844Z"
   },
   {
    "duration": 10,
    "start_time": "2024-11-05T18:10:05.891Z"
   },
   {
    "duration": 26,
    "start_time": "2024-11-05T18:10:05.903Z"
   },
   {
    "duration": 398,
    "start_time": "2024-11-05T18:10:05.930Z"
   },
   {
    "duration": 4,
    "start_time": "2024-11-05T18:10:06.329Z"
   },
   {
    "duration": 32,
    "start_time": "2024-11-05T18:10:06.335Z"
   },
   {
    "duration": 333,
    "start_time": "2024-11-05T18:10:06.368Z"
   },
   {
    "duration": 321,
    "start_time": "2024-11-05T18:10:06.703Z"
   },
   {
    "duration": 5,
    "start_time": "2024-11-05T18:10:07.025Z"
   },
   {
    "duration": 20,
    "start_time": "2024-11-05T18:10:07.031Z"
   },
   {
    "duration": 60,
    "start_time": "2024-11-05T18:10:07.052Z"
   },
   {
    "duration": 6,
    "start_time": "2024-11-05T18:10:07.113Z"
   },
   {
    "duration": 34,
    "start_time": "2024-11-05T18:10:07.120Z"
   },
   {
    "duration": 9,
    "start_time": "2024-11-05T18:10:07.156Z"
   },
   {
    "duration": 19,
    "start_time": "2024-11-05T18:10:07.166Z"
   },
   {
    "duration": 478,
    "start_time": "2024-11-05T18:10:07.187Z"
   },
   {
    "duration": 601,
    "start_time": "2024-11-05T18:10:07.667Z"
   },
   {
    "duration": 538,
    "start_time": "2024-11-05T18:10:08.272Z"
   },
   {
    "duration": 571,
    "start_time": "2024-11-05T18:10:08.812Z"
   },
   {
    "duration": 435,
    "start_time": "2024-11-05T18:10:09.385Z"
   },
   {
    "duration": 544,
    "start_time": "2024-11-05T18:10:09.821Z"
   },
   {
    "duration": 506,
    "start_time": "2024-11-05T18:10:10.367Z"
   },
   {
    "duration": 672,
    "start_time": "2024-11-05T18:10:10.875Z"
   },
   {
    "duration": 508,
    "start_time": "2024-11-05T18:10:11.549Z"
   },
   {
    "duration": 619,
    "start_time": "2024-11-05T18:10:12.058Z"
   },
   {
    "duration": 515,
    "start_time": "2024-11-05T18:10:12.679Z"
   },
   {
    "duration": 646,
    "start_time": "2024-11-05T18:10:13.196Z"
   },
   {
    "duration": 4,
    "start_time": "2024-11-05T18:10:13.848Z"
   },
   {
    "duration": 547,
    "start_time": "2024-11-05T18:10:13.854Z"
   },
   {
    "duration": 472,
    "start_time": "2024-11-05T18:10:14.402Z"
   },
   {
    "duration": 426,
    "start_time": "2024-11-05T18:10:14.876Z"
   },
   {
    "duration": 447,
    "start_time": "2024-11-05T18:10:15.304Z"
   },
   {
    "duration": 5,
    "start_time": "2024-11-05T18:15:23.171Z"
   },
   {
    "duration": 5,
    "start_time": "2024-11-05T18:15:47.589Z"
   },
   {
    "duration": 3,
    "start_time": "2024-11-05T18:15:58.964Z"
   },
   {
    "duration": 1153,
    "start_time": "2024-11-05T18:16:42.347Z"
   },
   {
    "duration": 5,
    "start_time": "2024-11-05T18:16:43.502Z"
   },
   {
    "duration": 128,
    "start_time": "2024-11-05T18:16:43.509Z"
   },
   {
    "duration": 15,
    "start_time": "2024-11-05T18:16:43.639Z"
   },
   {
    "duration": 15,
    "start_time": "2024-11-05T18:16:43.656Z"
   },
   {
    "duration": 18,
    "start_time": "2024-11-05T18:16:43.672Z"
   },
   {
    "duration": 22,
    "start_time": "2024-11-05T18:16:43.691Z"
   },
   {
    "duration": 48,
    "start_time": "2024-11-05T18:16:43.714Z"
   },
   {
    "duration": 58,
    "start_time": "2024-11-05T18:16:43.764Z"
   },
   {
    "duration": 19,
    "start_time": "2024-11-05T18:16:43.824Z"
   },
   {
    "duration": 14,
    "start_time": "2024-11-05T18:16:43.844Z"
   },
   {
    "duration": 30,
    "start_time": "2024-11-05T18:16:43.859Z"
   },
   {
    "duration": 8,
    "start_time": "2024-11-05T18:16:43.891Z"
   },
   {
    "duration": 11,
    "start_time": "2024-11-05T18:16:43.902Z"
   },
   {
    "duration": 13,
    "start_time": "2024-11-05T18:16:43.914Z"
   },
   {
    "duration": 25,
    "start_time": "2024-11-05T18:16:43.929Z"
   },
   {
    "duration": 23,
    "start_time": "2024-11-05T18:16:43.956Z"
   },
   {
    "duration": 35,
    "start_time": "2024-11-05T18:16:43.982Z"
   },
   {
    "duration": 27,
    "start_time": "2024-11-05T18:16:44.019Z"
   },
   {
    "duration": 11,
    "start_time": "2024-11-05T18:16:44.048Z"
   },
   {
    "duration": 16,
    "start_time": "2024-11-05T18:16:44.060Z"
   },
   {
    "duration": 49,
    "start_time": "2024-11-05T18:16:44.077Z"
   },
   {
    "duration": 30,
    "start_time": "2024-11-05T18:16:44.128Z"
   },
   {
    "duration": 27,
    "start_time": "2024-11-05T18:16:44.160Z"
   },
   {
    "duration": 9,
    "start_time": "2024-11-05T18:16:44.189Z"
   },
   {
    "duration": 24,
    "start_time": "2024-11-05T18:16:44.199Z"
   },
   {
    "duration": 403,
    "start_time": "2024-11-05T18:16:44.225Z"
   },
   {
    "duration": 4,
    "start_time": "2024-11-05T18:16:44.630Z"
   },
   {
    "duration": 12,
    "start_time": "2024-11-05T18:16:44.636Z"
   },
   {
    "duration": 343,
    "start_time": "2024-11-05T18:16:44.650Z"
   },
   {
    "duration": 328,
    "start_time": "2024-11-05T18:16:44.994Z"
   },
   {
    "duration": 4,
    "start_time": "2024-11-05T18:16:45.324Z"
   },
   {
    "duration": 47,
    "start_time": "2024-11-05T18:16:45.329Z"
   },
   {
    "duration": 64,
    "start_time": "2024-11-05T18:16:45.378Z"
   },
   {
    "duration": 5,
    "start_time": "2024-11-05T18:16:45.443Z"
   },
   {
    "duration": 23,
    "start_time": "2024-11-05T18:16:45.450Z"
   },
   {
    "duration": 28,
    "start_time": "2024-11-05T18:16:45.475Z"
   },
   {
    "duration": 27,
    "start_time": "2024-11-05T18:16:45.505Z"
   },
   {
    "duration": 507,
    "start_time": "2024-11-05T18:16:45.534Z"
   },
   {
    "duration": 586,
    "start_time": "2024-11-05T18:16:46.042Z"
   },
   {
    "duration": 544,
    "start_time": "2024-11-05T18:16:46.631Z"
   },
   {
    "duration": 566,
    "start_time": "2024-11-05T18:16:47.176Z"
   },
   {
    "duration": 427,
    "start_time": "2024-11-05T18:16:47.747Z"
   },
   {
    "duration": 535,
    "start_time": "2024-11-05T18:16:48.176Z"
   },
   {
    "duration": 514,
    "start_time": "2024-11-05T18:16:48.712Z"
   },
   {
    "duration": 678,
    "start_time": "2024-11-05T18:16:49.228Z"
   },
   {
    "duration": 514,
    "start_time": "2024-11-05T18:16:49.908Z"
   },
   {
    "duration": 605,
    "start_time": "2024-11-05T18:16:50.423Z"
   },
   {
    "duration": 522,
    "start_time": "2024-11-05T18:16:51.029Z"
   },
   {
    "duration": 661,
    "start_time": "2024-11-05T18:16:51.553Z"
   },
   {
    "duration": 5,
    "start_time": "2024-11-05T18:16:52.215Z"
   },
   {
    "duration": 542,
    "start_time": "2024-11-05T18:16:52.221Z"
   },
   {
    "duration": 432,
    "start_time": "2024-11-05T18:16:52.764Z"
   },
   {
    "duration": 422,
    "start_time": "2024-11-05T18:16:53.197Z"
   },
   {
    "duration": 471,
    "start_time": "2024-11-05T18:16:53.620Z"
   },
   {
    "duration": 49,
    "start_time": "2024-11-05T18:29:36.510Z"
   },
   {
    "duration": 1130,
    "start_time": "2024-11-05T18:39:44.866Z"
   },
   {
    "duration": 5,
    "start_time": "2024-11-05T18:39:45.998Z"
   },
   {
    "duration": 90,
    "start_time": "2024-11-05T18:39:46.004Z"
   },
   {
    "duration": 14,
    "start_time": "2024-11-05T18:39:46.096Z"
   },
   {
    "duration": 21,
    "start_time": "2024-11-05T18:39:46.112Z"
   },
   {
    "duration": 9,
    "start_time": "2024-11-05T18:39:46.134Z"
   },
   {
    "duration": 20,
    "start_time": "2024-11-05T18:39:46.144Z"
   },
   {
    "duration": 34,
    "start_time": "2024-11-05T18:39:46.165Z"
   },
   {
    "duration": 13,
    "start_time": "2024-11-05T18:39:46.201Z"
   },
   {
    "duration": 17,
    "start_time": "2024-11-05T18:39:46.216Z"
   },
   {
    "duration": 4,
    "start_time": "2024-11-05T18:39:46.235Z"
   },
   {
    "duration": 35,
    "start_time": "2024-11-05T18:39:46.241Z"
   },
   {
    "duration": 7,
    "start_time": "2024-11-05T18:39:46.278Z"
   },
   {
    "duration": 19,
    "start_time": "2024-11-05T18:39:46.288Z"
   },
   {
    "duration": 17,
    "start_time": "2024-11-05T18:39:46.309Z"
   },
   {
    "duration": 9,
    "start_time": "2024-11-05T18:39:46.328Z"
   },
   {
    "duration": 9,
    "start_time": "2024-11-05T18:39:46.338Z"
   },
   {
    "duration": 13,
    "start_time": "2024-11-05T18:39:46.348Z"
   },
   {
    "duration": 11,
    "start_time": "2024-11-05T18:39:46.362Z"
   },
   {
    "duration": 6,
    "start_time": "2024-11-05T18:39:46.375Z"
   },
   {
    "duration": 17,
    "start_time": "2024-11-05T18:39:46.382Z"
   },
   {
    "duration": 34,
    "start_time": "2024-11-05T18:39:46.401Z"
   },
   {
    "duration": 39,
    "start_time": "2024-11-05T18:39:46.437Z"
   },
   {
    "duration": 32,
    "start_time": "2024-11-05T18:39:46.477Z"
   },
   {
    "duration": 10,
    "start_time": "2024-11-05T18:39:46.510Z"
   },
   {
    "duration": 27,
    "start_time": "2024-11-05T18:39:46.521Z"
   },
   {
    "duration": 391,
    "start_time": "2024-11-05T18:39:46.549Z"
   },
   {
    "duration": 6,
    "start_time": "2024-11-05T18:39:46.942Z"
   },
   {
    "duration": 7,
    "start_time": "2024-11-05T18:39:46.949Z"
   },
   {
    "duration": 331,
    "start_time": "2024-11-05T18:39:46.958Z"
   },
   {
    "duration": 326,
    "start_time": "2024-11-05T18:39:47.291Z"
   },
   {
    "duration": 6,
    "start_time": "2024-11-05T18:39:47.619Z"
   },
   {
    "duration": 20,
    "start_time": "2024-11-05T18:39:47.627Z"
   },
   {
    "duration": 17,
    "start_time": "2024-11-05T18:39:47.649Z"
   },
   {
    "duration": 7,
    "start_time": "2024-11-05T18:39:47.668Z"
   },
   {
    "duration": 16,
    "start_time": "2024-11-05T18:39:47.676Z"
   },
   {
    "duration": 12,
    "start_time": "2024-11-05T18:39:47.693Z"
   },
   {
    "duration": 5,
    "start_time": "2024-11-05T18:39:47.706Z"
   },
   {
    "duration": 499,
    "start_time": "2024-11-05T18:39:47.712Z"
   },
   {
    "duration": 592,
    "start_time": "2024-11-05T18:39:48.213Z"
   },
   {
    "duration": 549,
    "start_time": "2024-11-05T18:39:48.809Z"
   },
   {
    "duration": 569,
    "start_time": "2024-11-05T18:39:49.360Z"
   },
   {
    "duration": 441,
    "start_time": "2024-11-05T18:39:49.930Z"
   },
   {
    "duration": 578,
    "start_time": "2024-11-05T18:39:50.372Z"
   },
   {
    "duration": 503,
    "start_time": "2024-11-05T18:39:50.952Z"
   },
   {
    "duration": 725,
    "start_time": "2024-11-05T18:39:51.456Z"
   },
   {
    "duration": 510,
    "start_time": "2024-11-05T18:39:52.182Z"
   },
   {
    "duration": 596,
    "start_time": "2024-11-05T18:39:52.694Z"
   },
   {
    "duration": 519,
    "start_time": "2024-11-05T18:39:53.292Z"
   },
   {
    "duration": 676,
    "start_time": "2024-11-05T18:39:53.813Z"
   },
   {
    "duration": 6,
    "start_time": "2024-11-05T18:39:54.491Z"
   },
   {
    "duration": 572,
    "start_time": "2024-11-05T18:39:54.498Z"
   },
   {
    "duration": 456,
    "start_time": "2024-11-05T18:39:55.071Z"
   },
   {
    "duration": 421,
    "start_time": "2024-11-05T18:39:55.529Z"
   },
   {
    "duration": 430,
    "start_time": "2024-11-05T18:39:55.951Z"
   },
   {
    "duration": 1765,
    "start_time": "2024-11-05T19:36:27.352Z"
   },
   {
    "duration": 2109,
    "start_time": "2024-11-05T19:37:00.677Z"
   },
   {
    "duration": 2144,
    "start_time": "2024-11-05T19:37:16.649Z"
   },
   {
    "duration": 2030,
    "start_time": "2024-11-05T19:42:40.225Z"
   },
   {
    "duration": 18,
    "start_time": "2024-11-05T19:46:11.205Z"
   },
   {
    "duration": 48,
    "start_time": "2024-11-06T08:22:57.977Z"
   },
   {
    "duration": 1415,
    "start_time": "2024-11-06T08:23:04.334Z"
   },
   {
    "duration": 5,
    "start_time": "2024-11-06T08:23:05.751Z"
   },
   {
    "duration": 122,
    "start_time": "2024-11-06T08:23:05.758Z"
   },
   {
    "duration": 17,
    "start_time": "2024-11-06T08:23:05.882Z"
   },
   {
    "duration": 14,
    "start_time": "2024-11-06T08:23:05.901Z"
   },
   {
    "duration": 38,
    "start_time": "2024-11-06T08:23:05.916Z"
   },
   {
    "duration": 43,
    "start_time": "2024-11-06T08:23:05.956Z"
   },
   {
    "duration": 62,
    "start_time": "2024-11-06T08:23:06.001Z"
   },
   {
    "duration": 15,
    "start_time": "2024-11-06T08:23:06.065Z"
   },
   {
    "duration": 42,
    "start_time": "2024-11-06T08:23:06.084Z"
   },
   {
    "duration": 57,
    "start_time": "2024-11-06T08:23:06.128Z"
   },
   {
    "duration": 44,
    "start_time": "2024-11-06T08:23:06.187Z"
   },
   {
    "duration": 35,
    "start_time": "2024-11-06T08:23:06.233Z"
   },
   {
    "duration": 35,
    "start_time": "2024-11-06T08:23:06.270Z"
   },
   {
    "duration": 70,
    "start_time": "2024-11-06T08:23:06.307Z"
   },
   {
    "duration": 78,
    "start_time": "2024-11-06T08:23:06.378Z"
   },
   {
    "duration": 39,
    "start_time": "2024-11-06T08:23:06.458Z"
   },
   {
    "duration": 36,
    "start_time": "2024-11-06T08:23:06.498Z"
   },
   {
    "duration": 36,
    "start_time": "2024-11-06T08:23:06.536Z"
   },
   {
    "duration": 22,
    "start_time": "2024-11-06T08:23:06.573Z"
   },
   {
    "duration": 40,
    "start_time": "2024-11-06T08:23:06.596Z"
   },
   {
    "duration": 54,
    "start_time": "2024-11-06T08:23:06.638Z"
   },
   {
    "duration": 37,
    "start_time": "2024-11-06T08:23:06.694Z"
   },
   {
    "duration": 49,
    "start_time": "2024-11-06T08:23:06.732Z"
   },
   {
    "duration": 18,
    "start_time": "2024-11-06T08:23:06.782Z"
   },
   {
    "duration": 40,
    "start_time": "2024-11-06T08:23:06.801Z"
   },
   {
    "duration": 426,
    "start_time": "2024-11-06T08:23:06.843Z"
   },
   {
    "duration": 8,
    "start_time": "2024-11-06T08:23:07.273Z"
   },
   {
    "duration": 36,
    "start_time": "2024-11-06T08:23:07.285Z"
   },
   {
    "duration": 421,
    "start_time": "2024-11-06T08:23:07.323Z"
   },
   {
    "duration": 368,
    "start_time": "2024-11-06T08:23:07.746Z"
   },
   {
    "duration": 7,
    "start_time": "2024-11-06T08:23:08.116Z"
   },
   {
    "duration": 26,
    "start_time": "2024-11-06T08:23:08.125Z"
   },
   {
    "duration": 48,
    "start_time": "2024-11-06T08:23:08.153Z"
   },
   {
    "duration": 22,
    "start_time": "2024-11-06T08:23:08.202Z"
   },
   {
    "duration": 42,
    "start_time": "2024-11-06T08:23:08.225Z"
   },
   {
    "duration": 18,
    "start_time": "2024-11-06T08:23:08.269Z"
   },
   {
    "duration": 26,
    "start_time": "2024-11-06T08:23:08.288Z"
   },
   {
    "duration": 554,
    "start_time": "2024-11-06T08:23:08.316Z"
   },
   {
    "duration": 649,
    "start_time": "2024-11-06T08:23:08.872Z"
   },
   {
    "duration": 608,
    "start_time": "2024-11-06T08:23:09.522Z"
   },
   {
    "duration": 629,
    "start_time": "2024-11-06T08:23:10.131Z"
   },
   {
    "duration": 469,
    "start_time": "2024-11-06T08:23:10.762Z"
   },
   {
    "duration": 568,
    "start_time": "2024-11-06T08:23:11.233Z"
   },
   {
    "duration": 555,
    "start_time": "2024-11-06T08:23:11.803Z"
   },
   {
    "duration": 806,
    "start_time": "2024-11-06T08:23:12.360Z"
   },
   {
    "duration": 539,
    "start_time": "2024-11-06T08:23:13.167Z"
   },
   {
    "duration": 697,
    "start_time": "2024-11-06T08:23:13.707Z"
   },
   {
    "duration": 565,
    "start_time": "2024-11-06T08:23:14.405Z"
   },
   {
    "duration": 733,
    "start_time": "2024-11-06T08:23:14.972Z"
   },
   {
    "duration": 18,
    "start_time": "2024-11-06T08:23:15.706Z"
   },
   {
    "duration": 576,
    "start_time": "2024-11-06T08:23:15.725Z"
   },
   {
    "duration": 471,
    "start_time": "2024-11-06T08:23:16.303Z"
   },
   {
    "duration": 465,
    "start_time": "2024-11-06T08:23:16.775Z"
   },
   {
    "duration": 520,
    "start_time": "2024-11-06T08:23:17.242Z"
   },
   {
    "duration": 2352,
    "start_time": "2024-11-06T08:23:17.763Z"
   },
   {
    "duration": 741,
    "start_time": "2024-11-06T08:23:20.120Z"
   },
   {
    "duration": 6,
    "start_time": "2024-11-06T08:25:15.810Z"
   },
   {
    "duration": 286,
    "start_time": "2024-11-06T08:25:18.225Z"
   },
   {
    "duration": 365,
    "start_time": "2024-11-06T08:25:32.241Z"
   },
   {
    "duration": 1249,
    "start_time": "2024-11-06T08:25:45.320Z"
   },
   {
    "duration": 5,
    "start_time": "2024-11-06T08:25:46.571Z"
   },
   {
    "duration": 98,
    "start_time": "2024-11-06T08:25:46.577Z"
   },
   {
    "duration": 14,
    "start_time": "2024-11-06T08:25:46.677Z"
   },
   {
    "duration": 12,
    "start_time": "2024-11-06T08:25:46.693Z"
   },
   {
    "duration": 3,
    "start_time": "2024-11-06T08:25:46.706Z"
   },
   {
    "duration": 16,
    "start_time": "2024-11-06T08:25:46.710Z"
   },
   {
    "duration": 38,
    "start_time": "2024-11-06T08:25:46.728Z"
   },
   {
    "duration": 10,
    "start_time": "2024-11-06T08:25:46.767Z"
   },
   {
    "duration": 13,
    "start_time": "2024-11-06T08:25:46.779Z"
   },
   {
    "duration": 3,
    "start_time": "2024-11-06T08:25:46.794Z"
   },
   {
    "duration": 28,
    "start_time": "2024-11-06T08:25:46.799Z"
   },
   {
    "duration": 5,
    "start_time": "2024-11-06T08:25:46.829Z"
   },
   {
    "duration": 27,
    "start_time": "2024-11-06T08:25:46.836Z"
   },
   {
    "duration": 21,
    "start_time": "2024-11-06T08:25:46.865Z"
   },
   {
    "duration": 8,
    "start_time": "2024-11-06T08:25:46.888Z"
   },
   {
    "duration": 6,
    "start_time": "2024-11-06T08:25:46.897Z"
   },
   {
    "duration": 14,
    "start_time": "2024-11-06T08:25:46.904Z"
   },
   {
    "duration": 18,
    "start_time": "2024-11-06T08:25:46.920Z"
   },
   {
    "duration": 34,
    "start_time": "2024-11-06T08:25:46.940Z"
   },
   {
    "duration": 34,
    "start_time": "2024-11-06T08:25:46.975Z"
   },
   {
    "duration": 52,
    "start_time": "2024-11-06T08:25:47.010Z"
   },
   {
    "duration": 31,
    "start_time": "2024-11-06T08:25:47.064Z"
   },
   {
    "duration": 33,
    "start_time": "2024-11-06T08:25:47.096Z"
   },
   {
    "duration": 9,
    "start_time": "2024-11-06T08:25:47.130Z"
   },
   {
    "duration": 42,
    "start_time": "2024-11-06T08:25:47.141Z"
   },
   {
    "duration": 453,
    "start_time": "2024-11-06T08:25:47.184Z"
   },
   {
    "duration": 5,
    "start_time": "2024-11-06T08:25:47.639Z"
   },
   {
    "duration": 5,
    "start_time": "2024-11-06T08:25:47.645Z"
   },
   {
    "duration": 414,
    "start_time": "2024-11-06T08:25:47.651Z"
   },
   {
    "duration": 375,
    "start_time": "2024-11-06T08:25:48.066Z"
   },
   {
    "duration": 5,
    "start_time": "2024-11-06T08:25:48.443Z"
   },
   {
    "duration": 4,
    "start_time": "2024-11-06T08:25:48.449Z"
   },
   {
    "duration": 27,
    "start_time": "2024-11-06T08:25:48.455Z"
   },
   {
    "duration": 4,
    "start_time": "2024-11-06T08:25:48.484Z"
   },
   {
    "duration": 36,
    "start_time": "2024-11-06T08:25:48.489Z"
   },
   {
    "duration": 4,
    "start_time": "2024-11-06T08:25:48.526Z"
   },
   {
    "duration": 5,
    "start_time": "2024-11-06T08:25:48.532Z"
   },
   {
    "duration": 583,
    "start_time": "2024-11-06T08:25:48.538Z"
   },
   {
    "duration": 661,
    "start_time": "2024-11-06T08:25:49.123Z"
   },
   {
    "duration": 619,
    "start_time": "2024-11-06T08:25:49.790Z"
   },
   {
    "duration": 648,
    "start_time": "2024-11-06T08:25:50.411Z"
   },
   {
    "duration": 486,
    "start_time": "2024-11-06T08:25:51.061Z"
   },
   {
    "duration": 602,
    "start_time": "2024-11-06T08:25:51.549Z"
   },
   {
    "duration": 543,
    "start_time": "2024-11-06T08:25:52.153Z"
   },
   {
    "duration": 827,
    "start_time": "2024-11-06T08:25:52.698Z"
   },
   {
    "duration": 550,
    "start_time": "2024-11-06T08:25:53.526Z"
   },
   {
    "duration": 674,
    "start_time": "2024-11-06T08:25:54.077Z"
   },
   {
    "duration": 590,
    "start_time": "2024-11-06T08:25:54.753Z"
   },
   {
    "duration": 727,
    "start_time": "2024-11-06T08:25:55.344Z"
   },
   {
    "duration": 4,
    "start_time": "2024-11-06T08:25:56.073Z"
   },
   {
    "duration": 598,
    "start_time": "2024-11-06T08:25:56.079Z"
   },
   {
    "duration": 497,
    "start_time": "2024-11-06T08:25:56.679Z"
   },
   {
    "duration": 482,
    "start_time": "2024-11-06T08:25:57.177Z"
   },
   {
    "duration": 482,
    "start_time": "2024-11-06T08:25:57.660Z"
   },
   {
    "duration": 2506,
    "start_time": "2024-11-06T08:25:58.144Z"
   },
   {
    "duration": 749,
    "start_time": "2024-11-06T08:26:00.659Z"
   },
   {
    "duration": 1213,
    "start_time": "2024-11-06T08:28:13.860Z"
   },
   {
    "duration": 3,
    "start_time": "2024-11-06T08:28:38.260Z"
   },
   {
    "duration": 638,
    "start_time": "2024-11-06T08:28:48.302Z"
   },
   {
    "duration": 653,
    "start_time": "2024-11-06T08:30:39.554Z"
   },
   {
    "duration": 596,
    "start_time": "2024-11-06T08:30:58.369Z"
   },
   {
    "duration": 656,
    "start_time": "2024-11-06T08:31:25.900Z"
   },
   {
    "duration": 4,
    "start_time": "2024-11-06T08:32:16.801Z"
   },
   {
    "duration": 1250,
    "start_time": "2024-11-06T08:32:23.547Z"
   },
   {
    "duration": 4,
    "start_time": "2024-11-06T08:32:24.799Z"
   },
   {
    "duration": 82,
    "start_time": "2024-11-06T08:32:24.804Z"
   },
   {
    "duration": 19,
    "start_time": "2024-11-06T08:32:24.887Z"
   },
   {
    "duration": 12,
    "start_time": "2024-11-06T08:32:24.908Z"
   },
   {
    "duration": 13,
    "start_time": "2024-11-06T08:32:24.921Z"
   },
   {
    "duration": 35,
    "start_time": "2024-11-06T08:32:24.936Z"
   },
   {
    "duration": 85,
    "start_time": "2024-11-06T08:32:24.973Z"
   },
   {
    "duration": 19,
    "start_time": "2024-11-06T08:32:25.060Z"
   },
   {
    "duration": 12,
    "start_time": "2024-11-06T08:32:25.081Z"
   },
   {
    "duration": 4,
    "start_time": "2024-11-06T08:32:25.094Z"
   },
   {
    "duration": 47,
    "start_time": "2024-11-06T08:32:25.100Z"
   },
   {
    "duration": 5,
    "start_time": "2024-11-06T08:32:25.149Z"
   },
   {
    "duration": 13,
    "start_time": "2024-11-06T08:32:25.157Z"
   },
   {
    "duration": 58,
    "start_time": "2024-11-06T08:32:25.171Z"
   },
   {
    "duration": 30,
    "start_time": "2024-11-06T08:32:25.231Z"
   },
   {
    "duration": 8,
    "start_time": "2024-11-06T08:32:25.263Z"
   },
   {
    "duration": 14,
    "start_time": "2024-11-06T08:32:25.272Z"
   },
   {
    "duration": 16,
    "start_time": "2024-11-06T08:32:25.287Z"
   },
   {
    "duration": 6,
    "start_time": "2024-11-06T08:32:25.305Z"
   },
   {
    "duration": 8,
    "start_time": "2024-11-06T08:32:25.312Z"
   },
   {
    "duration": 38,
    "start_time": "2024-11-06T08:32:25.321Z"
   },
   {
    "duration": 36,
    "start_time": "2024-11-06T08:32:25.360Z"
   },
   {
    "duration": 49,
    "start_time": "2024-11-06T08:32:25.398Z"
   },
   {
    "duration": 12,
    "start_time": "2024-11-06T08:32:25.449Z"
   },
   {
    "duration": 8,
    "start_time": "2024-11-06T08:32:25.462Z"
   },
   {
    "duration": 150,
    "start_time": "2024-11-06T08:32:25.471Z"
   },
   {
    "duration": 5,
    "start_time": "2024-11-06T08:32:25.623Z"
   },
   {
    "duration": 7,
    "start_time": "2024-11-06T08:32:25.629Z"
   },
   {
    "duration": 134,
    "start_time": "2024-11-06T08:32:25.638Z"
   },
   {
    "duration": 123,
    "start_time": "2024-11-06T08:32:25.773Z"
   },
   {
    "duration": 5,
    "start_time": "2024-11-06T08:32:25.897Z"
   },
   {
    "duration": 22,
    "start_time": "2024-11-06T08:32:25.904Z"
   },
   {
    "duration": 22,
    "start_time": "2024-11-06T08:32:25.927Z"
   },
   {
    "duration": 3,
    "start_time": "2024-11-06T08:32:25.951Z"
   },
   {
    "duration": 66,
    "start_time": "2024-11-06T08:32:25.955Z"
   },
   {
    "duration": 47,
    "start_time": "2024-11-06T08:32:26.023Z"
   },
   {
    "duration": 5,
    "start_time": "2024-11-06T08:32:26.071Z"
   },
   {
    "duration": 303,
    "start_time": "2024-11-06T08:32:26.078Z"
   },
   {
    "duration": 395,
    "start_time": "2024-11-06T08:32:26.383Z"
   },
   {
    "duration": 375,
    "start_time": "2024-11-06T08:32:26.782Z"
   },
   {
    "duration": 411,
    "start_time": "2024-11-06T08:32:27.159Z"
   },
   {
    "duration": 257,
    "start_time": "2024-11-06T08:32:27.572Z"
   },
   {
    "duration": 352,
    "start_time": "2024-11-06T08:32:27.831Z"
   },
   {
    "duration": 311,
    "start_time": "2024-11-06T08:32:28.185Z"
   },
   {
    "duration": 487,
    "start_time": "2024-11-06T08:32:28.498Z"
   },
   {
    "duration": 300,
    "start_time": "2024-11-06T08:32:28.987Z"
   },
   {
    "duration": 386,
    "start_time": "2024-11-06T08:32:29.289Z"
   },
   {
    "duration": 319,
    "start_time": "2024-11-06T08:32:29.676Z"
   },
   {
    "duration": 466,
    "start_time": "2024-11-06T08:32:29.996Z"
   },
   {
    "duration": 5,
    "start_time": "2024-11-06T08:32:30.463Z"
   },
   {
    "duration": 369,
    "start_time": "2024-11-06T08:32:30.469Z"
   },
   {
    "duration": 265,
    "start_time": "2024-11-06T08:32:30.840Z"
   },
   {
    "duration": 239,
    "start_time": "2024-11-06T08:32:31.107Z"
   },
   {
    "duration": 261,
    "start_time": "2024-11-06T08:32:31.347Z"
   },
   {
    "duration": 1712,
    "start_time": "2024-11-06T08:32:31.609Z"
   },
   {
    "duration": 512,
    "start_time": "2024-11-06T08:32:33.330Z"
   },
   {
    "duration": 1146,
    "start_time": "2024-11-06T09:22:02.569Z"
   },
   {
    "duration": 5,
    "start_time": "2024-11-06T09:22:03.716Z"
   },
   {
    "duration": 108,
    "start_time": "2024-11-06T09:22:03.722Z"
   },
   {
    "duration": 17,
    "start_time": "2024-11-06T09:22:03.832Z"
   },
   {
    "duration": 36,
    "start_time": "2024-11-06T09:22:03.850Z"
   },
   {
    "duration": 3,
    "start_time": "2024-11-06T09:22:03.887Z"
   },
   {
    "duration": 12,
    "start_time": "2024-11-06T09:22:03.891Z"
   },
   {
    "duration": 66,
    "start_time": "2024-11-06T09:22:03.905Z"
   },
   {
    "duration": 13,
    "start_time": "2024-11-06T09:22:03.972Z"
   },
   {
    "duration": 14,
    "start_time": "2024-11-06T09:22:03.989Z"
   },
   {
    "duration": 5,
    "start_time": "2024-11-06T09:22:04.005Z"
   },
   {
    "duration": 39,
    "start_time": "2024-11-06T09:22:04.012Z"
   },
   {
    "duration": 6,
    "start_time": "2024-11-06T09:22:04.053Z"
   },
   {
    "duration": 18,
    "start_time": "2024-11-06T09:22:04.060Z"
   },
   {
    "duration": 8,
    "start_time": "2024-11-06T09:22:04.080Z"
   },
   {
    "duration": 18,
    "start_time": "2024-11-06T09:22:04.089Z"
   },
   {
    "duration": 13,
    "start_time": "2024-11-06T09:22:04.109Z"
   },
   {
    "duration": 36,
    "start_time": "2024-11-06T09:22:04.124Z"
   },
   {
    "duration": 51,
    "start_time": "2024-11-06T09:22:04.162Z"
   },
   {
    "duration": 26,
    "start_time": "2024-11-06T09:22:04.215Z"
   },
   {
    "duration": 29,
    "start_time": "2024-11-06T09:22:04.243Z"
   },
   {
    "duration": 41,
    "start_time": "2024-11-06T09:22:04.273Z"
   },
   {
    "duration": 36,
    "start_time": "2024-11-06T09:22:04.315Z"
   },
   {
    "duration": 35,
    "start_time": "2024-11-06T09:22:04.353Z"
   },
   {
    "duration": 63,
    "start_time": "2024-11-06T09:22:04.390Z"
   },
   {
    "duration": 25,
    "start_time": "2024-11-06T09:22:04.454Z"
   },
   {
    "duration": 156,
    "start_time": "2024-11-06T09:22:04.481Z"
   },
   {
    "duration": 5,
    "start_time": "2024-11-06T09:22:04.642Z"
   },
   {
    "duration": 51,
    "start_time": "2024-11-06T09:22:04.648Z"
   },
   {
    "duration": 130,
    "start_time": "2024-11-06T09:22:04.701Z"
   },
   {
    "duration": 116,
    "start_time": "2024-11-06T09:22:04.833Z"
   },
   {
    "duration": 6,
    "start_time": "2024-11-06T09:22:04.950Z"
   },
   {
    "duration": 10,
    "start_time": "2024-11-06T09:22:04.958Z"
   },
   {
    "duration": 24,
    "start_time": "2024-11-06T09:22:04.969Z"
   },
   {
    "duration": 4,
    "start_time": "2024-11-06T09:22:04.994Z"
   },
   {
    "duration": 28,
    "start_time": "2024-11-06T09:22:04.999Z"
   },
   {
    "duration": 5,
    "start_time": "2024-11-06T09:22:05.029Z"
   },
   {
    "duration": 123,
    "start_time": "2024-11-06T09:22:05.035Z"
   },
   {
    "duration": 0,
    "start_time": "2024-11-06T09:22:05.159Z"
   },
   {
    "duration": 0,
    "start_time": "2024-11-06T09:22:05.161Z"
   },
   {
    "duration": 0,
    "start_time": "2024-11-06T09:22:05.162Z"
   },
   {
    "duration": 0,
    "start_time": "2024-11-06T09:22:05.162Z"
   },
   {
    "duration": 0,
    "start_time": "2024-11-06T09:22:05.164Z"
   },
   {
    "duration": 0,
    "start_time": "2024-11-06T09:22:05.165Z"
   },
   {
    "duration": 0,
    "start_time": "2024-11-06T09:22:05.166Z"
   },
   {
    "duration": 0,
    "start_time": "2024-11-06T09:22:05.167Z"
   },
   {
    "duration": 0,
    "start_time": "2024-11-06T09:22:05.168Z"
   },
   {
    "duration": 0,
    "start_time": "2024-11-06T09:22:05.169Z"
   },
   {
    "duration": 0,
    "start_time": "2024-11-06T09:22:05.170Z"
   },
   {
    "duration": 0,
    "start_time": "2024-11-06T09:22:05.170Z"
   },
   {
    "duration": 0,
    "start_time": "2024-11-06T09:22:05.172Z"
   },
   {
    "duration": 0,
    "start_time": "2024-11-06T09:22:05.173Z"
   },
   {
    "duration": 0,
    "start_time": "2024-11-06T09:22:05.173Z"
   },
   {
    "duration": 0,
    "start_time": "2024-11-06T09:22:05.174Z"
   },
   {
    "duration": 0,
    "start_time": "2024-11-06T09:22:05.175Z"
   },
   {
    "duration": 0,
    "start_time": "2024-11-06T09:22:05.176Z"
   },
   {
    "duration": 0,
    "start_time": "2024-11-06T09:22:05.225Z"
   },
   {
    "duration": 1190,
    "start_time": "2024-11-06T09:24:00.537Z"
   },
   {
    "duration": 4,
    "start_time": "2024-11-06T09:24:01.728Z"
   },
   {
    "duration": 155,
    "start_time": "2024-11-06T09:24:01.733Z"
   },
   {
    "duration": 18,
    "start_time": "2024-11-06T09:24:01.890Z"
   },
   {
    "duration": 17,
    "start_time": "2024-11-06T09:24:01.910Z"
   },
   {
    "duration": 7,
    "start_time": "2024-11-06T09:24:01.931Z"
   },
   {
    "duration": 26,
    "start_time": "2024-11-06T09:24:01.939Z"
   },
   {
    "duration": 39,
    "start_time": "2024-11-06T09:24:01.966Z"
   },
   {
    "duration": 13,
    "start_time": "2024-11-06T09:24:02.006Z"
   },
   {
    "duration": 34,
    "start_time": "2024-11-06T09:24:02.020Z"
   },
   {
    "duration": 17,
    "start_time": "2024-11-06T09:24:02.055Z"
   },
   {
    "duration": 24,
    "start_time": "2024-11-06T09:24:02.073Z"
   },
   {
    "duration": 5,
    "start_time": "2024-11-06T09:24:02.099Z"
   },
   {
    "duration": 30,
    "start_time": "2024-11-06T09:24:02.106Z"
   },
   {
    "duration": 83,
    "start_time": "2024-11-06T09:24:02.137Z"
   },
   {
    "duration": 46,
    "start_time": "2024-11-06T09:24:02.222Z"
   },
   {
    "duration": 33,
    "start_time": "2024-11-06T09:24:02.270Z"
   },
   {
    "duration": 50,
    "start_time": "2024-11-06T09:24:02.305Z"
   },
   {
    "duration": 40,
    "start_time": "2024-11-06T09:24:02.356Z"
   },
   {
    "duration": 28,
    "start_time": "2024-11-06T09:24:02.397Z"
   },
   {
    "duration": 31,
    "start_time": "2024-11-06T09:24:02.426Z"
   },
   {
    "duration": 58,
    "start_time": "2024-11-06T09:24:02.458Z"
   },
   {
    "duration": 52,
    "start_time": "2024-11-06T09:24:02.517Z"
   },
   {
    "duration": 54,
    "start_time": "2024-11-06T09:24:02.572Z"
   },
   {
    "duration": 13,
    "start_time": "2024-11-06T09:24:02.627Z"
   },
   {
    "duration": 93,
    "start_time": "2024-11-06T09:24:02.641Z"
   },
   {
    "duration": 154,
    "start_time": "2024-11-06T09:24:02.736Z"
   },
   {
    "duration": 5,
    "start_time": "2024-11-06T09:24:02.892Z"
   },
   {
    "duration": 33,
    "start_time": "2024-11-06T09:24:02.899Z"
   },
   {
    "duration": 137,
    "start_time": "2024-11-06T09:24:02.938Z"
   },
   {
    "duration": 126,
    "start_time": "2024-11-06T09:24:03.077Z"
   },
   {
    "duration": 6,
    "start_time": "2024-11-06T09:24:03.205Z"
   },
   {
    "duration": 18,
    "start_time": "2024-11-06T09:24:03.220Z"
   },
   {
    "duration": 43,
    "start_time": "2024-11-06T09:24:03.239Z"
   },
   {
    "duration": 28,
    "start_time": "2024-11-06T09:24:03.284Z"
   },
   {
    "duration": 50,
    "start_time": "2024-11-06T09:24:03.313Z"
   },
   {
    "duration": 21,
    "start_time": "2024-11-06T09:24:03.365Z"
   },
   {
    "duration": 444,
    "start_time": "2024-11-06T09:24:03.388Z"
   },
   {
    "duration": 377,
    "start_time": "2024-11-06T09:24:03.834Z"
   },
   {
    "duration": 439,
    "start_time": "2024-11-06T09:24:04.213Z"
   },
   {
    "duration": 416,
    "start_time": "2024-11-06T09:24:04.655Z"
   },
   {
    "duration": 415,
    "start_time": "2024-11-06T09:24:05.073Z"
   },
   {
    "duration": 481,
    "start_time": "2024-11-06T09:24:05.489Z"
   },
   {
    "duration": 6,
    "start_time": "2024-11-06T09:24:05.971Z"
   },
   {
    "duration": 297,
    "start_time": "2024-11-06T09:24:05.978Z"
   },
   {
    "duration": 379,
    "start_time": "2024-11-06T09:24:06.276Z"
   },
   {
    "duration": 242,
    "start_time": "2024-11-06T09:24:06.657Z"
   },
   {
    "duration": 258,
    "start_time": "2024-11-06T09:24:06.901Z"
   },
   {
    "duration": 1663,
    "start_time": "2024-11-06T09:24:07.161Z"
   },
   {
    "duration": 6,
    "start_time": "2024-11-06T09:24:08.826Z"
   },
   {
    "duration": 492,
    "start_time": "2024-11-06T09:24:08.842Z"
   },
   {
    "duration": 375,
    "start_time": "2024-11-06T09:27:44.476Z"
   },
   {
    "duration": 676,
    "start_time": "2024-11-06T09:30:15.597Z"
   },
   {
    "duration": 223,
    "start_time": "2024-11-06T09:31:51.822Z"
   },
   {
    "duration": 117,
    "start_time": "2024-11-06T09:32:23.454Z"
   },
   {
    "duration": 685,
    "start_time": "2024-11-06T09:34:08.395Z"
   },
   {
    "duration": 711,
    "start_time": "2024-11-06T09:34:44.970Z"
   },
   {
    "duration": 1343,
    "start_time": "2024-11-06T09:35:46.008Z"
   },
   {
    "duration": 932,
    "start_time": "2024-11-06T09:40:48.154Z"
   },
   {
    "duration": 1369,
    "start_time": "2024-11-06T09:43:28.146Z"
   },
   {
    "duration": 1416,
    "start_time": "2024-11-06T09:45:21.025Z"
   },
   {
    "duration": 870,
    "start_time": "2024-11-06T09:47:16.043Z"
   },
   {
    "duration": 16,
    "start_time": "2024-11-06T09:48:02.809Z"
   },
   {
    "duration": 12,
    "start_time": "2024-11-06T09:49:01.173Z"
   },
   {
    "duration": 11,
    "start_time": "2024-11-06T09:49:23.024Z"
   },
   {
    "duration": 46,
    "start_time": "2024-11-06T09:50:16.008Z"
   },
   {
    "duration": 15,
    "start_time": "2024-11-06T09:50:22.730Z"
   },
   {
    "duration": 15,
    "start_time": "2024-11-06T09:54:27.510Z"
   },
   {
    "duration": 1294,
    "start_time": "2024-11-06T10:00:38.710Z"
   },
   {
    "duration": 4,
    "start_time": "2024-11-06T10:00:40.006Z"
   },
   {
    "duration": 93,
    "start_time": "2024-11-06T10:00:40.012Z"
   },
   {
    "duration": 20,
    "start_time": "2024-11-06T10:00:40.107Z"
   },
   {
    "duration": 26,
    "start_time": "2024-11-06T10:00:40.129Z"
   },
   {
    "duration": 5,
    "start_time": "2024-11-06T10:00:40.156Z"
   },
   {
    "duration": 14,
    "start_time": "2024-11-06T10:00:40.162Z"
   },
   {
    "duration": 75,
    "start_time": "2024-11-06T10:00:40.178Z"
   },
   {
    "duration": 15,
    "start_time": "2024-11-06T10:00:40.255Z"
   },
   {
    "duration": 187,
    "start_time": "2024-11-06T10:00:40.272Z"
   },
   {
    "duration": 0,
    "start_time": "2024-11-06T10:00:40.462Z"
   },
   {
    "duration": 0,
    "start_time": "2024-11-06T10:00:40.463Z"
   },
   {
    "duration": 0,
    "start_time": "2024-11-06T10:00:40.464Z"
   },
   {
    "duration": 1,
    "start_time": "2024-11-06T10:00:40.465Z"
   },
   {
    "duration": 0,
    "start_time": "2024-11-06T10:00:40.466Z"
   },
   {
    "duration": 1,
    "start_time": "2024-11-06T10:00:40.467Z"
   },
   {
    "duration": 0,
    "start_time": "2024-11-06T10:00:40.469Z"
   },
   {
    "duration": 0,
    "start_time": "2024-11-06T10:00:40.470Z"
   },
   {
    "duration": 0,
    "start_time": "2024-11-06T10:00:40.471Z"
   },
   {
    "duration": 0,
    "start_time": "2024-11-06T10:00:40.472Z"
   },
   {
    "duration": 0,
    "start_time": "2024-11-06T10:00:40.473Z"
   },
   {
    "duration": 0,
    "start_time": "2024-11-06T10:00:40.474Z"
   },
   {
    "duration": 0,
    "start_time": "2024-11-06T10:00:40.475Z"
   },
   {
    "duration": 0,
    "start_time": "2024-11-06T10:00:40.476Z"
   },
   {
    "duration": 0,
    "start_time": "2024-11-06T10:00:40.477Z"
   },
   {
    "duration": 0,
    "start_time": "2024-11-06T10:00:40.478Z"
   },
   {
    "duration": 0,
    "start_time": "2024-11-06T10:00:40.479Z"
   },
   {
    "duration": 0,
    "start_time": "2024-11-06T10:00:40.480Z"
   },
   {
    "duration": 0,
    "start_time": "2024-11-06T10:00:40.482Z"
   },
   {
    "duration": 0,
    "start_time": "2024-11-06T10:00:40.521Z"
   },
   {
    "duration": 0,
    "start_time": "2024-11-06T10:00:40.522Z"
   },
   {
    "duration": 1,
    "start_time": "2024-11-06T10:00:40.523Z"
   },
   {
    "duration": 0,
    "start_time": "2024-11-06T10:00:40.524Z"
   },
   {
    "duration": 0,
    "start_time": "2024-11-06T10:00:40.525Z"
   },
   {
    "duration": 0,
    "start_time": "2024-11-06T10:00:40.526Z"
   },
   {
    "duration": 0,
    "start_time": "2024-11-06T10:00:40.527Z"
   },
   {
    "duration": 0,
    "start_time": "2024-11-06T10:00:40.529Z"
   },
   {
    "duration": 0,
    "start_time": "2024-11-06T10:00:40.530Z"
   },
   {
    "duration": 0,
    "start_time": "2024-11-06T10:00:40.532Z"
   },
   {
    "duration": 0,
    "start_time": "2024-11-06T10:00:40.533Z"
   },
   {
    "duration": 0,
    "start_time": "2024-11-06T10:00:40.534Z"
   },
   {
    "duration": 1,
    "start_time": "2024-11-06T10:00:40.535Z"
   },
   {
    "duration": 0,
    "start_time": "2024-11-06T10:00:40.537Z"
   },
   {
    "duration": 0,
    "start_time": "2024-11-06T10:00:40.538Z"
   },
   {
    "duration": 0,
    "start_time": "2024-11-06T10:00:40.540Z"
   },
   {
    "duration": 0,
    "start_time": "2024-11-06T10:00:40.541Z"
   },
   {
    "duration": 0,
    "start_time": "2024-11-06T10:00:40.542Z"
   },
   {
    "duration": 0,
    "start_time": "2024-11-06T10:00:40.543Z"
   },
   {
    "duration": 0,
    "start_time": "2024-11-06T10:00:40.545Z"
   },
   {
    "duration": 0,
    "start_time": "2024-11-06T10:00:40.546Z"
   },
   {
    "duration": 0,
    "start_time": "2024-11-06T10:00:40.547Z"
   },
   {
    "duration": 0,
    "start_time": "2024-11-06T10:00:40.549Z"
   },
   {
    "duration": 0,
    "start_time": "2024-11-06T10:00:40.550Z"
   },
   {
    "duration": 0,
    "start_time": "2024-11-06T10:00:40.551Z"
   },
   {
    "duration": 15,
    "start_time": "2024-11-06T10:01:34.410Z"
   },
   {
    "duration": 15,
    "start_time": "2024-11-06T10:02:25.223Z"
   },
   {
    "duration": 1323,
    "start_time": "2024-11-06T10:03:03.202Z"
   },
   {
    "duration": 4,
    "start_time": "2024-11-06T10:03:04.528Z"
   },
   {
    "duration": 126,
    "start_time": "2024-11-06T10:03:04.533Z"
   },
   {
    "duration": 24,
    "start_time": "2024-11-06T10:03:04.661Z"
   },
   {
    "duration": 21,
    "start_time": "2024-11-06T10:03:04.687Z"
   },
   {
    "duration": 5,
    "start_time": "2024-11-06T10:03:04.709Z"
   },
   {
    "duration": 52,
    "start_time": "2024-11-06T10:03:04.716Z"
   },
   {
    "duration": 52,
    "start_time": "2024-11-06T10:03:04.769Z"
   },
   {
    "duration": 15,
    "start_time": "2024-11-06T10:03:04.823Z"
   },
   {
    "duration": 71,
    "start_time": "2024-11-06T10:03:04.841Z"
   },
   {
    "duration": 12,
    "start_time": "2024-11-06T10:03:04.914Z"
   },
   {
    "duration": 29,
    "start_time": "2024-11-06T10:03:04.928Z"
   },
   {
    "duration": 38,
    "start_time": "2024-11-06T10:03:04.959Z"
   },
   {
    "duration": 6,
    "start_time": "2024-11-06T10:03:04.998Z"
   },
   {
    "duration": 35,
    "start_time": "2024-11-06T10:03:05.006Z"
   },
   {
    "duration": 20,
    "start_time": "2024-11-06T10:03:05.043Z"
   },
   {
    "duration": 36,
    "start_time": "2024-11-06T10:03:05.064Z"
   },
   {
    "duration": 15,
    "start_time": "2024-11-06T10:03:05.102Z"
   },
   {
    "duration": 60,
    "start_time": "2024-11-06T10:03:05.118Z"
   },
   {
    "duration": 37,
    "start_time": "2024-11-06T10:03:05.180Z"
   },
   {
    "duration": 39,
    "start_time": "2024-11-06T10:03:05.219Z"
   },
   {
    "duration": 45,
    "start_time": "2024-11-06T10:03:05.260Z"
   },
   {
    "duration": 51,
    "start_time": "2024-11-06T10:03:05.306Z"
   },
   {
    "duration": 54,
    "start_time": "2024-11-06T10:03:05.359Z"
   },
   {
    "duration": 32,
    "start_time": "2024-11-06T10:03:05.414Z"
   },
   {
    "duration": 38,
    "start_time": "2024-11-06T10:03:05.448Z"
   },
   {
    "duration": 52,
    "start_time": "2024-11-06T10:03:05.488Z"
   },
   {
    "duration": 209,
    "start_time": "2024-11-06T10:03:05.545Z"
   },
   {
    "duration": 5,
    "start_time": "2024-11-06T10:03:05.756Z"
   },
   {
    "duration": 34,
    "start_time": "2024-11-06T10:03:05.762Z"
   },
   {
    "duration": 130,
    "start_time": "2024-11-06T10:03:05.798Z"
   },
   {
    "duration": 124,
    "start_time": "2024-11-06T10:03:05.930Z"
   },
   {
    "duration": 6,
    "start_time": "2024-11-06T10:03:06.056Z"
   },
   {
    "duration": 24,
    "start_time": "2024-11-06T10:03:06.063Z"
   },
   {
    "duration": 55,
    "start_time": "2024-11-06T10:03:06.089Z"
   },
   {
    "duration": 17,
    "start_time": "2024-11-06T10:03:06.146Z"
   },
   {
    "duration": 49,
    "start_time": "2024-11-06T10:03:06.165Z"
   },
   {
    "duration": 561,
    "start_time": "2024-11-06T10:03:06.216Z"
   },
   {
    "duration": 936,
    "start_time": "2024-11-06T10:03:06.779Z"
   },
   {
    "duration": 1412,
    "start_time": "2024-11-06T10:03:07.716Z"
   },
   {
    "duration": 102,
    "start_time": "2024-11-06T10:03:09.130Z"
   },
   {
    "duration": 396,
    "start_time": "2024-11-06T10:03:09.233Z"
   },
   {
    "duration": 384,
    "start_time": "2024-11-06T10:03:09.631Z"
   },
   {
    "duration": 379,
    "start_time": "2024-11-06T10:03:10.016Z"
   },
   {
    "duration": 447,
    "start_time": "2024-11-06T10:03:10.397Z"
   },
   {
    "duration": 456,
    "start_time": "2024-11-06T10:03:10.847Z"
   },
   {
    "duration": 594,
    "start_time": "2024-11-06T10:03:11.305Z"
   },
   {
    "duration": 5,
    "start_time": "2024-11-06T10:03:11.901Z"
   },
   {
    "duration": 300,
    "start_time": "2024-11-06T10:03:11.907Z"
   },
   {
    "duration": 294,
    "start_time": "2024-11-06T10:03:12.209Z"
   },
   {
    "duration": 254,
    "start_time": "2024-11-06T10:03:12.505Z"
   },
   {
    "duration": 295,
    "start_time": "2024-11-06T10:03:12.761Z"
   },
   {
    "duration": 1767,
    "start_time": "2024-11-06T10:03:13.058Z"
   },
   {
    "duration": 5,
    "start_time": "2024-11-06T10:03:14.827Z"
   },
   {
    "duration": 758,
    "start_time": "2024-11-06T10:04:00.597Z"
   },
   {
    "duration": 829,
    "start_time": "2024-11-06T10:04:18.859Z"
   },
   {
    "duration": 1447,
    "start_time": "2024-11-06T10:04:38.227Z"
   },
   {
    "duration": 1463,
    "start_time": "2024-11-06T10:06:07.295Z"
   },
   {
    "duration": 692,
    "start_time": "2024-11-06T10:06:35.337Z"
   },
   {
    "duration": 20,
    "start_time": "2024-11-06T10:08:18.869Z"
   },
   {
    "duration": 10,
    "start_time": "2024-11-06T10:08:32.479Z"
   },
   {
    "duration": 1218,
    "start_time": "2024-11-06T10:08:45.488Z"
   },
   {
    "duration": 4,
    "start_time": "2024-11-06T10:08:46.707Z"
   },
   {
    "duration": 70,
    "start_time": "2024-11-06T10:08:46.713Z"
   },
   {
    "duration": 19,
    "start_time": "2024-11-06T10:08:46.786Z"
   },
   {
    "duration": 13,
    "start_time": "2024-11-06T10:08:46.807Z"
   },
   {
    "duration": 4,
    "start_time": "2024-11-06T10:08:46.822Z"
   },
   {
    "duration": 7,
    "start_time": "2024-11-06T10:08:46.827Z"
   },
   {
    "duration": 68,
    "start_time": "2024-11-06T10:08:46.836Z"
   },
   {
    "duration": 24,
    "start_time": "2024-11-06T10:08:46.906Z"
   },
   {
    "duration": 117,
    "start_time": "2024-11-06T10:08:46.933Z"
   },
   {
    "duration": 0,
    "start_time": "2024-11-06T10:08:47.053Z"
   },
   {
    "duration": 0,
    "start_time": "2024-11-06T10:08:47.055Z"
   },
   {
    "duration": 0,
    "start_time": "2024-11-06T10:08:47.056Z"
   },
   {
    "duration": 0,
    "start_time": "2024-11-06T10:08:47.057Z"
   },
   {
    "duration": 0,
    "start_time": "2024-11-06T10:08:47.057Z"
   },
   {
    "duration": 1,
    "start_time": "2024-11-06T10:08:47.058Z"
   },
   {
    "duration": 0,
    "start_time": "2024-11-06T10:08:47.060Z"
   },
   {
    "duration": 0,
    "start_time": "2024-11-06T10:08:47.061Z"
   },
   {
    "duration": 0,
    "start_time": "2024-11-06T10:08:47.062Z"
   },
   {
    "duration": 0,
    "start_time": "2024-11-06T10:08:47.063Z"
   },
   {
    "duration": 0,
    "start_time": "2024-11-06T10:08:47.064Z"
   },
   {
    "duration": 0,
    "start_time": "2024-11-06T10:08:47.065Z"
   },
   {
    "duration": 0,
    "start_time": "2024-11-06T10:08:47.066Z"
   },
   {
    "duration": 0,
    "start_time": "2024-11-06T10:08:47.068Z"
   },
   {
    "duration": 0,
    "start_time": "2024-11-06T10:08:47.068Z"
   },
   {
    "duration": 0,
    "start_time": "2024-11-06T10:08:47.069Z"
   },
   {
    "duration": 0,
    "start_time": "2024-11-06T10:08:47.070Z"
   },
   {
    "duration": 0,
    "start_time": "2024-11-06T10:08:47.072Z"
   },
   {
    "duration": 0,
    "start_time": "2024-11-06T10:08:47.073Z"
   },
   {
    "duration": 0,
    "start_time": "2024-11-06T10:08:47.074Z"
   },
   {
    "duration": 0,
    "start_time": "2024-11-06T10:08:47.075Z"
   },
   {
    "duration": 0,
    "start_time": "2024-11-06T10:08:47.076Z"
   },
   {
    "duration": 0,
    "start_time": "2024-11-06T10:08:47.077Z"
   },
   {
    "duration": 0,
    "start_time": "2024-11-06T10:08:47.078Z"
   },
   {
    "duration": 1,
    "start_time": "2024-11-06T10:08:47.079Z"
   },
   {
    "duration": 0,
    "start_time": "2024-11-06T10:08:47.120Z"
   },
   {
    "duration": 0,
    "start_time": "2024-11-06T10:08:47.121Z"
   },
   {
    "duration": 0,
    "start_time": "2024-11-06T10:08:47.122Z"
   },
   {
    "duration": 0,
    "start_time": "2024-11-06T10:08:47.123Z"
   },
   {
    "duration": 0,
    "start_time": "2024-11-06T10:08:47.124Z"
   },
   {
    "duration": 0,
    "start_time": "2024-11-06T10:08:47.125Z"
   },
   {
    "duration": 0,
    "start_time": "2024-11-06T10:08:47.127Z"
   },
   {
    "duration": 0,
    "start_time": "2024-11-06T10:08:47.128Z"
   },
   {
    "duration": 0,
    "start_time": "2024-11-06T10:08:47.129Z"
   },
   {
    "duration": 0,
    "start_time": "2024-11-06T10:08:47.130Z"
   },
   {
    "duration": 0,
    "start_time": "2024-11-06T10:08:47.131Z"
   },
   {
    "duration": 0,
    "start_time": "2024-11-06T10:08:47.132Z"
   },
   {
    "duration": 0,
    "start_time": "2024-11-06T10:08:47.133Z"
   },
   {
    "duration": 0,
    "start_time": "2024-11-06T10:08:47.134Z"
   },
   {
    "duration": 0,
    "start_time": "2024-11-06T10:08:47.135Z"
   },
   {
    "duration": 0,
    "start_time": "2024-11-06T10:08:47.136Z"
   },
   {
    "duration": 0,
    "start_time": "2024-11-06T10:08:47.137Z"
   },
   {
    "duration": 0,
    "start_time": "2024-11-06T10:08:47.138Z"
   },
   {
    "duration": 0,
    "start_time": "2024-11-06T10:08:47.139Z"
   },
   {
    "duration": 1288,
    "start_time": "2024-11-06T10:11:16.941Z"
   },
   {
    "duration": 4,
    "start_time": "2024-11-06T10:11:18.230Z"
   },
   {
    "duration": 68,
    "start_time": "2024-11-06T10:11:18.236Z"
   },
   {
    "duration": 18,
    "start_time": "2024-11-06T10:11:18.306Z"
   },
   {
    "duration": 56,
    "start_time": "2024-11-06T10:11:18.326Z"
   },
   {
    "duration": 4,
    "start_time": "2024-11-06T10:11:18.383Z"
   },
   {
    "duration": 19,
    "start_time": "2024-11-06T10:11:18.389Z"
   },
   {
    "duration": 39,
    "start_time": "2024-11-06T10:11:18.410Z"
   },
   {
    "duration": 14,
    "start_time": "2024-11-06T10:11:18.451Z"
   },
   {
    "duration": 18,
    "start_time": "2024-11-06T10:11:18.469Z"
   },
   {
    "duration": 10,
    "start_time": "2024-11-06T10:11:18.489Z"
   },
   {
    "duration": 23,
    "start_time": "2024-11-06T10:11:18.501Z"
   },
   {
    "duration": 25,
    "start_time": "2024-11-06T10:11:18.525Z"
   },
   {
    "duration": 6,
    "start_time": "2024-11-06T10:11:18.552Z"
   },
   {
    "duration": 8,
    "start_time": "2024-11-06T10:11:18.560Z"
   },
   {
    "duration": 7,
    "start_time": "2024-11-06T10:11:18.569Z"
   },
   {
    "duration": 44,
    "start_time": "2024-11-06T10:11:18.578Z"
   },
   {
    "duration": 7,
    "start_time": "2024-11-06T10:11:18.623Z"
   },
   {
    "duration": 66,
    "start_time": "2024-11-06T10:11:18.631Z"
   },
   {
    "duration": 43,
    "start_time": "2024-11-06T10:11:18.699Z"
   },
   {
    "duration": 13,
    "start_time": "2024-11-06T10:11:18.743Z"
   },
   {
    "duration": 5,
    "start_time": "2024-11-06T10:11:18.758Z"
   },
   {
    "duration": 9,
    "start_time": "2024-11-06T10:11:18.765Z"
   },
   {
    "duration": 51,
    "start_time": "2024-11-06T10:11:18.776Z"
   },
   {
    "duration": 28,
    "start_time": "2024-11-06T10:11:18.829Z"
   },
   {
    "duration": 51,
    "start_time": "2024-11-06T10:11:18.859Z"
   },
   {
    "duration": 31,
    "start_time": "2024-11-06T10:11:18.912Z"
   },
   {
    "duration": 5,
    "start_time": "2024-11-06T10:11:18.948Z"
   },
   {
    "duration": 140,
    "start_time": "2024-11-06T10:11:18.955Z"
   },
   {
    "duration": 5,
    "start_time": "2024-11-06T10:11:19.097Z"
   },
   {
    "duration": 19,
    "start_time": "2024-11-06T10:11:19.103Z"
   },
   {
    "duration": 131,
    "start_time": "2024-11-06T10:11:19.123Z"
   },
   {
    "duration": 141,
    "start_time": "2024-11-06T10:11:19.256Z"
   },
   {
    "duration": 6,
    "start_time": "2024-11-06T10:11:19.398Z"
   },
   {
    "duration": 16,
    "start_time": "2024-11-06T10:11:19.405Z"
   },
   {
    "duration": 30,
    "start_time": "2024-11-06T10:11:19.423Z"
   },
   {
    "duration": 3,
    "start_time": "2024-11-06T10:11:19.455Z"
   },
   {
    "duration": 32,
    "start_time": "2024-11-06T10:11:19.460Z"
   },
   {
    "duration": 424,
    "start_time": "2024-11-06T10:11:19.493Z"
   },
   {
    "duration": 607,
    "start_time": "2024-11-06T10:11:19.919Z"
   },
   {
    "duration": 1307,
    "start_time": "2024-11-06T10:11:20.527Z"
   },
   {
    "duration": 5,
    "start_time": "2024-11-06T10:11:21.836Z"
   },
   {
    "duration": 468,
    "start_time": "2024-11-06T10:11:21.843Z"
   },
   {
    "duration": 369,
    "start_time": "2024-11-06T10:11:22.312Z"
   },
   {
    "duration": 345,
    "start_time": "2024-11-06T10:11:22.683Z"
   },
   {
    "duration": 403,
    "start_time": "2024-11-06T10:11:23.029Z"
   },
   {
    "duration": 438,
    "start_time": "2024-11-06T10:11:23.433Z"
   },
   {
    "duration": 561,
    "start_time": "2024-11-06T10:11:23.873Z"
   },
   {
    "duration": 5,
    "start_time": "2024-11-06T10:11:24.435Z"
   },
   {
    "duration": 273,
    "start_time": "2024-11-06T10:11:24.442Z"
   },
   {
    "duration": 263,
    "start_time": "2024-11-06T10:11:24.721Z"
   },
   {
    "duration": 251,
    "start_time": "2024-11-06T10:11:24.985Z"
   },
   {
    "duration": 269,
    "start_time": "2024-11-06T10:11:25.238Z"
   },
   {
    "duration": 1690,
    "start_time": "2024-11-06T10:11:25.508Z"
   },
   {
    "duration": 5,
    "start_time": "2024-11-06T10:11:27.200Z"
   },
   {
    "duration": 1341,
    "start_time": "2024-11-06T10:11:42.598Z"
   },
   {
    "duration": 1611,
    "start_time": "2024-11-06T10:40:41.101Z"
   },
   {
    "duration": 14,
    "start_time": "2024-11-06T13:52:52.394Z"
   },
   {
    "duration": 113,
    "start_time": "2024-11-06T14:07:39.147Z"
   },
   {
    "duration": 9,
    "start_time": "2024-11-06T14:09:54.477Z"
   },
   {
    "duration": 4,
    "start_time": "2024-11-06T14:11:12.940Z"
   },
   {
    "duration": 9,
    "start_time": "2024-11-06T14:11:31.823Z"
   },
   {
    "duration": 11,
    "start_time": "2024-11-06T14:11:53.365Z"
   },
   {
    "duration": 8,
    "start_time": "2024-11-06T14:12:15.599Z"
   },
   {
    "duration": 12,
    "start_time": "2024-11-06T14:12:19.023Z"
   },
   {
    "duration": 7,
    "start_time": "2024-11-06T14:13:58.302Z"
   },
   {
    "duration": 6,
    "start_time": "2024-11-06T14:14:04.765Z"
   },
   {
    "duration": 4,
    "start_time": "2024-11-06T14:14:38.723Z"
   },
   {
    "duration": 6,
    "start_time": "2024-11-06T14:18:26.771Z"
   },
   {
    "duration": 7,
    "start_time": "2024-11-06T14:21:07.198Z"
   },
   {
    "duration": 10,
    "start_time": "2024-11-06T14:21:27.819Z"
   },
   {
    "duration": 4,
    "start_time": "2024-11-06T14:21:38.816Z"
   },
   {
    "duration": 8,
    "start_time": "2024-11-06T14:23:16.726Z"
   },
   {
    "duration": 9,
    "start_time": "2024-11-06T14:23:32.690Z"
   },
   {
    "duration": 7,
    "start_time": "2024-11-06T14:26:35.803Z"
   },
   {
    "duration": 5,
    "start_time": "2024-11-06T14:28:09.315Z"
   },
   {
    "duration": 5,
    "start_time": "2024-11-06T14:44:44.601Z"
   },
   {
    "duration": 8,
    "start_time": "2024-11-06T14:46:04.271Z"
   },
   {
    "duration": 4,
    "start_time": "2024-11-06T14:46:17.534Z"
   },
   {
    "duration": 6,
    "start_time": "2024-11-06T14:50:56.789Z"
   },
   {
    "duration": 5,
    "start_time": "2024-11-06T14:51:11.089Z"
   },
   {
    "duration": 1200,
    "start_time": "2024-11-06T14:58:05.826Z"
   },
   {
    "duration": 3,
    "start_time": "2024-11-06T14:58:07.029Z"
   },
   {
    "duration": 85,
    "start_time": "2024-11-06T14:58:07.033Z"
   },
   {
    "duration": 18,
    "start_time": "2024-11-06T14:58:07.119Z"
   },
   {
    "duration": 48,
    "start_time": "2024-11-06T14:58:07.139Z"
   },
   {
    "duration": 16,
    "start_time": "2024-11-06T14:58:07.189Z"
   },
   {
    "duration": 20,
    "start_time": "2024-11-06T14:58:07.206Z"
   },
   {
    "duration": 62,
    "start_time": "2024-11-06T14:58:07.228Z"
   },
   {
    "duration": 20,
    "start_time": "2024-11-06T14:58:07.292Z"
   },
   {
    "duration": 23,
    "start_time": "2024-11-06T14:58:07.314Z"
   },
   {
    "duration": 21,
    "start_time": "2024-11-06T14:58:07.339Z"
   },
   {
    "duration": 23,
    "start_time": "2024-11-06T14:58:07.362Z"
   },
   {
    "duration": 55,
    "start_time": "2024-11-06T14:58:07.386Z"
   },
   {
    "duration": 9,
    "start_time": "2024-11-06T14:58:07.444Z"
   },
   {
    "duration": 28,
    "start_time": "2024-11-06T14:58:07.455Z"
   },
   {
    "duration": 34,
    "start_time": "2024-11-06T14:58:07.485Z"
   },
   {
    "duration": 28,
    "start_time": "2024-11-06T14:58:07.521Z"
   },
   {
    "duration": 35,
    "start_time": "2024-11-06T14:58:07.551Z"
   },
   {
    "duration": 30,
    "start_time": "2024-11-06T14:58:07.587Z"
   },
   {
    "duration": 25,
    "start_time": "2024-11-06T14:58:07.618Z"
   },
   {
    "duration": 26,
    "start_time": "2024-11-06T14:58:07.645Z"
   },
   {
    "duration": 17,
    "start_time": "2024-11-06T14:58:07.673Z"
   },
   {
    "duration": 41,
    "start_time": "2024-11-06T14:58:07.691Z"
   },
   {
    "duration": 55,
    "start_time": "2024-11-06T14:58:07.733Z"
   },
   {
    "duration": 40,
    "start_time": "2024-11-06T14:58:07.790Z"
   },
   {
    "duration": 30,
    "start_time": "2024-11-06T14:58:07.831Z"
   },
   {
    "duration": 17,
    "start_time": "2024-11-06T14:58:07.862Z"
   },
   {
    "duration": 28,
    "start_time": "2024-11-06T14:58:07.880Z"
   },
   {
    "duration": 154,
    "start_time": "2024-11-06T14:58:07.909Z"
   },
   {
    "duration": 6,
    "start_time": "2024-11-06T14:58:08.064Z"
   },
   {
    "duration": 26,
    "start_time": "2024-11-06T14:58:08.072Z"
   },
   {
    "duration": 134,
    "start_time": "2024-11-06T14:58:08.099Z"
   },
   {
    "duration": 121,
    "start_time": "2024-11-06T14:58:08.235Z"
   },
   {
    "duration": 5,
    "start_time": "2024-11-06T14:58:08.357Z"
   },
   {
    "duration": 25,
    "start_time": "2024-11-06T14:58:08.364Z"
   },
   {
    "duration": 50,
    "start_time": "2024-11-06T14:58:08.390Z"
   },
   {
    "duration": 5,
    "start_time": "2024-11-06T14:58:08.442Z"
   },
   {
    "duration": 41,
    "start_time": "2024-11-06T14:58:08.449Z"
   },
   {
    "duration": 431,
    "start_time": "2024-11-06T14:58:08.491Z"
   },
   {
    "duration": 589,
    "start_time": "2024-11-06T14:58:08.924Z"
   },
   {
    "duration": 1277,
    "start_time": "2024-11-06T14:58:09.521Z"
   },
   {
    "duration": 6,
    "start_time": "2024-11-06T14:58:10.799Z"
   },
   {
    "duration": 474,
    "start_time": "2024-11-06T14:58:10.806Z"
   },
   {
    "duration": 377,
    "start_time": "2024-11-06T14:58:11.282Z"
   },
   {
    "duration": 339,
    "start_time": "2024-11-06T14:58:11.660Z"
   },
   {
    "duration": 379,
    "start_time": "2024-11-06T14:58:12.001Z"
   },
   {
    "duration": 403,
    "start_time": "2024-11-06T14:58:12.382Z"
   },
   {
    "duration": 559,
    "start_time": "2024-11-06T14:58:12.786Z"
   },
   {
    "duration": 5,
    "start_time": "2024-11-06T14:58:13.346Z"
   },
   {
    "duration": 270,
    "start_time": "2024-11-06T14:58:13.352Z"
   },
   {
    "duration": 273,
    "start_time": "2024-11-06T14:58:13.623Z"
   },
   {
    "duration": 237,
    "start_time": "2024-11-06T14:58:13.897Z"
   },
   {
    "duration": 255,
    "start_time": "2024-11-06T14:58:14.136Z"
   },
   {
    "duration": 1729,
    "start_time": "2024-11-06T14:58:14.392Z"
   },
   {
    "duration": 6,
    "start_time": "2024-11-06T14:58:16.123Z"
   },
   {
    "duration": 66,
    "start_time": "2024-11-06T14:58:16.131Z"
   },
   {
    "duration": 25,
    "start_time": "2024-11-06T14:58:16.199Z"
   },
   {
    "duration": 33,
    "start_time": "2024-11-06T14:58:16.226Z"
   },
   {
    "duration": 21,
    "start_time": "2024-11-06T14:58:16.260Z"
   },
   {
    "duration": 29,
    "start_time": "2024-11-06T14:58:16.282Z"
   },
   {
    "duration": 25,
    "start_time": "2024-11-06T14:58:16.313Z"
   },
   {
    "duration": 15,
    "start_time": "2024-11-06T14:58:16.340Z"
   },
   {
    "duration": 17,
    "start_time": "2024-11-06T15:11:18.948Z"
   },
   {
    "duration": 18,
    "start_time": "2024-11-06T15:13:13.741Z"
   },
   {
    "duration": 99,
    "start_time": "2024-11-06T15:14:17.411Z"
   },
   {
    "duration": 7,
    "start_time": "2024-11-06T15:14:43.668Z"
   },
   {
    "duration": 8,
    "start_time": "2024-11-06T15:15:32.054Z"
   },
   {
    "duration": 51,
    "start_time": "2024-11-06T15:16:41.913Z"
   },
   {
    "duration": 6,
    "start_time": "2024-11-06T15:16:55.903Z"
   },
   {
    "duration": 11,
    "start_time": "2024-11-06T15:27:56.965Z"
   },
   {
    "duration": 10,
    "start_time": "2024-11-06T15:28:18.004Z"
   },
   {
    "duration": 18,
    "start_time": "2024-11-06T15:28:44.034Z"
   },
   {
    "duration": 21,
    "start_time": "2024-11-06T15:29:29.954Z"
   },
   {
    "duration": 28,
    "start_time": "2024-11-06T15:30:05.202Z"
   },
   {
    "duration": 31,
    "start_time": "2024-11-06T15:31:06.069Z"
   },
   {
    "duration": 26,
    "start_time": "2024-11-06T15:31:28.977Z"
   },
   {
    "duration": 24,
    "start_time": "2024-11-06T15:32:11.865Z"
   },
   {
    "duration": 31,
    "start_time": "2024-11-06T15:33:17.522Z"
   },
   {
    "duration": 29,
    "start_time": "2024-11-06T15:34:07.073Z"
   },
   {
    "duration": 9,
    "start_time": "2024-11-06T15:36:02.363Z"
   },
   {
    "duration": 32,
    "start_time": "2024-11-06T15:37:24.774Z"
   },
   {
    "duration": 24,
    "start_time": "2024-11-06T15:37:59.130Z"
   },
   {
    "duration": 23,
    "start_time": "2024-11-06T15:38:29.482Z"
   },
   {
    "duration": 5,
    "start_time": "2024-11-06T15:41:31.989Z"
   },
   {
    "duration": 5,
    "start_time": "2024-11-06T15:41:59.589Z"
   },
   {
    "duration": 26,
    "start_time": "2024-11-06T15:45:58.275Z"
   },
   {
    "duration": 6,
    "start_time": "2024-11-06T15:46:50.103Z"
   },
   {
    "duration": 27,
    "start_time": "2024-11-06T15:49:24.444Z"
   },
   {
    "duration": 4,
    "start_time": "2024-11-06T15:49:57.702Z"
   },
   {
    "duration": 5,
    "start_time": "2024-11-06T15:50:15.595Z"
   },
   {
    "duration": 28,
    "start_time": "2024-11-06T15:54:28.723Z"
   },
   {
    "duration": 25,
    "start_time": "2024-11-06T15:58:23.119Z"
   },
   {
    "duration": 23,
    "start_time": "2024-11-06T16:01:26.560Z"
   },
   {
    "duration": 5,
    "start_time": "2024-11-06T16:02:19.850Z"
   },
   {
    "duration": 4,
    "start_time": "2024-11-06T16:02:46.638Z"
   },
   {
    "duration": 6,
    "start_time": "2024-11-06T16:03:06.183Z"
   },
   {
    "duration": 27,
    "start_time": "2024-11-06T16:05:32.324Z"
   },
   {
    "duration": 5,
    "start_time": "2024-11-06T16:06:15.637Z"
   },
   {
    "duration": 23,
    "start_time": "2024-11-06T16:08:19.420Z"
   },
   {
    "duration": 5,
    "start_time": "2024-11-06T16:08:44.876Z"
   },
   {
    "duration": 10,
    "start_time": "2024-11-06T16:16:07.559Z"
   },
   {
    "duration": 10,
    "start_time": "2024-11-06T16:16:55.282Z"
   },
   {
    "duration": 1162,
    "start_time": "2024-11-06T16:18:58.444Z"
   },
   {
    "duration": 3,
    "start_time": "2024-11-06T16:18:59.608Z"
   },
   {
    "duration": 93,
    "start_time": "2024-11-06T16:18:59.612Z"
   },
   {
    "duration": 18,
    "start_time": "2024-11-06T16:18:59.706Z"
   },
   {
    "duration": 17,
    "start_time": "2024-11-06T16:18:59.725Z"
   },
   {
    "duration": 5,
    "start_time": "2024-11-06T16:18:59.744Z"
   },
   {
    "duration": 26,
    "start_time": "2024-11-06T16:18:59.751Z"
   },
   {
    "duration": 47,
    "start_time": "2024-11-06T16:18:59.779Z"
   },
   {
    "duration": 13,
    "start_time": "2024-11-06T16:18:59.827Z"
   },
   {
    "duration": 14,
    "start_time": "2024-11-06T16:18:59.844Z"
   },
   {
    "duration": 10,
    "start_time": "2024-11-06T16:18:59.859Z"
   },
   {
    "duration": 5,
    "start_time": "2024-11-06T16:18:59.870Z"
   },
   {
    "duration": 51,
    "start_time": "2024-11-06T16:18:59.877Z"
   },
   {
    "duration": 6,
    "start_time": "2024-11-06T16:18:59.930Z"
   },
   {
    "duration": 13,
    "start_time": "2024-11-06T16:18:59.937Z"
   },
   {
    "duration": 13,
    "start_time": "2024-11-06T16:18:59.951Z"
   },
   {
    "duration": 16,
    "start_time": "2024-11-06T16:18:59.965Z"
   },
   {
    "duration": 30,
    "start_time": "2024-11-06T16:18:59.982Z"
   },
   {
    "duration": 20,
    "start_time": "2024-11-06T16:19:00.014Z"
   },
   {
    "duration": 44,
    "start_time": "2024-11-06T16:19:00.036Z"
   },
   {
    "duration": 24,
    "start_time": "2024-11-06T16:19:00.082Z"
   },
   {
    "duration": 15,
    "start_time": "2024-11-06T16:19:00.108Z"
   },
   {
    "duration": 26,
    "start_time": "2024-11-06T16:19:00.125Z"
   },
   {
    "duration": 71,
    "start_time": "2024-11-06T16:19:00.153Z"
   },
   {
    "duration": 41,
    "start_time": "2024-11-06T16:19:00.226Z"
   },
   {
    "duration": 30,
    "start_time": "2024-11-06T16:19:00.268Z"
   },
   {
    "duration": 18,
    "start_time": "2024-11-06T16:19:00.299Z"
   },
   {
    "duration": 27,
    "start_time": "2024-11-06T16:19:00.322Z"
   },
   {
    "duration": 183,
    "start_time": "2024-11-06T16:19:00.351Z"
   },
   {
    "duration": 5,
    "start_time": "2024-11-06T16:19:00.536Z"
   },
   {
    "duration": 44,
    "start_time": "2024-11-06T16:19:00.542Z"
   },
   {
    "duration": 134,
    "start_time": "2024-11-06T16:19:00.587Z"
   },
   {
    "duration": 122,
    "start_time": "2024-11-06T16:19:00.722Z"
   },
   {
    "duration": 5,
    "start_time": "2024-11-06T16:19:00.845Z"
   },
   {
    "duration": 12,
    "start_time": "2024-11-06T16:19:00.852Z"
   },
   {
    "duration": 22,
    "start_time": "2024-11-06T16:19:00.865Z"
   },
   {
    "duration": 4,
    "start_time": "2024-11-06T16:19:00.888Z"
   },
   {
    "duration": 40,
    "start_time": "2024-11-06T16:19:00.893Z"
   },
   {
    "duration": 415,
    "start_time": "2024-11-06T16:19:00.934Z"
   },
   {
    "duration": 567,
    "start_time": "2024-11-06T16:19:01.351Z"
   },
   {
    "duration": 1265,
    "start_time": "2024-11-06T16:19:01.921Z"
   },
   {
    "duration": 5,
    "start_time": "2024-11-06T16:19:03.188Z"
   },
   {
    "duration": 505,
    "start_time": "2024-11-06T16:19:03.194Z"
   },
   {
    "duration": 363,
    "start_time": "2024-11-06T16:19:03.701Z"
   },
   {
    "duration": 328,
    "start_time": "2024-11-06T16:19:04.066Z"
   },
   {
    "duration": 377,
    "start_time": "2024-11-06T16:19:04.395Z"
   },
   {
    "duration": 383,
    "start_time": "2024-11-06T16:19:04.774Z"
   },
   {
    "duration": 556,
    "start_time": "2024-11-06T16:19:05.159Z"
   },
   {
    "duration": 5,
    "start_time": "2024-11-06T16:19:05.720Z"
   },
   {
    "duration": 288,
    "start_time": "2024-11-06T16:19:05.727Z"
   },
   {
    "duration": 254,
    "start_time": "2024-11-06T16:19:06.020Z"
   },
   {
    "duration": 229,
    "start_time": "2024-11-06T16:19:06.276Z"
   },
   {
    "duration": 254,
    "start_time": "2024-11-06T16:19:06.507Z"
   },
   {
    "duration": 1686,
    "start_time": "2024-11-06T16:19:06.763Z"
   },
   {
    "duration": 8,
    "start_time": "2024-11-06T16:19:08.451Z"
   },
   {
    "duration": 54,
    "start_time": "2024-11-06T16:19:08.460Z"
   },
   {
    "duration": 46,
    "start_time": "2024-11-06T16:19:08.515Z"
   },
   {
    "duration": 24,
    "start_time": "2024-11-06T16:19:08.563Z"
   },
   {
    "duration": 17,
    "start_time": "2024-11-06T16:19:08.589Z"
   },
   {
    "duration": 6,
    "start_time": "2024-11-06T16:19:08.607Z"
   },
   {
    "duration": 8,
    "start_time": "2024-11-06T16:19:08.615Z"
   },
   {
    "duration": 10,
    "start_time": "2024-11-06T16:19:08.625Z"
   },
   {
    "duration": 8,
    "start_time": "2024-11-06T16:19:08.636Z"
   },
   {
    "duration": 7,
    "start_time": "2024-11-06T16:19:08.645Z"
   },
   {
    "duration": 5,
    "start_time": "2024-11-06T16:19:08.654Z"
   },
   {
    "duration": 29,
    "start_time": "2024-11-06T16:19:08.661Z"
   },
   {
    "duration": 4,
    "start_time": "2024-11-06T16:19:08.692Z"
   },
   {
    "duration": 24,
    "start_time": "2024-11-06T16:19:08.721Z"
   },
   {
    "duration": 5,
    "start_time": "2024-11-06T16:19:08.746Z"
   },
   {
    "duration": 33,
    "start_time": "2024-11-06T16:19:08.752Z"
   },
   {
    "duration": 5,
    "start_time": "2024-11-06T16:19:08.786Z"
   },
   {
    "duration": 41,
    "start_time": "2024-11-06T16:19:08.792Z"
   },
   {
    "duration": 4,
    "start_time": "2024-11-06T16:19:08.835Z"
   },
   {
    "duration": 35,
    "start_time": "2024-11-06T16:19:08.841Z"
   },
   {
    "duration": 5,
    "start_time": "2024-11-06T16:19:08.877Z"
   },
   {
    "duration": 46,
    "start_time": "2024-11-06T16:19:08.883Z"
   },
   {
    "duration": 5,
    "start_time": "2024-11-06T16:19:08.930Z"
   },
   {
    "duration": 32,
    "start_time": "2024-11-06T16:19:08.937Z"
   },
   {
    "duration": 5,
    "start_time": "2024-11-06T16:19:08.970Z"
   },
   {
    "duration": 27,
    "start_time": "2024-11-06T16:19:08.976Z"
   },
   {
    "duration": 19,
    "start_time": "2024-11-06T16:19:09.004Z"
   },
   {
    "duration": 10,
    "start_time": "2024-11-06T16:19:09.028Z"
   },
   {
    "duration": 12,
    "start_time": "2024-11-06T16:19:23.232Z"
   },
   {
    "duration": 13,
    "start_time": "2024-11-06T16:23:09.013Z"
   },
   {
    "duration": 14,
    "start_time": "2024-11-06T16:23:28.611Z"
   },
   {
    "duration": 106,
    "start_time": "2024-11-06T16:25:22.133Z"
   },
   {
    "duration": 13,
    "start_time": "2024-11-06T16:25:52.239Z"
   },
   {
    "duration": 14,
    "start_time": "2024-11-06T16:26:25.853Z"
   },
   {
    "duration": 16,
    "start_time": "2024-11-06T16:27:32.352Z"
   },
   {
    "duration": 115,
    "start_time": "2024-11-06T16:29:11.950Z"
   },
   {
    "duration": 13,
    "start_time": "2024-11-06T16:30:01.233Z"
   },
   {
    "duration": 146,
    "start_time": "2024-11-06T16:30:54.903Z"
   },
   {
    "duration": 504,
    "start_time": "2024-11-06T16:31:28.323Z"
   },
   {
    "duration": 533,
    "start_time": "2024-11-06T16:32:17.008Z"
   },
   {
    "duration": 525,
    "start_time": "2024-11-06T16:32:38.095Z"
   },
   {
    "duration": 15,
    "start_time": "2024-11-06T16:33:42.543Z"
   },
   {
    "duration": 14,
    "start_time": "2024-11-06T16:34:53.016Z"
   },
   {
    "duration": 556,
    "start_time": "2024-11-06T16:34:57.218Z"
   },
   {
    "duration": 22,
    "start_time": "2024-11-06T16:37:19.970Z"
   },
   {
    "duration": 6,
    "start_time": "2024-11-06T16:37:51.809Z"
   },
   {
    "duration": 5,
    "start_time": "2024-11-06T16:38:00.278Z"
   },
   {
    "duration": 7,
    "start_time": "2024-11-06T16:38:13.371Z"
   },
   {
    "duration": 7,
    "start_time": "2024-11-06T16:39:00.432Z"
   },
   {
    "duration": 5,
    "start_time": "2024-11-06T16:40:01.427Z"
   },
   {
    "duration": 7,
    "start_time": "2024-11-06T16:40:10.574Z"
   },
   {
    "duration": 6,
    "start_time": "2024-11-06T16:40:35.754Z"
   },
   {
    "duration": 8,
    "start_time": "2024-11-06T16:40:42.561Z"
   },
   {
    "duration": 4,
    "start_time": "2024-11-06T16:41:06.542Z"
   },
   {
    "duration": 6,
    "start_time": "2024-11-06T16:41:21.293Z"
   },
   {
    "duration": 4,
    "start_time": "2024-11-06T16:41:46.704Z"
   },
   {
    "duration": 7,
    "start_time": "2024-11-06T16:41:58.381Z"
   },
   {
    "duration": 5,
    "start_time": "2024-11-06T16:42:26.707Z"
   },
   {
    "duration": 7,
    "start_time": "2024-11-06T16:42:36.639Z"
   },
   {
    "duration": 117,
    "start_time": "2024-11-06T16:45:54.447Z"
   },
   {
    "duration": 1184,
    "start_time": "2024-11-06T17:34:39.923Z"
   },
   {
    "duration": 3,
    "start_time": "2024-11-06T17:34:41.109Z"
   },
   {
    "duration": 116,
    "start_time": "2024-11-06T17:34:41.114Z"
   },
   {
    "duration": 18,
    "start_time": "2024-11-06T17:34:41.231Z"
   },
   {
    "duration": 73,
    "start_time": "2024-11-06T17:34:41.251Z"
   },
   {
    "duration": 11,
    "start_time": "2024-11-06T17:34:41.326Z"
   },
   {
    "duration": 5,
    "start_time": "2024-11-06T17:34:41.338Z"
   },
   {
    "duration": 38,
    "start_time": "2024-11-06T17:34:41.345Z"
   },
   {
    "duration": 13,
    "start_time": "2024-11-06T17:34:41.384Z"
   },
   {
    "duration": 33,
    "start_time": "2024-11-06T17:34:41.399Z"
   },
   {
    "duration": 9,
    "start_time": "2024-11-06T17:34:41.434Z"
   },
   {
    "duration": 5,
    "start_time": "2024-11-06T17:34:41.445Z"
   },
   {
    "duration": 21,
    "start_time": "2024-11-06T17:34:41.451Z"
   },
   {
    "duration": 5,
    "start_time": "2024-11-06T17:34:41.474Z"
   },
   {
    "duration": 6,
    "start_time": "2024-11-06T17:34:41.480Z"
   },
   {
    "duration": 35,
    "start_time": "2024-11-06T17:34:41.487Z"
   },
   {
    "duration": 22,
    "start_time": "2024-11-06T17:34:41.524Z"
   },
   {
    "duration": 6,
    "start_time": "2024-11-06T17:34:41.547Z"
   },
   {
    "duration": 13,
    "start_time": "2024-11-06T17:34:41.554Z"
   },
   {
    "duration": 41,
    "start_time": "2024-11-06T17:34:41.569Z"
   },
   {
    "duration": 52,
    "start_time": "2024-11-06T17:34:41.612Z"
   },
   {
    "duration": 5,
    "start_time": "2024-11-06T17:34:41.665Z"
   },
   {
    "duration": 8,
    "start_time": "2024-11-06T17:34:41.672Z"
   },
   {
    "duration": 32,
    "start_time": "2024-11-06T17:34:41.681Z"
   },
   {
    "duration": 25,
    "start_time": "2024-11-06T17:34:41.714Z"
   },
   {
    "duration": 26,
    "start_time": "2024-11-06T17:34:41.740Z"
   },
   {
    "duration": 10,
    "start_time": "2024-11-06T17:34:41.767Z"
   },
   {
    "duration": 14,
    "start_time": "2024-11-06T17:34:41.781Z"
   },
   {
    "duration": 138,
    "start_time": "2024-11-06T17:34:41.797Z"
   },
   {
    "duration": 5,
    "start_time": "2024-11-06T17:34:41.937Z"
   },
   {
    "duration": 37,
    "start_time": "2024-11-06T17:34:41.943Z"
   },
   {
    "duration": 152,
    "start_time": "2024-11-06T17:34:41.982Z"
   },
   {
    "duration": 111,
    "start_time": "2024-11-06T17:34:42.136Z"
   },
   {
    "duration": 4,
    "start_time": "2024-11-06T17:34:42.249Z"
   },
   {
    "duration": 4,
    "start_time": "2024-11-06T17:34:42.255Z"
   },
   {
    "duration": 33,
    "start_time": "2024-11-06T17:34:42.260Z"
   },
   {
    "duration": 3,
    "start_time": "2024-11-06T17:34:42.294Z"
   },
   {
    "duration": 28,
    "start_time": "2024-11-06T17:34:42.299Z"
   },
   {
    "duration": 427,
    "start_time": "2024-11-06T17:34:42.328Z"
   },
   {
    "duration": 587,
    "start_time": "2024-11-06T17:34:42.756Z"
   },
   {
    "duration": 1265,
    "start_time": "2024-11-06T17:34:43.345Z"
   },
   {
    "duration": 5,
    "start_time": "2024-11-06T17:34:44.612Z"
   },
   {
    "duration": 462,
    "start_time": "2024-11-06T17:34:44.621Z"
   },
   {
    "duration": 376,
    "start_time": "2024-11-06T17:34:45.084Z"
   },
   {
    "duration": 331,
    "start_time": "2024-11-06T17:34:45.462Z"
   },
   {
    "duration": 370,
    "start_time": "2024-11-06T17:34:45.795Z"
   },
   {
    "duration": 399,
    "start_time": "2024-11-06T17:34:46.167Z"
   },
   {
    "duration": 545,
    "start_time": "2024-11-06T17:34:46.568Z"
   },
   {
    "duration": 5,
    "start_time": "2024-11-06T17:34:47.120Z"
   },
   {
    "duration": 335,
    "start_time": "2024-11-06T17:34:47.127Z"
   },
   {
    "duration": 269,
    "start_time": "2024-11-06T17:34:47.464Z"
   },
   {
    "duration": 237,
    "start_time": "2024-11-06T17:34:47.735Z"
   },
   {
    "duration": 249,
    "start_time": "2024-11-06T17:34:47.973Z"
   },
   {
    "duration": 1614,
    "start_time": "2024-11-06T17:34:48.223Z"
   },
   {
    "duration": 6,
    "start_time": "2024-11-06T17:34:49.839Z"
   },
   {
    "duration": 6,
    "start_time": "2024-11-06T17:34:49.846Z"
   },
   {
    "duration": 10,
    "start_time": "2024-11-06T17:34:49.853Z"
   },
   {
    "duration": 77,
    "start_time": "2024-11-06T17:34:49.864Z"
   },
   {
    "duration": 42,
    "start_time": "2024-11-06T17:34:49.943Z"
   },
   {
    "duration": 18,
    "start_time": "2024-11-06T17:34:49.986Z"
   },
   {
    "duration": 20,
    "start_time": "2024-11-06T17:34:50.005Z"
   },
   {
    "duration": 4,
    "start_time": "2024-11-06T17:34:50.027Z"
   },
   {
    "duration": 18,
    "start_time": "2024-11-06T17:34:50.032Z"
   },
   {
    "duration": 8,
    "start_time": "2024-11-06T17:34:50.052Z"
   },
   {
    "duration": 17,
    "start_time": "2024-11-06T17:34:50.061Z"
   },
   {
    "duration": 7,
    "start_time": "2024-11-06T17:34:50.080Z"
   },
   {
    "duration": 5,
    "start_time": "2024-11-06T17:34:50.088Z"
   },
   {
    "duration": 13,
    "start_time": "2024-11-06T17:34:50.094Z"
   },
   {
    "duration": 14,
    "start_time": "2024-11-06T17:34:50.108Z"
   },
   {
    "duration": 15,
    "start_time": "2024-11-06T17:34:50.123Z"
   },
   {
    "duration": 6,
    "start_time": "2024-11-06T17:34:50.139Z"
   },
   {
    "duration": 11,
    "start_time": "2024-11-06T17:34:50.146Z"
   },
   {
    "duration": 7,
    "start_time": "2024-11-06T17:34:50.158Z"
   },
   {
    "duration": 5,
    "start_time": "2024-11-06T17:34:50.166Z"
   },
   {
    "duration": 17,
    "start_time": "2024-11-06T17:34:50.173Z"
   },
   {
    "duration": 7,
    "start_time": "2024-11-06T17:34:50.191Z"
   },
   {
    "duration": 4,
    "start_time": "2024-11-06T17:34:50.200Z"
   },
   {
    "duration": 16,
    "start_time": "2024-11-06T17:34:50.206Z"
   },
   {
    "duration": 4,
    "start_time": "2024-11-06T17:34:50.224Z"
   },
   {
    "duration": 19,
    "start_time": "2024-11-06T17:34:50.229Z"
   },
   {
    "duration": 31,
    "start_time": "2024-11-06T17:34:50.249Z"
   },
   {
    "duration": 17,
    "start_time": "2024-11-06T17:34:50.285Z"
   },
   {
    "duration": 530,
    "start_time": "2024-11-06T17:34:50.303Z"
   },
   {
    "duration": 50,
    "start_time": "2024-11-07T07:42:49.781Z"
   },
   {
    "duration": 1529,
    "start_time": "2024-11-07T07:42:59.827Z"
   },
   {
    "duration": 4,
    "start_time": "2024-11-07T07:43:01.358Z"
   },
   {
    "duration": 1274,
    "start_time": "2024-11-07T10:04:57.837Z"
   },
   {
    "duration": 5,
    "start_time": "2024-11-07T10:04:59.113Z"
   },
   {
    "duration": 193,
    "start_time": "2024-11-07T10:04:59.119Z"
   },
   {
    "duration": 17,
    "start_time": "2024-11-07T10:04:59.314Z"
   },
   {
    "duration": 11,
    "start_time": "2024-11-07T10:04:59.333Z"
   },
   {
    "duration": 3,
    "start_time": "2024-11-07T10:04:59.346Z"
   },
   {
    "duration": 17,
    "start_time": "2024-11-07T10:04:59.350Z"
   },
   {
    "duration": 50,
    "start_time": "2024-11-07T10:04:59.369Z"
   },
   {
    "duration": 13,
    "start_time": "2024-11-07T10:04:59.420Z"
   },
   {
    "duration": 14,
    "start_time": "2024-11-07T10:04:59.435Z"
   },
   {
    "duration": 9,
    "start_time": "2024-11-07T10:04:59.450Z"
   },
   {
    "duration": 3,
    "start_time": "2024-11-07T10:04:59.461Z"
   },
   {
    "duration": 53,
    "start_time": "2024-11-07T10:04:59.466Z"
   },
   {
    "duration": 5,
    "start_time": "2024-11-07T10:04:59.522Z"
   },
   {
    "duration": 6,
    "start_time": "2024-11-07T10:04:59.529Z"
   },
   {
    "duration": 10,
    "start_time": "2024-11-07T10:04:59.536Z"
   },
   {
    "duration": 7,
    "start_time": "2024-11-07T10:04:59.547Z"
   },
   {
    "duration": 5,
    "start_time": "2024-11-07T10:04:59.556Z"
   },
   {
    "duration": 8,
    "start_time": "2024-11-07T10:04:59.563Z"
   },
   {
    "duration": 28,
    "start_time": "2024-11-07T10:04:59.572Z"
   },
   {
    "duration": 30,
    "start_time": "2024-11-07T10:04:59.602Z"
   },
   {
    "duration": 10,
    "start_time": "2024-11-07T10:04:59.634Z"
   },
   {
    "duration": 21,
    "start_time": "2024-11-07T10:04:59.647Z"
   },
   {
    "duration": 56,
    "start_time": "2024-11-07T10:04:59.670Z"
   },
   {
    "duration": 28,
    "start_time": "2024-11-07T10:04:59.728Z"
   },
   {
    "duration": 30,
    "start_time": "2024-11-07T10:04:59.759Z"
   },
   {
    "duration": 40,
    "start_time": "2024-11-07T10:04:59.791Z"
   },
   {
    "duration": 8,
    "start_time": "2024-11-07T10:04:59.833Z"
   },
   {
    "duration": 160,
    "start_time": "2024-11-07T10:04:59.843Z"
   },
   {
    "duration": 5,
    "start_time": "2024-11-07T10:05:00.005Z"
   },
   {
    "duration": 48,
    "start_time": "2024-11-07T10:05:00.018Z"
   },
   {
    "duration": 135,
    "start_time": "2024-11-07T10:05:00.068Z"
   },
   {
    "duration": 131,
    "start_time": "2024-11-07T10:05:00.205Z"
   },
   {
    "duration": 6,
    "start_time": "2024-11-07T10:05:00.337Z"
   },
   {
    "duration": 34,
    "start_time": "2024-11-07T10:05:00.344Z"
   },
   {
    "duration": 70,
    "start_time": "2024-11-07T10:05:00.381Z"
   },
   {
    "duration": 13,
    "start_time": "2024-11-07T10:05:00.453Z"
   },
   {
    "duration": 71,
    "start_time": "2024-11-07T10:05:00.467Z"
   },
   {
    "duration": 464,
    "start_time": "2024-11-07T10:05:00.540Z"
   },
   {
    "duration": 625,
    "start_time": "2024-11-07T10:05:01.006Z"
   },
   {
    "duration": 1333,
    "start_time": "2024-11-07T10:05:01.636Z"
   },
   {
    "duration": 6,
    "start_time": "2024-11-07T10:05:02.972Z"
   },
   {
    "duration": 529,
    "start_time": "2024-11-07T10:05:02.980Z"
   },
   {
    "duration": 399,
    "start_time": "2024-11-07T10:05:03.511Z"
   },
   {
    "duration": 328,
    "start_time": "2024-11-07T10:05:03.911Z"
   },
   {
    "duration": 370,
    "start_time": "2024-11-07T10:05:04.241Z"
   },
   {
    "duration": 413,
    "start_time": "2024-11-07T10:05:04.612Z"
   },
   {
    "duration": 579,
    "start_time": "2024-11-07T10:05:05.027Z"
   },
   {
    "duration": 10,
    "start_time": "2024-11-07T10:05:05.609Z"
   },
   {
    "duration": 288,
    "start_time": "2024-11-07T10:05:05.621Z"
   },
   {
    "duration": 257,
    "start_time": "2024-11-07T10:05:05.917Z"
   },
   {
    "duration": 243,
    "start_time": "2024-11-07T10:05:06.176Z"
   },
   {
    "duration": 283,
    "start_time": "2024-11-07T10:05:06.420Z"
   },
   {
    "duration": 1766,
    "start_time": "2024-11-07T10:05:06.705Z"
   },
   {
    "duration": 5,
    "start_time": "2024-11-07T10:05:08.473Z"
   },
   {
    "duration": 29,
    "start_time": "2024-11-07T10:05:08.480Z"
   },
   {
    "duration": 21,
    "start_time": "2024-11-07T10:05:08.510Z"
   },
   {
    "duration": 22,
    "start_time": "2024-11-07T10:05:08.532Z"
   },
   {
    "duration": 31,
    "start_time": "2024-11-07T10:05:08.556Z"
   },
   {
    "duration": 11,
    "start_time": "2024-11-07T10:05:08.588Z"
   },
   {
    "duration": 7,
    "start_time": "2024-11-07T10:05:08.600Z"
   },
   {
    "duration": 5,
    "start_time": "2024-11-07T10:05:08.608Z"
   },
   {
    "duration": 12,
    "start_time": "2024-11-07T10:05:08.614Z"
   },
   {
    "duration": 8,
    "start_time": "2024-11-07T10:05:08.627Z"
   },
   {
    "duration": 6,
    "start_time": "2024-11-07T10:05:08.637Z"
   },
   {
    "duration": 9,
    "start_time": "2024-11-07T10:05:08.644Z"
   },
   {
    "duration": 21,
    "start_time": "2024-11-07T10:05:08.655Z"
   },
   {
    "duration": 20,
    "start_time": "2024-11-07T10:05:08.677Z"
   },
   {
    "duration": 6,
    "start_time": "2024-11-07T10:05:08.699Z"
   },
   {
    "duration": 8,
    "start_time": "2024-11-07T10:05:08.706Z"
   },
   {
    "duration": 14,
    "start_time": "2024-11-07T10:05:08.715Z"
   },
   {
    "duration": 25,
    "start_time": "2024-11-07T10:05:08.731Z"
   },
   {
    "duration": 30,
    "start_time": "2024-11-07T10:05:08.758Z"
   },
   {
    "duration": 36,
    "start_time": "2024-11-07T10:05:08.789Z"
   },
   {
    "duration": 19,
    "start_time": "2024-11-07T10:05:08.827Z"
   },
   {
    "duration": 6,
    "start_time": "2024-11-07T10:05:08.847Z"
   },
   {
    "duration": 25,
    "start_time": "2024-11-07T10:05:08.854Z"
   },
   {
    "duration": 15,
    "start_time": "2024-11-07T10:05:08.880Z"
   },
   {
    "duration": 16,
    "start_time": "2024-11-07T10:05:08.896Z"
   },
   {
    "duration": 9,
    "start_time": "2024-11-07T10:05:08.913Z"
   },
   {
    "duration": 5,
    "start_time": "2024-11-07T10:05:08.924Z"
   },
   {
    "duration": 20,
    "start_time": "2024-11-07T10:05:08.931Z"
   },
   {
    "duration": 519,
    "start_time": "2024-11-07T10:05:08.953Z"
   },
   {
    "duration": 1337,
    "start_time": "2024-11-08T08:19:37.631Z"
   },
   {
    "duration": 2,
    "start_time": "2024-11-08T08:19:38.970Z"
   },
   {
    "duration": 125,
    "start_time": "2024-11-08T08:19:38.973Z"
   },
   {
    "duration": 17,
    "start_time": "2024-11-08T08:19:39.099Z"
   },
   {
    "duration": 17,
    "start_time": "2024-11-08T08:19:39.118Z"
   },
   {
    "duration": 4,
    "start_time": "2024-11-08T08:19:39.136Z"
   },
   {
    "duration": 7,
    "start_time": "2024-11-08T08:19:39.141Z"
   },
   {
    "duration": 36,
    "start_time": "2024-11-08T08:19:39.149Z"
   },
   {
    "duration": 25,
    "start_time": "2024-11-08T08:19:39.187Z"
   },
   {
    "duration": 17,
    "start_time": "2024-11-08T08:19:39.214Z"
   },
   {
    "duration": 9,
    "start_time": "2024-11-08T08:19:39.232Z"
   },
   {
    "duration": 4,
    "start_time": "2024-11-08T08:19:39.242Z"
   },
   {
    "duration": 23,
    "start_time": "2024-11-08T08:19:39.247Z"
   },
   {
    "duration": 4,
    "start_time": "2024-11-08T08:19:39.272Z"
   },
   {
    "duration": 23,
    "start_time": "2024-11-08T08:19:39.278Z"
   },
   {
    "duration": 11,
    "start_time": "2024-11-08T08:19:39.302Z"
   },
   {
    "duration": 18,
    "start_time": "2024-11-08T08:19:39.315Z"
   },
   {
    "duration": 6,
    "start_time": "2024-11-08T08:19:39.335Z"
   },
   {
    "duration": 4,
    "start_time": "2024-11-08T08:19:39.342Z"
   },
   {
    "duration": 28,
    "start_time": "2024-11-08T08:19:39.347Z"
   },
   {
    "duration": 14,
    "start_time": "2024-11-08T08:19:39.377Z"
   },
   {
    "duration": 9,
    "start_time": "2024-11-08T08:19:39.393Z"
   },
   {
    "duration": 13,
    "start_time": "2024-11-08T08:19:39.403Z"
   },
   {
    "duration": 32,
    "start_time": "2024-11-08T08:19:39.418Z"
   },
   {
    "duration": 22,
    "start_time": "2024-11-08T08:19:39.451Z"
   },
   {
    "duration": 24,
    "start_time": "2024-11-08T08:19:39.474Z"
   },
   {
    "duration": 24,
    "start_time": "2024-11-08T08:19:39.499Z"
   },
   {
    "duration": 5,
    "start_time": "2024-11-08T08:19:39.525Z"
   },
   {
    "duration": 140,
    "start_time": "2024-11-08T08:19:39.531Z"
   },
   {
    "duration": 4,
    "start_time": "2024-11-08T08:19:39.672Z"
   },
   {
    "duration": 20,
    "start_time": "2024-11-08T08:19:39.677Z"
   },
   {
    "duration": 121,
    "start_time": "2024-11-08T08:19:39.698Z"
   },
   {
    "duration": 114,
    "start_time": "2024-11-08T08:19:39.821Z"
   },
   {
    "duration": 5,
    "start_time": "2024-11-08T08:19:39.936Z"
   },
   {
    "duration": 8,
    "start_time": "2024-11-08T08:19:39.942Z"
   },
   {
    "duration": 32,
    "start_time": "2024-11-08T08:19:39.952Z"
   },
   {
    "duration": 3,
    "start_time": "2024-11-08T08:19:39.985Z"
   },
   {
    "duration": 13,
    "start_time": "2024-11-08T08:19:39.990Z"
   },
   {
    "duration": 388,
    "start_time": "2024-11-08T08:19:40.005Z"
   },
   {
    "duration": 558,
    "start_time": "2024-11-08T08:19:40.395Z"
   },
   {
    "duration": 1133,
    "start_time": "2024-11-08T08:19:40.958Z"
   },
   {
    "duration": 6,
    "start_time": "2024-11-08T08:19:42.093Z"
   },
   {
    "duration": 419,
    "start_time": "2024-11-08T08:19:42.100Z"
   },
   {
    "duration": 331,
    "start_time": "2024-11-08T08:19:42.521Z"
   },
   {
    "duration": 294,
    "start_time": "2024-11-08T08:19:42.854Z"
   },
   {
    "duration": 354,
    "start_time": "2024-11-08T08:19:43.149Z"
   },
   {
    "duration": 364,
    "start_time": "2024-11-08T08:19:43.504Z"
   },
   {
    "duration": 507,
    "start_time": "2024-11-08T08:19:43.870Z"
   },
   {
    "duration": 4,
    "start_time": "2024-11-08T08:19:44.379Z"
   },
   {
    "duration": 255,
    "start_time": "2024-11-08T08:19:44.384Z"
   },
   {
    "duration": 245,
    "start_time": "2024-11-08T08:19:44.640Z"
   },
   {
    "duration": 217,
    "start_time": "2024-11-08T08:19:44.887Z"
   },
   {
    "duration": 251,
    "start_time": "2024-11-08T08:19:45.106Z"
   },
   {
    "duration": 1569,
    "start_time": "2024-11-08T08:19:45.358Z"
   },
   {
    "duration": 6,
    "start_time": "2024-11-08T08:19:46.928Z"
   },
   {
    "duration": 11,
    "start_time": "2024-11-08T08:19:46.935Z"
   },
   {
    "duration": 61,
    "start_time": "2024-11-08T08:19:46.948Z"
   },
   {
    "duration": 10,
    "start_time": "2024-11-08T08:19:47.011Z"
   },
   {
    "duration": 9,
    "start_time": "2024-11-08T08:19:47.023Z"
   },
   {
    "duration": 7,
    "start_time": "2024-11-08T08:19:47.033Z"
   },
   {
    "duration": 24,
    "start_time": "2024-11-08T08:19:47.041Z"
   },
   {
    "duration": 10,
    "start_time": "2024-11-08T08:19:47.067Z"
   },
   {
    "duration": 10,
    "start_time": "2024-11-08T08:19:47.078Z"
   },
   {
    "duration": 12,
    "start_time": "2024-11-08T08:19:47.089Z"
   },
   {
    "duration": 6,
    "start_time": "2024-11-08T08:19:47.103Z"
   },
   {
    "duration": 11,
    "start_time": "2024-11-08T08:19:47.110Z"
   },
   {
    "duration": 7,
    "start_time": "2024-11-08T08:19:47.122Z"
   },
   {
    "duration": 27,
    "start_time": "2024-11-08T08:19:47.130Z"
   },
   {
    "duration": 6,
    "start_time": "2024-11-08T08:19:47.158Z"
   },
   {
    "duration": 13,
    "start_time": "2024-11-08T08:19:47.165Z"
   },
   {
    "duration": 11,
    "start_time": "2024-11-08T08:19:47.179Z"
   },
   {
    "duration": 9,
    "start_time": "2024-11-08T08:19:47.191Z"
   },
   {
    "duration": 6,
    "start_time": "2024-11-08T08:19:47.201Z"
   },
   {
    "duration": 14,
    "start_time": "2024-11-08T08:19:47.209Z"
   },
   {
    "duration": 6,
    "start_time": "2024-11-08T08:19:47.224Z"
   },
   {
    "duration": 9,
    "start_time": "2024-11-08T08:19:47.232Z"
   },
   {
    "duration": 6,
    "start_time": "2024-11-08T08:19:47.242Z"
   },
   {
    "duration": 10,
    "start_time": "2024-11-08T08:19:47.249Z"
   },
   {
    "duration": 9,
    "start_time": "2024-11-08T08:19:47.261Z"
   },
   {
    "duration": 10,
    "start_time": "2024-11-08T08:19:47.271Z"
   },
   {
    "duration": 6,
    "start_time": "2024-11-08T08:19:47.282Z"
   },
   {
    "duration": 11,
    "start_time": "2024-11-08T08:19:47.289Z"
   },
   {
    "duration": 527,
    "start_time": "2024-11-08T08:19:47.301Z"
   },
   {
    "duration": 1551,
    "start_time": "2024-11-08T14:56:49.728Z"
   },
   {
    "duration": 4,
    "start_time": "2024-11-08T14:56:51.282Z"
   },
   {
    "duration": 103,
    "start_time": "2024-11-08T14:56:51.287Z"
   },
   {
    "duration": 21,
    "start_time": "2024-11-08T14:56:51.392Z"
   },
   {
    "duration": 19,
    "start_time": "2024-11-08T14:56:51.415Z"
   },
   {
    "duration": 3,
    "start_time": "2024-11-08T14:56:51.436Z"
   },
   {
    "duration": 10,
    "start_time": "2024-11-08T14:56:51.441Z"
   },
   {
    "duration": 53,
    "start_time": "2024-11-08T14:56:51.452Z"
   },
   {
    "duration": 13,
    "start_time": "2024-11-08T14:56:51.507Z"
   },
   {
    "duration": 15,
    "start_time": "2024-11-08T14:56:51.523Z"
   },
   {
    "duration": 15,
    "start_time": "2024-11-08T14:56:51.539Z"
   },
   {
    "duration": 4,
    "start_time": "2024-11-08T14:56:51.556Z"
   },
   {
    "duration": 26,
    "start_time": "2024-11-08T14:56:51.561Z"
   },
   {
    "duration": 6,
    "start_time": "2024-11-08T14:56:51.589Z"
   },
   {
    "duration": 8,
    "start_time": "2024-11-08T14:56:51.619Z"
   },
   {
    "duration": 19,
    "start_time": "2024-11-08T14:56:51.628Z"
   },
   {
    "duration": 9,
    "start_time": "2024-11-08T14:56:51.649Z"
   },
   {
    "duration": 13,
    "start_time": "2024-11-08T14:56:51.660Z"
   },
   {
    "duration": 45,
    "start_time": "2024-11-08T14:56:51.674Z"
   },
   {
    "duration": 29,
    "start_time": "2024-11-08T14:56:51.720Z"
   },
   {
    "duration": 48,
    "start_time": "2024-11-08T14:56:51.750Z"
   },
   {
    "duration": 24,
    "start_time": "2024-11-08T14:56:51.800Z"
   },
   {
    "duration": 10,
    "start_time": "2024-11-08T14:56:51.826Z"
   },
   {
    "duration": 35,
    "start_time": "2024-11-08T14:56:51.837Z"
   },
   {
    "duration": 29,
    "start_time": "2024-11-08T14:56:51.873Z"
   },
   {
    "duration": 47,
    "start_time": "2024-11-08T14:56:51.904Z"
   },
   {
    "duration": 14,
    "start_time": "2024-11-08T14:56:51.952Z"
   },
   {
    "duration": 16,
    "start_time": "2024-11-08T14:56:51.971Z"
   },
   {
    "duration": 163,
    "start_time": "2024-11-08T14:56:51.989Z"
   },
   {
    "duration": 5,
    "start_time": "2024-11-08T14:56:52.154Z"
   },
   {
    "duration": 9,
    "start_time": "2024-11-08T14:56:52.161Z"
   },
   {
    "duration": 122,
    "start_time": "2024-11-08T14:56:52.172Z"
   },
   {
    "duration": 0,
    "start_time": "2024-11-08T14:56:52.295Z"
   },
   {
    "duration": 0,
    "start_time": "2024-11-08T14:56:52.297Z"
   },
   {
    "duration": 0,
    "start_time": "2024-11-08T14:56:52.298Z"
   },
   {
    "duration": 0,
    "start_time": "2024-11-08T14:56:52.299Z"
   },
   {
    "duration": 0,
    "start_time": "2024-11-08T14:56:52.300Z"
   },
   {
    "duration": 0,
    "start_time": "2024-11-08T14:56:52.301Z"
   },
   {
    "duration": 0,
    "start_time": "2024-11-08T14:56:52.302Z"
   },
   {
    "duration": 0,
    "start_time": "2024-11-08T14:56:52.304Z"
   },
   {
    "duration": 0,
    "start_time": "2024-11-08T14:56:52.320Z"
   },
   {
    "duration": 0,
    "start_time": "2024-11-08T14:56:52.322Z"
   },
   {
    "duration": 0,
    "start_time": "2024-11-08T14:56:52.323Z"
   },
   {
    "duration": 0,
    "start_time": "2024-11-08T14:56:52.324Z"
   },
   {
    "duration": 0,
    "start_time": "2024-11-08T14:56:52.326Z"
   },
   {
    "duration": 0,
    "start_time": "2024-11-08T14:56:52.327Z"
   },
   {
    "duration": 0,
    "start_time": "2024-11-08T14:56:52.328Z"
   },
   {
    "duration": 0,
    "start_time": "2024-11-08T14:56:52.329Z"
   },
   {
    "duration": 0,
    "start_time": "2024-11-08T14:56:52.331Z"
   },
   {
    "duration": 0,
    "start_time": "2024-11-08T14:56:52.332Z"
   },
   {
    "duration": 0,
    "start_time": "2024-11-08T14:56:52.334Z"
   },
   {
    "duration": 0,
    "start_time": "2024-11-08T14:56:52.335Z"
   },
   {
    "duration": 0,
    "start_time": "2024-11-08T14:56:52.337Z"
   },
   {
    "duration": 0,
    "start_time": "2024-11-08T14:56:52.338Z"
   },
   {
    "duration": 0,
    "start_time": "2024-11-08T14:56:52.339Z"
   },
   {
    "duration": 0,
    "start_time": "2024-11-08T14:56:52.341Z"
   },
   {
    "duration": 0,
    "start_time": "2024-11-08T14:56:52.342Z"
   },
   {
    "duration": 0,
    "start_time": "2024-11-08T14:56:52.343Z"
   },
   {
    "duration": 0,
    "start_time": "2024-11-08T14:56:52.344Z"
   },
   {
    "duration": 0,
    "start_time": "2024-11-08T14:56:52.345Z"
   },
   {
    "duration": 0,
    "start_time": "2024-11-08T14:56:52.347Z"
   },
   {
    "duration": 0,
    "start_time": "2024-11-08T14:56:52.348Z"
   },
   {
    "duration": 0,
    "start_time": "2024-11-08T14:56:52.349Z"
   },
   {
    "duration": 0,
    "start_time": "2024-11-08T14:56:52.350Z"
   },
   {
    "duration": 0,
    "start_time": "2024-11-08T14:56:52.351Z"
   },
   {
    "duration": 0,
    "start_time": "2024-11-08T14:56:52.352Z"
   },
   {
    "duration": 0,
    "start_time": "2024-11-08T14:56:52.353Z"
   },
   {
    "duration": 0,
    "start_time": "2024-11-08T14:56:52.355Z"
   },
   {
    "duration": 0,
    "start_time": "2024-11-08T14:56:52.356Z"
   },
   {
    "duration": 0,
    "start_time": "2024-11-08T14:56:52.421Z"
   },
   {
    "duration": 0,
    "start_time": "2024-11-08T14:56:52.423Z"
   },
   {
    "duration": 0,
    "start_time": "2024-11-08T14:56:52.425Z"
   },
   {
    "duration": 0,
    "start_time": "2024-11-08T14:56:52.426Z"
   },
   {
    "duration": 0,
    "start_time": "2024-11-08T14:56:52.428Z"
   },
   {
    "duration": 0,
    "start_time": "2024-11-08T14:56:52.429Z"
   },
   {
    "duration": 0,
    "start_time": "2024-11-08T14:56:52.430Z"
   },
   {
    "duration": 0,
    "start_time": "2024-11-08T14:56:52.432Z"
   },
   {
    "duration": 0,
    "start_time": "2024-11-08T14:56:52.433Z"
   },
   {
    "duration": 0,
    "start_time": "2024-11-08T14:56:52.435Z"
   },
   {
    "duration": 0,
    "start_time": "2024-11-08T14:56:52.436Z"
   },
   {
    "duration": 0,
    "start_time": "2024-11-08T14:56:52.438Z"
   },
   {
    "duration": 0,
    "start_time": "2024-11-08T14:56:52.439Z"
   },
   {
    "duration": 0,
    "start_time": "2024-11-08T14:56:52.440Z"
   },
   {
    "duration": 136,
    "start_time": "2024-11-08T14:59:07.363Z"
   },
   {
    "duration": 125,
    "start_time": "2024-11-08T15:00:28.841Z"
   },
   {
    "duration": 122,
    "start_time": "2024-11-08T15:01:02.959Z"
   },
   {
    "duration": 123,
    "start_time": "2024-11-08T15:02:31.462Z"
   },
   {
    "duration": 15,
    "start_time": "2024-11-08T15:02:55.549Z"
   },
   {
    "duration": 1440,
    "start_time": "2024-11-08T15:03:07.007Z"
   },
   {
    "duration": 3,
    "start_time": "2024-11-08T15:03:08.449Z"
   },
   {
    "duration": 105,
    "start_time": "2024-11-08T15:03:08.453Z"
   },
   {
    "duration": 23,
    "start_time": "2024-11-08T15:03:08.560Z"
   },
   {
    "duration": 31,
    "start_time": "2024-11-08T15:03:08.586Z"
   },
   {
    "duration": 18,
    "start_time": "2024-11-08T15:03:08.619Z"
   },
   {
    "duration": 16,
    "start_time": "2024-11-08T15:03:08.639Z"
   },
   {
    "duration": 83,
    "start_time": "2024-11-08T15:03:08.657Z"
   },
   {
    "duration": 14,
    "start_time": "2024-11-08T15:03:08.742Z"
   },
   {
    "duration": 56,
    "start_time": "2024-11-08T15:03:08.759Z"
   },
   {
    "duration": 13,
    "start_time": "2024-11-08T15:03:08.818Z"
   },
   {
    "duration": 19,
    "start_time": "2024-11-08T15:03:08.833Z"
   },
   {
    "duration": 31,
    "start_time": "2024-11-08T15:03:08.854Z"
   },
   {
    "duration": 6,
    "start_time": "2024-11-08T15:03:08.887Z"
   },
   {
    "duration": 35,
    "start_time": "2024-11-08T15:03:08.895Z"
   },
   {
    "duration": 32,
    "start_time": "2024-11-08T15:03:08.932Z"
   },
   {
    "duration": 26,
    "start_time": "2024-11-08T15:03:08.966Z"
   },
   {
    "duration": 7,
    "start_time": "2024-11-08T15:03:08.994Z"
   },
   {
    "duration": 28,
    "start_time": "2024-11-08T15:03:09.003Z"
   },
   {
    "duration": 29,
    "start_time": "2024-11-08T15:03:09.033Z"
   },
   {
    "duration": 14,
    "start_time": "2024-11-08T15:03:09.064Z"
   },
   {
    "duration": 9,
    "start_time": "2024-11-08T15:03:09.080Z"
   },
   {
    "duration": 29,
    "start_time": "2024-11-08T15:03:09.091Z"
   },
   {
    "duration": 55,
    "start_time": "2024-11-08T15:03:09.121Z"
   },
   {
    "duration": 29,
    "start_time": "2024-11-08T15:03:09.178Z"
   },
   {
    "duration": 29,
    "start_time": "2024-11-08T15:03:09.209Z"
   },
   {
    "duration": 11,
    "start_time": "2024-11-08T15:03:09.240Z"
   },
   {
    "duration": 24,
    "start_time": "2024-11-08T15:03:09.255Z"
   },
   {
    "duration": 185,
    "start_time": "2024-11-08T15:03:09.281Z"
   },
   {
    "duration": 5,
    "start_time": "2024-11-08T15:03:09.468Z"
   },
   {
    "duration": 25,
    "start_time": "2024-11-08T15:03:09.474Z"
   },
   {
    "duration": 141,
    "start_time": "2024-11-08T15:03:09.501Z"
   },
   {
    "duration": 123,
    "start_time": "2024-11-08T15:03:09.644Z"
   },
   {
    "duration": 6,
    "start_time": "2024-11-08T15:03:09.768Z"
   },
   {
    "duration": 59,
    "start_time": "2024-11-08T15:03:09.775Z"
   },
   {
    "duration": 25,
    "start_time": "2024-11-08T15:03:09.836Z"
   },
   {
    "duration": 4,
    "start_time": "2024-11-08T15:03:09.862Z"
   },
   {
    "duration": 19,
    "start_time": "2024-11-08T15:03:09.868Z"
   },
   {
    "duration": 492,
    "start_time": "2024-11-08T15:03:09.889Z"
   },
   {
    "duration": 647,
    "start_time": "2024-11-08T15:03:10.383Z"
   },
   {
    "duration": 1400,
    "start_time": "2024-11-08T15:03:11.031Z"
   },
   {
    "duration": 6,
    "start_time": "2024-11-08T15:03:12.433Z"
   },
   {
    "duration": 528,
    "start_time": "2024-11-08T15:03:12.441Z"
   },
   {
    "duration": 412,
    "start_time": "2024-11-08T15:03:12.971Z"
   },
   {
    "duration": 354,
    "start_time": "2024-11-08T15:03:13.385Z"
   },
   {
    "duration": 428,
    "start_time": "2024-11-08T15:03:13.741Z"
   },
   {
    "duration": 458,
    "start_time": "2024-11-08T15:03:14.171Z"
   },
   {
    "duration": 645,
    "start_time": "2024-11-08T15:03:14.631Z"
   },
   {
    "duration": 6,
    "start_time": "2024-11-08T15:03:15.278Z"
   },
   {
    "duration": 322,
    "start_time": "2024-11-08T15:03:15.286Z"
   },
   {
    "duration": 315,
    "start_time": "2024-11-08T15:03:15.609Z"
   },
   {
    "duration": 283,
    "start_time": "2024-11-08T15:03:15.926Z"
   },
   {
    "duration": 276,
    "start_time": "2024-11-08T15:03:16.211Z"
   },
   {
    "duration": 1756,
    "start_time": "2024-11-08T15:03:16.488Z"
   },
   {
    "duration": 6,
    "start_time": "2024-11-08T15:03:18.245Z"
   },
   {
    "duration": 8,
    "start_time": "2024-11-08T15:03:18.253Z"
   },
   {
    "duration": 55,
    "start_time": "2024-11-08T15:03:18.263Z"
   },
   {
    "duration": 53,
    "start_time": "2024-11-08T15:03:18.320Z"
   },
   {
    "duration": 6,
    "start_time": "2024-11-08T15:03:18.375Z"
   },
   {
    "duration": 17,
    "start_time": "2024-11-08T15:03:18.383Z"
   },
   {
    "duration": 16,
    "start_time": "2024-11-08T15:03:18.401Z"
   },
   {
    "duration": 4,
    "start_time": "2024-11-08T15:03:18.418Z"
   },
   {
    "duration": 23,
    "start_time": "2024-11-08T15:03:18.424Z"
   },
   {
    "duration": 12,
    "start_time": "2024-11-08T15:03:18.449Z"
   },
   {
    "duration": 41,
    "start_time": "2024-11-08T15:03:18.463Z"
   },
   {
    "duration": 24,
    "start_time": "2024-11-08T15:03:18.506Z"
   },
   {
    "duration": 14,
    "start_time": "2024-11-08T15:03:18.531Z"
   },
   {
    "duration": 8,
    "start_time": "2024-11-08T15:03:18.547Z"
   },
   {
    "duration": 6,
    "start_time": "2024-11-08T15:03:18.557Z"
   },
   {
    "duration": 42,
    "start_time": "2024-11-08T15:03:18.564Z"
   },
   {
    "duration": 40,
    "start_time": "2024-11-08T15:03:18.607Z"
   },
   {
    "duration": 10,
    "start_time": "2024-11-08T15:03:18.649Z"
   },
   {
    "duration": 7,
    "start_time": "2024-11-08T15:03:18.661Z"
   },
   {
    "duration": 28,
    "start_time": "2024-11-08T15:03:18.669Z"
   },
   {
    "duration": 29,
    "start_time": "2024-11-08T15:03:18.699Z"
   },
   {
    "duration": 17,
    "start_time": "2024-11-08T15:03:18.730Z"
   },
   {
    "duration": 6,
    "start_time": "2024-11-08T15:03:18.749Z"
   },
   {
    "duration": 14,
    "start_time": "2024-11-08T15:03:18.757Z"
   },
   {
    "duration": 34,
    "start_time": "2024-11-08T15:03:18.773Z"
   },
   {
    "duration": 27,
    "start_time": "2024-11-08T15:03:18.809Z"
   },
   {
    "duration": 30,
    "start_time": "2024-11-08T15:03:18.838Z"
   },
   {
    "duration": 29,
    "start_time": "2024-11-08T15:03:18.875Z"
   },
   {
    "duration": 543,
    "start_time": "2024-11-08T15:03:18.906Z"
   },
   {
    "duration": 650,
    "start_time": "2024-11-08T15:13:34.920Z"
   },
   {
    "duration": 625,
    "start_time": "2024-11-08T15:17:48.763Z"
   },
   {
    "duration": 1531,
    "start_time": "2024-11-08T15:21:43.010Z"
   },
   {
    "duration": 71,
    "start_time": "2024-11-08T15:26:26.788Z"
   },
   {
    "duration": 399,
    "start_time": "2024-11-08T15:26:47.016Z"
   },
   {
    "duration": 6,
    "start_time": "2024-11-08T15:29:22.174Z"
   },
   {
    "duration": 441,
    "start_time": "2024-11-08T15:29:34.770Z"
   },
   {
    "duration": 6,
    "start_time": "2024-11-08T15:29:50.939Z"
   },
   {
    "duration": 1352,
    "start_time": "2024-11-08T15:30:13.499Z"
   },
   {
    "duration": 3,
    "start_time": "2024-11-08T15:30:14.853Z"
   },
   {
    "duration": 89,
    "start_time": "2024-11-08T15:30:14.858Z"
   },
   {
    "duration": 18,
    "start_time": "2024-11-08T15:30:14.950Z"
   },
   {
    "duration": 12,
    "start_time": "2024-11-08T15:30:14.970Z"
   },
   {
    "duration": 4,
    "start_time": "2024-11-08T15:30:14.984Z"
   },
   {
    "duration": 11,
    "start_time": "2024-11-08T15:30:14.989Z"
   },
   {
    "duration": 158,
    "start_time": "2024-11-08T15:30:15.002Z"
   },
   {
    "duration": 14,
    "start_time": "2024-11-08T15:30:15.162Z"
   },
   {
    "duration": 69,
    "start_time": "2024-11-08T15:30:15.179Z"
   },
   {
    "duration": 16,
    "start_time": "2024-11-08T15:30:15.250Z"
   },
   {
    "duration": 35,
    "start_time": "2024-11-08T15:30:15.268Z"
   },
   {
    "duration": 72,
    "start_time": "2024-11-08T15:30:15.305Z"
   },
   {
    "duration": 9,
    "start_time": "2024-11-08T15:30:15.378Z"
   },
   {
    "duration": 32,
    "start_time": "2024-11-08T15:30:15.388Z"
   },
   {
    "duration": 20,
    "start_time": "2024-11-08T15:30:15.421Z"
   },
   {
    "duration": 8,
    "start_time": "2024-11-08T15:30:15.443Z"
   },
   {
    "duration": 21,
    "start_time": "2024-11-08T15:30:15.452Z"
   },
   {
    "duration": 6,
    "start_time": "2024-11-08T15:30:15.475Z"
   },
   {
    "duration": 23,
    "start_time": "2024-11-08T15:30:15.483Z"
   },
   {
    "duration": 28,
    "start_time": "2024-11-08T15:30:15.508Z"
   },
   {
    "duration": 24,
    "start_time": "2024-11-08T15:30:15.538Z"
   },
   {
    "duration": 34,
    "start_time": "2024-11-08T15:30:15.563Z"
   },
   {
    "duration": 46,
    "start_time": "2024-11-08T15:30:15.599Z"
   },
   {
    "duration": 59,
    "start_time": "2024-11-08T15:30:15.647Z"
   },
   {
    "duration": 75,
    "start_time": "2024-11-08T15:30:15.707Z"
   },
   {
    "duration": 34,
    "start_time": "2024-11-08T15:30:15.784Z"
   },
   {
    "duration": 44,
    "start_time": "2024-11-08T15:30:15.822Z"
   },
   {
    "duration": 181,
    "start_time": "2024-11-08T15:30:15.868Z"
   },
   {
    "duration": 5,
    "start_time": "2024-11-08T15:30:16.051Z"
   },
   {
    "duration": 11,
    "start_time": "2024-11-08T15:30:16.057Z"
   },
   {
    "duration": 141,
    "start_time": "2024-11-08T15:30:16.070Z"
   },
   {
    "duration": 130,
    "start_time": "2024-11-08T15:30:16.213Z"
   },
   {
    "duration": 7,
    "start_time": "2024-11-08T15:30:16.345Z"
   },
   {
    "duration": 90,
    "start_time": "2024-11-08T15:30:16.353Z"
   },
   {
    "duration": 41,
    "start_time": "2024-11-08T15:30:16.444Z"
   },
   {
    "duration": 4,
    "start_time": "2024-11-08T15:30:16.486Z"
   },
   {
    "duration": 16,
    "start_time": "2024-11-08T15:30:16.492Z"
   },
   {
    "duration": 469,
    "start_time": "2024-11-08T15:30:16.509Z"
   },
   {
    "duration": 642,
    "start_time": "2024-11-08T15:30:16.984Z"
   },
   {
    "duration": 1402,
    "start_time": "2024-11-08T15:30:17.628Z"
   },
   {
    "duration": 5,
    "start_time": "2024-11-08T15:30:19.032Z"
   },
   {
    "duration": 500,
    "start_time": "2024-11-08T15:30:19.039Z"
   },
   {
    "duration": 401,
    "start_time": "2024-11-08T15:30:19.540Z"
   },
   {
    "duration": 362,
    "start_time": "2024-11-08T15:30:19.943Z"
   },
   {
    "duration": 421,
    "start_time": "2024-11-08T15:30:20.306Z"
   },
   {
    "duration": 447,
    "start_time": "2024-11-08T15:30:20.728Z"
   },
   {
    "duration": 613,
    "start_time": "2024-11-08T15:30:21.176Z"
   },
   {
    "duration": 5,
    "start_time": "2024-11-08T15:30:21.790Z"
   },
   {
    "duration": 303,
    "start_time": "2024-11-08T15:30:21.797Z"
   },
   {
    "duration": 279,
    "start_time": "2024-11-08T15:30:22.101Z"
   },
   {
    "duration": 259,
    "start_time": "2024-11-08T15:30:22.382Z"
   },
   {
    "duration": 306,
    "start_time": "2024-11-08T15:30:22.643Z"
   },
   {
    "duration": 1800,
    "start_time": "2024-11-08T15:30:22.952Z"
   },
   {
    "duration": 7,
    "start_time": "2024-11-08T15:30:24.753Z"
   },
   {
    "duration": 6,
    "start_time": "2024-11-08T15:30:24.762Z"
   },
   {
    "duration": 25,
    "start_time": "2024-11-08T15:30:24.769Z"
   },
   {
    "duration": 16,
    "start_time": "2024-11-08T15:30:24.796Z"
   },
   {
    "duration": 10,
    "start_time": "2024-11-08T15:30:24.814Z"
   },
   {
    "duration": 18,
    "start_time": "2024-11-08T15:30:24.826Z"
   },
   {
    "duration": 18,
    "start_time": "2024-11-08T15:30:24.846Z"
   },
   {
    "duration": 4,
    "start_time": "2024-11-08T15:30:24.865Z"
   },
   {
    "duration": 9,
    "start_time": "2024-11-08T15:30:24.871Z"
   },
   {
    "duration": 7,
    "start_time": "2024-11-08T15:30:24.882Z"
   },
   {
    "duration": 26,
    "start_time": "2024-11-08T15:30:24.891Z"
   },
   {
    "duration": 18,
    "start_time": "2024-11-08T15:30:24.919Z"
   },
   {
    "duration": 11,
    "start_time": "2024-11-08T15:30:24.938Z"
   },
   {
    "duration": 10,
    "start_time": "2024-11-08T15:30:24.950Z"
   },
   {
    "duration": 10,
    "start_time": "2024-11-08T15:30:24.962Z"
   },
   {
    "duration": 9,
    "start_time": "2024-11-08T15:30:24.974Z"
   },
   {
    "duration": 26,
    "start_time": "2024-11-08T15:30:24.985Z"
   },
   {
    "duration": 12,
    "start_time": "2024-11-08T15:30:25.013Z"
   },
   {
    "duration": 10,
    "start_time": "2024-11-08T15:30:25.027Z"
   },
   {
    "duration": 12,
    "start_time": "2024-11-08T15:30:25.039Z"
   },
   {
    "duration": 14,
    "start_time": "2024-11-08T15:30:25.052Z"
   },
   {
    "duration": 9,
    "start_time": "2024-11-08T15:30:25.068Z"
   },
   {
    "duration": 8,
    "start_time": "2024-11-08T15:30:25.079Z"
   },
   {
    "duration": 18,
    "start_time": "2024-11-08T15:30:25.089Z"
   },
   {
    "duration": 7,
    "start_time": "2024-11-08T15:30:25.122Z"
   },
   {
    "duration": 22,
    "start_time": "2024-11-08T15:30:25.131Z"
   },
   {
    "duration": 5,
    "start_time": "2024-11-08T15:30:25.155Z"
   },
   {
    "duration": 14,
    "start_time": "2024-11-08T15:30:25.165Z"
   },
   {
    "duration": 599,
    "start_time": "2024-11-08T15:30:25.181Z"
   },
   {
    "duration": 7,
    "start_time": "2024-11-08T15:35:11.835Z"
   },
   {
    "duration": 433,
    "start_time": "2024-11-08T15:35:16.363Z"
   },
   {
    "duration": 399,
    "start_time": "2024-11-08T15:36:30.043Z"
   },
   {
    "duration": 378,
    "start_time": "2024-11-08T15:36:39.082Z"
   },
   {
    "duration": 449,
    "start_time": "2024-11-08T15:36:43.870Z"
   },
   {
    "duration": 581,
    "start_time": "2024-11-08T15:36:56.435Z"
   },
   {
    "duration": 502,
    "start_time": "2024-11-08T15:37:02.646Z"
   },
   {
    "duration": 495,
    "start_time": "2024-11-08T15:40:05.205Z"
   },
   {
    "duration": 399,
    "start_time": "2024-11-08T15:40:27.117Z"
   },
   {
    "duration": 1388,
    "start_time": "2024-11-08T16:00:13.625Z"
   },
   {
    "duration": 3,
    "start_time": "2024-11-08T16:00:15.015Z"
   },
   {
    "duration": 177,
    "start_time": "2024-11-08T16:00:15.020Z"
   },
   {
    "duration": 19,
    "start_time": "2024-11-08T16:00:15.199Z"
   },
   {
    "duration": 13,
    "start_time": "2024-11-08T16:00:15.220Z"
   },
   {
    "duration": 50,
    "start_time": "2024-11-08T16:00:15.235Z"
   },
   {
    "duration": 28,
    "start_time": "2024-11-08T16:00:15.288Z"
   },
   {
    "duration": 87,
    "start_time": "2024-11-08T16:00:15.318Z"
   },
   {
    "duration": 19,
    "start_time": "2024-11-08T16:00:15.407Z"
   },
   {
    "duration": 46,
    "start_time": "2024-11-08T16:00:15.429Z"
   },
   {
    "duration": 77,
    "start_time": "2024-11-08T16:00:15.477Z"
   },
   {
    "duration": 6,
    "start_time": "2024-11-08T16:00:15.556Z"
   },
   {
    "duration": 30,
    "start_time": "2024-11-08T16:00:15.563Z"
   },
   {
    "duration": 7,
    "start_time": "2024-11-08T16:00:15.595Z"
   },
   {
    "duration": 22,
    "start_time": "2024-11-08T16:00:15.603Z"
   },
   {
    "duration": 16,
    "start_time": "2024-11-08T16:00:15.627Z"
   },
   {
    "duration": 12,
    "start_time": "2024-11-08T16:00:15.645Z"
   },
   {
    "duration": 11,
    "start_time": "2024-11-08T16:00:15.659Z"
   },
   {
    "duration": 9,
    "start_time": "2024-11-08T16:00:15.672Z"
   },
   {
    "duration": 15,
    "start_time": "2024-11-08T16:00:15.683Z"
   },
   {
    "duration": 25,
    "start_time": "2024-11-08T16:00:15.699Z"
   },
   {
    "duration": 6,
    "start_time": "2024-11-08T16:00:15.726Z"
   },
   {
    "duration": 9,
    "start_time": "2024-11-08T16:00:15.734Z"
   },
   {
    "duration": 42,
    "start_time": "2024-11-08T16:00:15.744Z"
   },
   {
    "duration": 57,
    "start_time": "2024-11-08T16:00:15.788Z"
   },
   {
    "duration": 38,
    "start_time": "2024-11-08T16:00:15.847Z"
   },
   {
    "duration": 12,
    "start_time": "2024-11-08T16:00:15.887Z"
   },
   {
    "duration": 4,
    "start_time": "2024-11-08T16:00:15.922Z"
   },
   {
    "duration": 155,
    "start_time": "2024-11-08T16:00:15.928Z"
   },
   {
    "duration": 6,
    "start_time": "2024-11-08T16:00:16.085Z"
   },
   {
    "duration": 11,
    "start_time": "2024-11-08T16:00:16.092Z"
   },
   {
    "duration": 144,
    "start_time": "2024-11-08T16:00:16.104Z"
   },
   {
    "duration": 131,
    "start_time": "2024-11-08T16:00:16.251Z"
   },
   {
    "duration": 6,
    "start_time": "2024-11-08T16:00:16.385Z"
   },
   {
    "duration": 15,
    "start_time": "2024-11-08T16:00:16.393Z"
   },
   {
    "duration": 30,
    "start_time": "2024-11-08T16:00:16.409Z"
   },
   {
    "duration": 4,
    "start_time": "2024-11-08T16:00:16.440Z"
   },
   {
    "duration": 33,
    "start_time": "2024-11-08T16:00:16.446Z"
   },
   {
    "duration": 565,
    "start_time": "2024-11-08T16:00:16.481Z"
   },
   {
    "duration": 647,
    "start_time": "2024-11-08T16:00:17.048Z"
   },
   {
    "duration": 1386,
    "start_time": "2024-11-08T16:00:17.697Z"
   },
   {
    "duration": 6,
    "start_time": "2024-11-08T16:00:19.085Z"
   },
   {
    "duration": 521,
    "start_time": "2024-11-08T16:00:19.092Z"
   },
   {
    "duration": 407,
    "start_time": "2024-11-08T16:00:19.620Z"
   },
   {
    "duration": 372,
    "start_time": "2024-11-08T16:00:20.029Z"
   },
   {
    "duration": 456,
    "start_time": "2024-11-08T16:00:20.403Z"
   },
   {
    "duration": 469,
    "start_time": "2024-11-08T16:00:20.861Z"
   },
   {
    "duration": 612,
    "start_time": "2024-11-08T16:00:21.331Z"
   },
   {
    "duration": 5,
    "start_time": "2024-11-08T16:00:21.945Z"
   },
   {
    "duration": 345,
    "start_time": "2024-11-08T16:00:21.951Z"
   },
   {
    "duration": 298,
    "start_time": "2024-11-08T16:00:22.297Z"
   },
   {
    "duration": 260,
    "start_time": "2024-11-08T16:00:22.597Z"
   },
   {
    "duration": 270,
    "start_time": "2024-11-08T16:00:22.859Z"
   },
   {
    "duration": 409,
    "start_time": "2024-11-08T16:00:23.131Z"
   },
   {
    "duration": 6,
    "start_time": "2024-11-08T16:00:23.542Z"
   },
   {
    "duration": 17,
    "start_time": "2024-11-08T16:00:23.549Z"
   },
   {
    "duration": 26,
    "start_time": "2024-11-08T16:00:23.567Z"
   },
   {
    "duration": 18,
    "start_time": "2024-11-08T16:00:23.595Z"
   },
   {
    "duration": 12,
    "start_time": "2024-11-08T16:00:23.615Z"
   },
   {
    "duration": 5,
    "start_time": "2024-11-08T16:00:23.629Z"
   },
   {
    "duration": 27,
    "start_time": "2024-11-08T16:00:23.635Z"
   },
   {
    "duration": 13,
    "start_time": "2024-11-08T16:00:23.663Z"
   },
   {
    "duration": 16,
    "start_time": "2024-11-08T16:00:23.678Z"
   },
   {
    "duration": 8,
    "start_time": "2024-11-08T16:00:23.695Z"
   },
   {
    "duration": 10,
    "start_time": "2024-11-08T16:00:23.705Z"
   },
   {
    "duration": 8,
    "start_time": "2024-11-08T16:00:23.717Z"
   },
   {
    "duration": 12,
    "start_time": "2024-11-08T16:00:23.727Z"
   },
   {
    "duration": 28,
    "start_time": "2024-11-08T16:00:23.741Z"
   },
   {
    "duration": 24,
    "start_time": "2024-11-08T16:00:23.771Z"
   },
   {
    "duration": 12,
    "start_time": "2024-11-08T16:00:23.796Z"
   },
   {
    "duration": 17,
    "start_time": "2024-11-08T16:00:23.811Z"
   },
   {
    "duration": 8,
    "start_time": "2024-11-08T16:00:23.830Z"
   },
   {
    "duration": 13,
    "start_time": "2024-11-08T16:00:23.839Z"
   },
   {
    "duration": 8,
    "start_time": "2024-11-08T16:00:23.855Z"
   },
   {
    "duration": 9,
    "start_time": "2024-11-08T16:00:23.866Z"
   },
   {
    "duration": 22,
    "start_time": "2024-11-08T16:00:23.877Z"
   },
   {
    "duration": 6,
    "start_time": "2024-11-08T16:00:23.901Z"
   },
   {
    "duration": 7,
    "start_time": "2024-11-08T16:00:23.921Z"
   },
   {
    "duration": 8,
    "start_time": "2024-11-08T16:00:23.929Z"
   },
   {
    "duration": 69,
    "start_time": "2024-11-08T16:00:23.939Z"
   },
   {
    "duration": 25,
    "start_time": "2024-11-08T16:00:24.010Z"
   },
   {
    "duration": 29,
    "start_time": "2024-11-08T16:00:24.040Z"
   },
   {
    "duration": 696,
    "start_time": "2024-11-08T16:00:24.071Z"
   },
   {
    "duration": 1190,
    "start_time": "2024-11-09T09:56:50.371Z"
   },
   {
    "duration": 4,
    "start_time": "2024-11-09T09:56:51.563Z"
   },
   {
    "duration": 71,
    "start_time": "2024-11-09T09:56:51.575Z"
   },
   {
    "duration": 18,
    "start_time": "2024-11-09T09:56:51.648Z"
   },
   {
    "duration": 12,
    "start_time": "2024-11-09T09:56:51.669Z"
   },
   {
    "duration": 5,
    "start_time": "2024-11-09T09:56:51.682Z"
   },
   {
    "duration": 3,
    "start_time": "2024-11-09T09:56:51.689Z"
   },
   {
    "duration": 37,
    "start_time": "2024-11-09T09:56:51.694Z"
   },
   {
    "duration": 12,
    "start_time": "2024-11-09T09:56:51.732Z"
   },
   {
    "duration": 41,
    "start_time": "2024-11-09T09:56:51.746Z"
   },
   {
    "duration": 10,
    "start_time": "2024-11-09T09:56:51.788Z"
   },
   {
    "duration": 4,
    "start_time": "2024-11-09T09:56:51.799Z"
   },
   {
    "duration": 21,
    "start_time": "2024-11-09T09:56:51.804Z"
   },
   {
    "duration": 5,
    "start_time": "2024-11-09T09:56:51.828Z"
   },
   {
    "duration": 54,
    "start_time": "2024-11-09T09:56:51.834Z"
   },
   {
    "duration": 6,
    "start_time": "2024-11-09T09:56:51.890Z"
   },
   {
    "duration": 7,
    "start_time": "2024-11-09T09:56:51.897Z"
   },
   {
    "duration": 6,
    "start_time": "2024-11-09T09:56:51.905Z"
   },
   {
    "duration": 3,
    "start_time": "2024-11-09T09:56:51.912Z"
   },
   {
    "duration": 15,
    "start_time": "2024-11-09T09:56:51.916Z"
   },
   {
    "duration": 13,
    "start_time": "2024-11-09T09:56:51.933Z"
   },
   {
    "duration": 30,
    "start_time": "2024-11-09T09:56:51.948Z"
   },
   {
    "duration": 9,
    "start_time": "2024-11-09T09:56:51.980Z"
   },
   {
    "duration": 27,
    "start_time": "2024-11-09T09:56:51.990Z"
   },
   {
    "duration": 27,
    "start_time": "2024-11-09T09:56:52.018Z"
   },
   {
    "duration": 57,
    "start_time": "2024-11-09T09:56:52.046Z"
   },
   {
    "duration": 10,
    "start_time": "2024-11-09T09:56:52.105Z"
   },
   {
    "duration": 6,
    "start_time": "2024-11-09T09:56:52.116Z"
   },
   {
    "duration": 135,
    "start_time": "2024-11-09T09:56:52.123Z"
   },
   {
    "duration": 5,
    "start_time": "2024-11-09T09:56:52.259Z"
   },
   {
    "duration": 5,
    "start_time": "2024-11-09T09:56:52.276Z"
   },
   {
    "duration": 124,
    "start_time": "2024-11-09T09:56:52.283Z"
   },
   {
    "duration": 116,
    "start_time": "2024-11-09T09:56:52.409Z"
   },
   {
    "duration": 5,
    "start_time": "2024-11-09T09:56:52.527Z"
   },
   {
    "duration": 5,
    "start_time": "2024-11-09T09:56:52.533Z"
   },
   {
    "duration": 37,
    "start_time": "2024-11-09T09:56:52.540Z"
   },
   {
    "duration": 4,
    "start_time": "2024-11-09T09:56:52.578Z"
   },
   {
    "duration": 13,
    "start_time": "2024-11-09T09:56:52.584Z"
   },
   {
    "duration": 439,
    "start_time": "2024-11-09T09:56:52.598Z"
   },
   {
    "duration": 570,
    "start_time": "2024-11-09T09:56:53.040Z"
   },
   {
    "duration": 1241,
    "start_time": "2024-11-09T09:56:53.615Z"
   },
   {
    "duration": 5,
    "start_time": "2024-11-09T09:56:54.858Z"
   },
   {
    "duration": 446,
    "start_time": "2024-11-09T09:56:54.875Z"
   },
   {
    "duration": 359,
    "start_time": "2024-11-09T09:56:55.323Z"
   },
   {
    "duration": 330,
    "start_time": "2024-11-09T09:56:55.684Z"
   },
   {
    "duration": 367,
    "start_time": "2024-11-09T09:56:56.016Z"
   },
   {
    "duration": 383,
    "start_time": "2024-11-09T09:56:56.384Z"
   },
   {
    "duration": 517,
    "start_time": "2024-11-09T09:56:56.769Z"
   },
   {
    "duration": 5,
    "start_time": "2024-11-09T09:56:57.288Z"
   },
   {
    "duration": 255,
    "start_time": "2024-11-09T09:56:57.295Z"
   },
   {
    "duration": 243,
    "start_time": "2024-11-09T09:56:57.552Z"
   },
   {
    "duration": 223,
    "start_time": "2024-11-09T09:56:57.797Z"
   },
   {
    "duration": 262,
    "start_time": "2024-11-09T09:56:58.022Z"
   },
   {
    "duration": 351,
    "start_time": "2024-11-09T09:56:58.286Z"
   },
   {
    "duration": 5,
    "start_time": "2024-11-09T09:56:58.639Z"
   },
   {
    "duration": 30,
    "start_time": "2024-11-09T09:56:58.646Z"
   },
   {
    "duration": 6,
    "start_time": "2024-11-09T09:56:58.678Z"
   },
   {
    "duration": 3,
    "start_time": "2024-11-09T09:56:58.686Z"
   },
   {
    "duration": 5,
    "start_time": "2024-11-09T09:56:58.690Z"
   },
   {
    "duration": 5,
    "start_time": "2024-11-09T09:56:58.696Z"
   },
   {
    "duration": 6,
    "start_time": "2024-11-09T09:56:58.703Z"
   },
   {
    "duration": 3,
    "start_time": "2024-11-09T09:56:58.711Z"
   },
   {
    "duration": 5,
    "start_time": "2024-11-09T09:56:58.715Z"
   },
   {
    "duration": 5,
    "start_time": "2024-11-09T09:56:58.722Z"
   },
   {
    "duration": 5,
    "start_time": "2024-11-09T09:56:58.728Z"
   },
   {
    "duration": 47,
    "start_time": "2024-11-09T09:56:58.734Z"
   },
   {
    "duration": 7,
    "start_time": "2024-11-09T09:56:58.783Z"
   },
   {
    "duration": 8,
    "start_time": "2024-11-09T09:56:58.791Z"
   },
   {
    "duration": 18,
    "start_time": "2024-11-09T09:56:58.800Z"
   },
   {
    "duration": 10,
    "start_time": "2024-11-09T09:56:58.819Z"
   },
   {
    "duration": 4,
    "start_time": "2024-11-09T09:56:58.831Z"
   },
   {
    "duration": 8,
    "start_time": "2024-11-09T09:56:58.836Z"
   },
   {
    "duration": 6,
    "start_time": "2024-11-09T09:56:58.845Z"
   },
   {
    "duration": 7,
    "start_time": "2024-11-09T09:56:58.852Z"
   },
   {
    "duration": 18,
    "start_time": "2024-11-09T09:56:58.860Z"
   },
   {
    "duration": 9,
    "start_time": "2024-11-09T09:56:58.879Z"
   },
   {
    "duration": 6,
    "start_time": "2024-11-09T09:56:58.890Z"
   },
   {
    "duration": 7,
    "start_time": "2024-11-09T09:56:58.897Z"
   },
   {
    "duration": 4,
    "start_time": "2024-11-09T09:56:58.906Z"
   },
   {
    "duration": 6,
    "start_time": "2024-11-09T09:56:58.911Z"
   },
   {
    "duration": 4,
    "start_time": "2024-11-09T09:56:58.918Z"
   },
   {
    "duration": 19,
    "start_time": "2024-11-09T09:56:58.924Z"
   },
   {
    "duration": 612,
    "start_time": "2024-11-09T09:56:58.944Z"
   }
  ],
  "kernelspec": {
   "display_name": "Python 3 (ipykernel)",
   "language": "python",
   "name": "python3"
  },
  "language_info": {
   "codemirror_mode": {
    "name": "ipython",
    "version": 3
   },
   "file_extension": ".py",
   "mimetype": "text/x-python",
   "name": "python",
   "nbconvert_exporter": "python",
   "pygments_lexer": "ipython3",
   "version": "3.11.7"
  },
  "toc": {
   "base_numbering": 1,
   "nav_menu": {},
   "number_sections": true,
   "sideBar": true,
   "skip_h1_title": true,
   "title_cell": "Table of Contents",
   "title_sidebar": "Contents",
   "toc_cell": false,
   "toc_position": {},
   "toc_section_display": true,
   "toc_window_display": false
  }
 },
 "nbformat": 4,
 "nbformat_minor": 4
}
